{
 "cells": [
  {
   "cell_type": "markdown",
   "metadata": {
    "collapsed": true,
    "pycharm": {
     "name": "#%% md\n"
    }
   },
   "source": [
    "## 주소에서 좌표 가져오기\n",
    "Google Geocoding\n",
    "- https://developers.google.com/maps/documentation/geocoding/overview\n",
    "- 1000 requests = 5 dollars\n",
    "\n",
    "https://geopy.readthedocs.io/en/stable/#accessing-geocoders\n",
    "- geo coders\n",
    "    - https://wiki.openstreetmap.org/wiki/Nominatim#Alternatives_.2F_Third-party_providers\n",
    "        - 직접 설치 가능(데이터는 받을 수 있고, 서버 비용만 지불하면 되는듯)\n",
    "- alternatives\n",
    "    - [geokeo](https://geokeo.com/geocoding-in-python.php) : free 2500 daily"
   ]
  },
  {
   "cell_type": "code",
   "execution_count": 13,
   "outputs": [
    {
     "ename": "AttributeError",
     "evalue": "'NoneType' object has no attribute 'latitude'",
     "output_type": "error",
     "traceback": [
      "\u001B[0;31m---------------------------------------------------------------------------\u001B[0m",
      "\u001B[0;31mAttributeError\u001B[0m                            Traceback (most recent call last)",
      "\u001B[0;32m/var/folders/09/41z2vqvd6473rxdcqkgyk8_814h7wb/T/ipykernel_8752/2571075336.py\u001B[0m in \u001B[0;36m<module>\u001B[0;34m\u001B[0m\n\u001B[1;32m     10\u001B[0m \u001B[0;31m# print(location.address)\u001B[0m\u001B[0;34m\u001B[0m\u001B[0;34m\u001B[0m\u001B[0;34m\u001B[0m\u001B[0m\n\u001B[1;32m     11\u001B[0m \u001B[0;31m# Flatiron Building, 175, 5th Avenue, Flatiron, New York, NYC, New York, ...\u001B[0m\u001B[0;34m\u001B[0m\u001B[0;34m\u001B[0m\u001B[0;34m\u001B[0m\u001B[0m\n\u001B[0;32m---> 12\u001B[0;31m \u001B[0mprint\u001B[0m\u001B[0;34m(\u001B[0m\u001B[0;34m(\u001B[0m\u001B[0mlocation\u001B[0m\u001B[0;34m.\u001B[0m\u001B[0mlatitude\u001B[0m\u001B[0;34m,\u001B[0m \u001B[0mlocation\u001B[0m\u001B[0;34m.\u001B[0m\u001B[0mlongitude\u001B[0m\u001B[0;34m)\u001B[0m\u001B[0;34m)\u001B[0m\u001B[0;34m\u001B[0m\u001B[0;34m\u001B[0m\u001B[0m\n\u001B[0m\u001B[1;32m     13\u001B[0m \u001B[0;31m# (40.7410861, -73.9896297241625)\u001B[0m\u001B[0;34m\u001B[0m\u001B[0;34m\u001B[0m\u001B[0;34m\u001B[0m\u001B[0m\n",
      "\u001B[0;31mAttributeError\u001B[0m: 'NoneType' object has no attribute 'latitude'"
     ]
    }
   ],
   "source": [
    "from geopy.geocoders import Nominatim\n",
    "import geopy\n",
    "geopy.geocoders.options.default_user_agent = 'my_app/2'\n",
    "geopy.geocoders.options.default_timeout = 7\n",
    "geolocator = Nominatim()\n",
    "# from geopy.geocoders import GoogleV3\n",
    "# geolocator = GoogleV3()\n",
    "\n",
    "location = geolocator.geocode(\"nandithane, opp bhagirati, chave road, Bhiwandi, Mahapoli\")\n",
    "print(location.address)\n",
    "# Flatiron Building, 175, 5th Avenue, Flatiron, New York, NYC, New York, ...\n",
    "print((location.latitude, location.longitude))\n",
    "# (40.7410861, -73.9896297241625)"
   ],
   "metadata": {
    "collapsed": false,
    "pycharm": {
     "name": "#%%\n"
    }
   }
  },
  {
   "cell_type": "code",
   "execution_count": 5,
   "outputs": [
    {
     "name": "stdout",
     "output_type": "stream",
     "text": [
      "[Location(Tughlakabad, Kalkaji Tehsil, South East Delhi, Delhi, SUNPAT HOUSE VILLAGE, India, (28.51992182548697, 77.25696920227668, 0.0))]\n"
     ]
    }
   ],
   "source": [
    "\n",
    "from geopy.geocoders import Nominatim\n",
    "\n",
    "locator = Nominatim(timeout=10, user_agent='my_app/2')\n",
    "coordinates = \"28.52000,77.25700\"\n",
    "location = locator.reverse(coordinates, exactly_one=False)\n",
    "print(location)\n",
    "# print(location.address)"
   ],
   "metadata": {
    "collapsed": false,
    "pycharm": {
     "name": "#%%\n"
    }
   }
  },
  {
   "cell_type": "code",
   "execution_count": 18,
   "outputs": [
    {
     "name": "stdout",
     "output_type": "stream",
     "text": [
      "[Location(1st Street, Govindpuri, -, Delhi, India, (28.5257085, 77.2576551, 0.0))]\n"
     ]
    }
   ],
   "source": [
    "from geopy.geocoders import OpenCage\n",
    "# opencagedata.com\n",
    "locator = OpenCage(\"key\")\n",
    "coordinates = \"28.52569,77.25774\"\n",
    "location = locator.reverse(coordinates, exactly_one=False)\n",
    "print(location)"
   ],
   "metadata": {
    "collapsed": false,
    "pycharm": {
     "name": "#%%\n"
    }
   }
  },
  {
   "cell_type": "code",
   "execution_count": 19,
   "outputs": [
    {
     "name": "stdout",
     "output_type": "stream",
     "text": [
      "[Location(1st Street, SUNPAT HOUSE VILLAGE, Delhi, India, (28.5262488, 77.2577726, 0.0))]\n"
     ]
    }
   ],
   "source": [
    "from geopy.geocoders import Photon\n",
    "\n",
    "locator = Photon()\n",
    "coordinates = \"28.52569,77.25774\"\n",
    "location = locator.reverse(coordinates, exactly_one=False)\n",
    "print(location)"
   ],
   "metadata": {
    "collapsed": false,
    "pycharm": {
     "name": "#%%\n"
    }
   }
  },
  {
   "cell_type": "code",
   "execution_count": 8,
   "outputs": [],
   "source": [
    "import requests\n",
    "\n",
    "def call_api(key, lat, lng):\n",
    "    response = requests.get(f\"https://geokeo.com/geocode/v1/reverse.php?lat={lat}&lng={lng}&api={key}\")\n",
    "    return response.json()\n",
    "\n",
    "result = call_api(\"key\", 28.52000, 77.25700)"
   ],
   "metadata": {
    "collapsed": false,
    "pycharm": {
     "name": "#%%\n"
    }
   }
  }
 ],
 "metadata": {
  "kernelspec": {
   "display_name": "Python 3",
   "language": "python",
   "name": "python3"
  },
  "language_info": {
   "codemirror_mode": {
    "name": "ipython",
    "version": 2
   },
   "file_extension": ".py",
   "mimetype": "text/x-python",
   "name": "python",
   "nbconvert_exporter": "python",
   "pygments_lexer": "ipython2",
   "version": "2.7.6"
  }
 },
 "nbformat": 4,
 "nbformat_minor": 0
}