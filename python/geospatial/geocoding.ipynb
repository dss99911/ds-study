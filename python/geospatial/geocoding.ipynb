{
 "cells": [
  {
   "cell_type": "markdown",
   "metadata": {
    "collapsed": true,
    "pycharm": {
     "name": "#%% md\n"
    }
   },
   "source": [
    "## 주소에서 좌표 가져오기\n",
    "Google Geocoding\n",
    "- https://developers.google.com/maps/documentation/geocoding/overview\n",
    "- 1000 requests = 5 dollars\n",
    "\n",
    "https://geopy.readthedocs.io/en/stable/#accessing-geocoders\n",
    "- geo coders\n",
    "    - https://wiki.openstreetmap.org/wiki/Nominatim#Alternatives_.2F_Third-party_providers\n",
    "        - 직접 설치 가능(데이터는 받을 수 있고, 서버 비용만 지불하면 되는듯)\n",
    "- alternatives\n",
    "    - [geokeo](https://geokeo.com/geocoding-in-python.php) : free 2500 daily\n",
    "    - [trueway](https://rapidapi.com/trueway/api/trueway-geocoding/) : free 1000 daily\n",
    "        - 다른 무료 api들과 비교했을 때, 더 정확한 경우가 있었음"
   ]
  },
  {
   "cell_type": "code",
   "execution_count": 3,
   "outputs": [
    {
     "ename": "AttributeError",
     "evalue": "'NoneType' object has no attribute 'address'",
     "output_type": "error",
     "traceback": [
      "\u001B[0;31m---------------------------------------------------------------------------\u001B[0m",
      "\u001B[0;31mAttributeError\u001B[0m                            Traceback (most recent call last)",
      "\u001B[0;32m/var/folders/09/41z2vqvd6473rxdcqkgyk8_814h7wb/T/ipykernel_93761/3079492237.py\u001B[0m in \u001B[0;36m<module>\u001B[0;34m\u001B[0m\n\u001B[1;32m      9\u001B[0m \u001B[0;31m# location = geolocator.geocode(\"nandithane, opp bhagirati, chave road, Bhiwandi, Mahapoli\")\u001B[0m\u001B[0;34m\u001B[0m\u001B[0;34m\u001B[0m\u001B[0;34m\u001B[0m\u001B[0m\n\u001B[1;32m     10\u001B[0m \u001B[0mlocation\u001B[0m \u001B[0;34m=\u001B[0m \u001B[0mgeolocator\u001B[0m\u001B[0;34m.\u001B[0m\u001B[0mgeocode\u001B[0m\u001B[0;34m(\u001B[0m\u001B[0;34m\"india 110097\"\u001B[0m\u001B[0;34m)\u001B[0m\u001B[0;34m\u001B[0m\u001B[0;34m\u001B[0m\u001B[0m\n\u001B[0;32m---> 11\u001B[0;31m \u001B[0mprint\u001B[0m\u001B[0;34m(\u001B[0m\u001B[0mlocation\u001B[0m\u001B[0;34m.\u001B[0m\u001B[0maddress\u001B[0m\u001B[0;34m)\u001B[0m\u001B[0;34m\u001B[0m\u001B[0;34m\u001B[0m\u001B[0m\n\u001B[0m\u001B[1;32m     12\u001B[0m \u001B[0;31m# Flatiron Building, 175, 5th Avenue, Flatiron, New York, NYC, New York, ...\u001B[0m\u001B[0;34m\u001B[0m\u001B[0;34m\u001B[0m\u001B[0;34m\u001B[0m\u001B[0m\n\u001B[1;32m     13\u001B[0m \u001B[0mprint\u001B[0m\u001B[0;34m(\u001B[0m\u001B[0;34m(\u001B[0m\u001B[0mlocation\u001B[0m\u001B[0;34m.\u001B[0m\u001B[0mlatitude\u001B[0m\u001B[0;34m,\u001B[0m \u001B[0mlocation\u001B[0m\u001B[0;34m.\u001B[0m\u001B[0mlongitude\u001B[0m\u001B[0;34m)\u001B[0m\u001B[0;34m)\u001B[0m\u001B[0;34m\u001B[0m\u001B[0;34m\u001B[0m\u001B[0m\n",
      "\u001B[0;31mAttributeError\u001B[0m: 'NoneType' object has no attribute 'address'"
     ]
    }
   ],
   "source": [
    "from geopy.geocoders import Nominatim\n",
    "import geopy\n",
    "geopy.geocoders.options.default_user_agent = 'my_app/2'\n",
    "geopy.geocoders.options.default_timeout = 7\n",
    "geolocator = Nominatim()\n",
    "# from geopy.geocoders import GoogleV3\n",
    "# geolocator = GoogleV3()\n",
    "\n",
    "# location = geolocator.geocode(\"nandithane, opp bhagirati, chave road, Bhiwandi, Mahapoli\")\n",
    "location = geolocator.geocode(\"india 110097\")\n",
    "print(location.address)\n",
    "# Flatiron Building, 175, 5th Avenue, Flatiron, New York, NYC, New York, ...\n",
    "print((location.latitude, location.longitude))\n",
    "# (40.7410861, -73.9896297241625)"
   ],
   "metadata": {
    "collapsed": false,
    "pycharm": {
     "name": "#%%\n"
    }
   }
  },
  {
   "cell_type": "code",
   "execution_count": 5,
   "outputs": [
    {
     "name": "stdout",
     "output_type": "stream",
     "text": [
      "[Location(Tughlakabad, Kalkaji Tehsil, South East Delhi, Delhi, SUNPAT HOUSE VILLAGE, India, (28.51992182548697, 77.25696920227668, 0.0))]\n"
     ]
    }
   ],
   "source": [
    "\n",
    "from geopy.geocoders import Nominatim\n",
    "\n",
    "locator = Nominatim(timeout=10, user_agent='my_app/2')\n",
    "coordinates = \"28.52000,77.25700\"\n",
    "location = locator.reverse(coordinates, exactly_one=False)\n",
    "print(location)\n",
    "# print(location.address)"
   ],
   "metadata": {
    "collapsed": false,
    "pycharm": {
     "name": "#%%\n"
    }
   }
  },
  {
   "cell_type": "code",
   "execution_count": 4,
   "outputs": [
    {
     "ename": "GeocoderAuthenticationFailure",
     "evalue": "Non-successful status code 401",
     "output_type": "error",
     "traceback": [
      "\u001B[0;31m---------------------------------------------------------------------------\u001B[0m",
      "\u001B[0;31mAdapterHTTPError\u001B[0m                          Traceback (most recent call last)",
      "\u001B[0;32m~/anaconda3/envs/spark-study2/lib/python3.9/site-packages/geopy/geocoders/base.py\u001B[0m in \u001B[0;36m_call_geocoder\u001B[0;34m(self, url, callback, timeout, is_json, headers)\u001B[0m\n\u001B[1;32m    367\u001B[0m             \u001B[0;32mif\u001B[0m \u001B[0mis_json\u001B[0m\u001B[0;34m:\u001B[0m\u001B[0;34m\u001B[0m\u001B[0;34m\u001B[0m\u001B[0m\n\u001B[0;32m--> 368\u001B[0;31m                 \u001B[0mresult\u001B[0m \u001B[0;34m=\u001B[0m \u001B[0mself\u001B[0m\u001B[0;34m.\u001B[0m\u001B[0madapter\u001B[0m\u001B[0;34m.\u001B[0m\u001B[0mget_json\u001B[0m\u001B[0;34m(\u001B[0m\u001B[0murl\u001B[0m\u001B[0;34m,\u001B[0m \u001B[0mtimeout\u001B[0m\u001B[0;34m=\u001B[0m\u001B[0mtimeout\u001B[0m\u001B[0;34m,\u001B[0m \u001B[0mheaders\u001B[0m\u001B[0;34m=\u001B[0m\u001B[0mreq_headers\u001B[0m\u001B[0;34m)\u001B[0m\u001B[0;34m\u001B[0m\u001B[0;34m\u001B[0m\u001B[0m\n\u001B[0m\u001B[1;32m    369\u001B[0m             \u001B[0;32melse\u001B[0m\u001B[0;34m:\u001B[0m\u001B[0;34m\u001B[0m\u001B[0;34m\u001B[0m\u001B[0m\n",
      "\u001B[0;32m~/anaconda3/envs/spark-study2/lib/python3.9/site-packages/geopy/adapters.py\u001B[0m in \u001B[0;36mget_json\u001B[0;34m(self, url, timeout, headers)\u001B[0m\n\u001B[1;32m    437\u001B[0m     \u001B[0;32mdef\u001B[0m \u001B[0mget_json\u001B[0m\u001B[0;34m(\u001B[0m\u001B[0mself\u001B[0m\u001B[0;34m,\u001B[0m \u001B[0murl\u001B[0m\u001B[0;34m,\u001B[0m \u001B[0;34m*\u001B[0m\u001B[0;34m,\u001B[0m \u001B[0mtimeout\u001B[0m\u001B[0;34m,\u001B[0m \u001B[0mheaders\u001B[0m\u001B[0;34m)\u001B[0m\u001B[0;34m:\u001B[0m\u001B[0;34m\u001B[0m\u001B[0;34m\u001B[0m\u001B[0m\n\u001B[0;32m--> 438\u001B[0;31m         \u001B[0mresp\u001B[0m \u001B[0;34m=\u001B[0m \u001B[0mself\u001B[0m\u001B[0;34m.\u001B[0m\u001B[0m_request\u001B[0m\u001B[0;34m(\u001B[0m\u001B[0murl\u001B[0m\u001B[0;34m,\u001B[0m \u001B[0mtimeout\u001B[0m\u001B[0;34m=\u001B[0m\u001B[0mtimeout\u001B[0m\u001B[0;34m,\u001B[0m \u001B[0mheaders\u001B[0m\u001B[0;34m=\u001B[0m\u001B[0mheaders\u001B[0m\u001B[0;34m)\u001B[0m\u001B[0;34m\u001B[0m\u001B[0;34m\u001B[0m\u001B[0m\n\u001B[0m\u001B[1;32m    439\u001B[0m         \u001B[0;32mtry\u001B[0m\u001B[0;34m:\u001B[0m\u001B[0;34m\u001B[0m\u001B[0;34m\u001B[0m\u001B[0m\n",
      "\u001B[0;32m~/anaconda3/envs/spark-study2/lib/python3.9/site-packages/geopy/adapters.py\u001B[0m in \u001B[0;36m_request\u001B[0;34m(self, url, timeout, headers)\u001B[0m\n\u001B[1;32m    465\u001B[0m             \u001B[0;32mif\u001B[0m \u001B[0mresp\u001B[0m\u001B[0;34m.\u001B[0m\u001B[0mstatus_code\u001B[0m \u001B[0;34m>=\u001B[0m \u001B[0;36m400\u001B[0m\u001B[0;34m:\u001B[0m\u001B[0;34m\u001B[0m\u001B[0;34m\u001B[0m\u001B[0m\n\u001B[0;32m--> 466\u001B[0;31m                 raise AdapterHTTPError(\n\u001B[0m\u001B[1;32m    467\u001B[0m                     \u001B[0;34m\"Non-successful status code %s\"\u001B[0m \u001B[0;34m%\u001B[0m \u001B[0mresp\u001B[0m\u001B[0;34m.\u001B[0m\u001B[0mstatus_code\u001B[0m\u001B[0;34m,\u001B[0m\u001B[0;34m\u001B[0m\u001B[0;34m\u001B[0m\u001B[0m\n",
      "\u001B[0;31mAdapterHTTPError\u001B[0m: Non-successful status code 401",
      "\nThe above exception was the direct cause of the following exception:\n",
      "\u001B[0;31mGeocoderAuthenticationFailure\u001B[0m             Traceback (most recent call last)",
      "\u001B[0;32m/var/folders/09/41z2vqvd6473rxdcqkgyk8_814h7wb/T/ipykernel_93761/901593428.py\u001B[0m in \u001B[0;36m<module>\u001B[0;34m\u001B[0m\n\u001B[1;32m      3\u001B[0m \u001B[0mlocator\u001B[0m \u001B[0;34m=\u001B[0m \u001B[0mOpenCage\u001B[0m\u001B[0;34m(\u001B[0m\u001B[0;34m\"key\"\u001B[0m\u001B[0;34m)\u001B[0m\u001B[0;34m\u001B[0m\u001B[0;34m\u001B[0m\u001B[0m\n\u001B[1;32m      4\u001B[0m \u001B[0;31m# coordinates = \"28.52569,77.25774\"\u001B[0m\u001B[0;34m\u001B[0m\u001B[0;34m\u001B[0m\u001B[0;34m\u001B[0m\u001B[0m\n\u001B[0;32m----> 5\u001B[0;31m \u001B[0mprint\u001B[0m\u001B[0;34m(\u001B[0m\u001B[0mlocator\u001B[0m\u001B[0;34m.\u001B[0m\u001B[0mgeocode\u001B[0m\u001B[0;34m(\u001B[0m\u001B[0;34m\"india 110097\"\u001B[0m\u001B[0;34m)\u001B[0m\u001B[0;34m)\u001B[0m\u001B[0;34m\u001B[0m\u001B[0;34m\u001B[0m\u001B[0m\n\u001B[0m\u001B[1;32m      6\u001B[0m \u001B[0;31m# location = locator.reverse(coordinates, exactly_one=False)\u001B[0m\u001B[0;34m\u001B[0m\u001B[0;34m\u001B[0m\u001B[0;34m\u001B[0m\u001B[0m\n\u001B[1;32m      7\u001B[0m \u001B[0mprint\u001B[0m\u001B[0;34m(\u001B[0m\u001B[0mlocation\u001B[0m\u001B[0;34m)\u001B[0m\u001B[0;34m\u001B[0m\u001B[0;34m\u001B[0m\u001B[0m\n",
      "\u001B[0;32m~/anaconda3/envs/spark-study2/lib/python3.9/site-packages/geopy/geocoders/opencage.py\u001B[0m in \u001B[0;36mgeocode\u001B[0;34m(self, query, bounds, country, language, annotations, exactly_one, timeout)\u001B[0m\n\u001B[1;32m    158\u001B[0m         \u001B[0mlogger\u001B[0m\u001B[0;34m.\u001B[0m\u001B[0mdebug\u001B[0m\u001B[0;34m(\u001B[0m\u001B[0;34m\"%s.geocode: %s\"\u001B[0m\u001B[0;34m,\u001B[0m \u001B[0mself\u001B[0m\u001B[0;34m.\u001B[0m\u001B[0m__class__\u001B[0m\u001B[0;34m.\u001B[0m\u001B[0m__name__\u001B[0m\u001B[0;34m,\u001B[0m \u001B[0murl\u001B[0m\u001B[0;34m)\u001B[0m\u001B[0;34m\u001B[0m\u001B[0;34m\u001B[0m\u001B[0m\n\u001B[1;32m    159\u001B[0m         \u001B[0mcallback\u001B[0m \u001B[0;34m=\u001B[0m \u001B[0mpartial\u001B[0m\u001B[0;34m(\u001B[0m\u001B[0mself\u001B[0m\u001B[0;34m.\u001B[0m\u001B[0m_parse_json\u001B[0m\u001B[0;34m,\u001B[0m \u001B[0mexactly_one\u001B[0m\u001B[0;34m=\u001B[0m\u001B[0mexactly_one\u001B[0m\u001B[0;34m)\u001B[0m\u001B[0;34m\u001B[0m\u001B[0;34m\u001B[0m\u001B[0m\n\u001B[0;32m--> 160\u001B[0;31m         \u001B[0;32mreturn\u001B[0m \u001B[0mself\u001B[0m\u001B[0;34m.\u001B[0m\u001B[0m_call_geocoder\u001B[0m\u001B[0;34m(\u001B[0m\u001B[0murl\u001B[0m\u001B[0;34m,\u001B[0m \u001B[0mcallback\u001B[0m\u001B[0;34m,\u001B[0m \u001B[0mtimeout\u001B[0m\u001B[0;34m=\u001B[0m\u001B[0mtimeout\u001B[0m\u001B[0;34m)\u001B[0m\u001B[0;34m\u001B[0m\u001B[0;34m\u001B[0m\u001B[0m\n\u001B[0m\u001B[1;32m    161\u001B[0m \u001B[0;34m\u001B[0m\u001B[0m\n\u001B[1;32m    162\u001B[0m     def reverse(\n",
      "\u001B[0;32m~/anaconda3/envs/spark-study2/lib/python3.9/site-packages/geopy/geocoders/base.py\u001B[0m in \u001B[0;36m_call_geocoder\u001B[0;34m(self, url, callback, timeout, is_json, headers)\u001B[0m\n\u001B[1;32m    386\u001B[0m                 \u001B[0;32mreturn\u001B[0m \u001B[0mcallback\u001B[0m\u001B[0;34m(\u001B[0m\u001B[0mresult\u001B[0m\u001B[0;34m)\u001B[0m\u001B[0;34m\u001B[0m\u001B[0;34m\u001B[0m\u001B[0m\n\u001B[1;32m    387\u001B[0m         \u001B[0;32mexcept\u001B[0m \u001B[0mException\u001B[0m \u001B[0;32mas\u001B[0m \u001B[0merror\u001B[0m\u001B[0;34m:\u001B[0m\u001B[0;34m\u001B[0m\u001B[0;34m\u001B[0m\u001B[0m\n\u001B[0;32m--> 388\u001B[0;31m             \u001B[0mres\u001B[0m \u001B[0;34m=\u001B[0m \u001B[0mself\u001B[0m\u001B[0;34m.\u001B[0m\u001B[0m_adapter_error_handler\u001B[0m\u001B[0;34m(\u001B[0m\u001B[0merror\u001B[0m\u001B[0;34m)\u001B[0m\u001B[0;34m\u001B[0m\u001B[0;34m\u001B[0m\u001B[0m\n\u001B[0m\u001B[1;32m    389\u001B[0m             \u001B[0;32mif\u001B[0m \u001B[0mres\u001B[0m \u001B[0;32mis\u001B[0m \u001B[0mNONE_RESULT\u001B[0m\u001B[0;34m:\u001B[0m\u001B[0;34m\u001B[0m\u001B[0;34m\u001B[0m\u001B[0m\n\u001B[1;32m    390\u001B[0m                 \u001B[0;32mreturn\u001B[0m \u001B[0;32mNone\u001B[0m\u001B[0;34m\u001B[0m\u001B[0;34m\u001B[0m\u001B[0m\n",
      "\u001B[0;32m~/anaconda3/envs/spark-study2/lib/python3.9/site-packages/geopy/geocoders/base.py\u001B[0m in \u001B[0;36m_adapter_error_handler\u001B[0;34m(self, error)\u001B[0m\n\u001B[1;32m    409\u001B[0m                 ) from error\n\u001B[1;32m    410\u001B[0m             \u001B[0;32melse\u001B[0m\u001B[0;34m:\u001B[0m\u001B[0;34m\u001B[0m\u001B[0;34m\u001B[0m\u001B[0m\n\u001B[0;32m--> 411\u001B[0;31m                 \u001B[0;32mraise\u001B[0m \u001B[0mexc_cls\u001B[0m\u001B[0;34m(\u001B[0m\u001B[0mstr\u001B[0m\u001B[0;34m(\u001B[0m\u001B[0merror\u001B[0m\u001B[0;34m)\u001B[0m\u001B[0;34m)\u001B[0m \u001B[0;32mfrom\u001B[0m \u001B[0merror\u001B[0m\u001B[0;34m\u001B[0m\u001B[0;34m\u001B[0m\u001B[0m\n\u001B[0m\u001B[1;32m    412\u001B[0m         \u001B[0;32melse\u001B[0m\u001B[0;34m:\u001B[0m\u001B[0;34m\u001B[0m\u001B[0;34m\u001B[0m\u001B[0m\n\u001B[1;32m    413\u001B[0m             \u001B[0mres\u001B[0m \u001B[0;34m=\u001B[0m \u001B[0mself\u001B[0m\u001B[0;34m.\u001B[0m\u001B[0m_geocoder_exception_handler\u001B[0m\u001B[0;34m(\u001B[0m\u001B[0merror\u001B[0m\u001B[0;34m)\u001B[0m\u001B[0;34m\u001B[0m\u001B[0;34m\u001B[0m\u001B[0m\n",
      "\u001B[0;31mGeocoderAuthenticationFailure\u001B[0m: Non-successful status code 401"
     ]
    }
   ],
   "source": [
    "from geopy.geocoders import OpenCage\n",
    "# opencagedata.com\n",
    "locator = OpenCage(\"key\")\n",
    "coordinates = \"28.52569,77.25774\"\n",
    "location = locator.reverse(coordinates, exactly_one=False)\n",
    "print(location)"
   ],
   "metadata": {
    "collapsed": false,
    "pycharm": {
     "name": "#%%\n"
    }
   }
  },
  {
   "cell_type": "code",
   "execution_count": 5,
   "outputs": [
    {
     "name": "stdout",
     "output_type": "stream",
     "text": [
      "[Location(1st Street, SUNPAT HOUSE VILLAGE, Delhi, India, (28.5262488, 77.2577726, 0.0))]\n",
      "Indiana, United States\n"
     ]
    }
   ],
   "source": [
    "from geopy.geocoders import Photon\n",
    "\n",
    "locator = Photon()\n",
    "coordinates = \"28.52569,77.25774\"\n",
    "location = locator.reverse(coordinates, exactly_one=False)\n",
    "print(location)\n",
    "print(locator.geocode(\"india 110097\"))"
   ],
   "metadata": {
    "collapsed": false,
    "pycharm": {
     "name": "#%%\n"
    }
   }
  },
  {
   "cell_type": "code",
   "execution_count": 8,
   "outputs": [],
   "source": [
    "import requests\n",
    "\n",
    "def call_api_geokeo(key, lat, lng):\n",
    "    response = requests.get(f\"https://geokeo.com/geocode/v1/reverse.php?lat={lat}&lng={lng}&api={key}\")\n",
    "    return response.json()\n",
    "\n",
    "result = call_api(\"key\", 28.52000, 77.25700)"
   ],
   "metadata": {
    "collapsed": false,
    "pycharm": {
     "name": "#%%\n"
    }
   }
  },
  {
   "cell_type": "code",
   "execution_count": 1,
   "outputs": [
    {
     "name": "stdout",
     "output_type": "stream",
     "text": [
      "{'results': [{'address': 'R-Z-1713, Block-Rz, Tughlakabad Extension, Tughlakabad, New Delhi, Delhi 110019, India', 'postal_code': '110019', 'country': 'India', 'region': 'Delhi', 'area': 'South East Delhi', 'locality': 'New Delhi', 'sublocality': 'Block-Rz', 'location': {'lat': 28.520005, 'lng': 77.257035}, 'location_type': 'exact', 'type': 'street_address'}, {'address': '01, Tughlakabad Extension, Tughlakabad, New Delhi, Delhi 110019, India', 'postal_code': '110019', 'country': 'India', 'region': 'Delhi', 'area': 'South East Delhi', 'locality': 'New Delhi', 'sublocality': 'Tughlakabad Extension', 'location': {'lat': 28.519945, 'lng': 77.256985}, 'location_type': 'exact', 'type': 'poi'}, {'address': 'G794+XR New Delhi, Delhi, India', 'country': 'India', 'region': 'Delhi', 'locality': 'New Delhi', 'location': {'lat': 28.519983, 'lng': 77.257015}, 'location_type': 'centroid', 'type': 'poi'}, {'address': 'Street Number 27, Tughlakabad Extension, Tughlakabad, New Delhi, Delhi 110044, India', 'postal_code': '110044', 'country': 'India', 'region': 'Delhi', 'area': 'South Delhi', 'locality': 'New Delhi', 'sublocality': 'Tughlakabad Extension', 'street': 'Street Number 27', 'location': {'lat': 28.519873, 'lng': 77.257088}, 'location_type': 'centroid', 'type': 'route'}, {'address': 'Tughlakabad Extension, Tughlakabad, New Delhi, Delhi, India', 'country': 'India', 'region': 'Delhi', 'area': 'South Delhi', 'locality': 'New Delhi', 'sublocality': 'Tughlakabad Extension', 'location': {'lat': 28.520515, 'lng': 77.257069}, 'location_type': 'approximate', 'type': 'admin_area'}]}\n"
     ]
    }
   ],
   "source": [
    "import requests\n",
    "\n",
    "def call_api_trueway(key, lat, lng):\n",
    "    url = \"https://trueway-geocoding.p.rapidapi.com/ReverseGeocode\"\n",
    "    querystring = {\"location\":f\"{lat},{lng}\",\"language\":\"en\"}\n",
    "\n",
    "    headers = {\n",
    "        \"X-RapidAPI-Host\": \"trueway-geocoding.p.rapidapi.com\",\n",
    "        \"X-RapidAPI-Key\": key\n",
    "    }\n",
    "\n",
    "    response = requests.request(\"GET\", url, headers=headers, params=querystring)\n",
    "    return response.json()\n",
    "\n",
    "print(call_api_trueway(\"key\", 28.52000, 77.25700))"
   ],
   "metadata": {
    "collapsed": false,
    "pycharm": {
     "name": "#%%\n"
    }
   }
  }
 ],
 "metadata": {
  "kernelspec": {
   "display_name": "Python 3",
   "language": "python",
   "name": "python3"
  },
  "language_info": {
   "codemirror_mode": {
    "name": "ipython",
    "version": 2
   },
   "file_extension": ".py",
   "mimetype": "text/x-python",
   "name": "python",
   "nbconvert_exporter": "python",
   "pygments_lexer": "ipython2",
   "version": "2.7.6"
  }
 },
 "nbformat": 4,
 "nbformat_minor": 0
}