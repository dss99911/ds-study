{
 "cells": [
  {
   "cell_type": "markdown",
   "metadata": {
    "collapsed": true,
    "pycharm": {
     "name": "#%% md\n"
    }
   },
   "source": [
    "## 주소에서 좌표 가져오기\n",
    "Google Geocoding\n",
    "- https://developers.google.com/maps/documentation/geocoding/overview\n",
    "- 1000 requests = 5 dollars\n",
    "\n",
    "https://geopy.readthedocs.io/en/stable/#accessing-geocoders\n",
    "- geo coders\n",
    "    - https://wiki.openstreetmap.org/wiki/Nominatim#Alternatives_.2F_Third-party_providers\n",
    "        - 직접 설치 가능(데이터는 받을 수 있고, 서버 비용만 지불하면 되는듯)\n",
    "- alternatives\n",
    "    - [geokeo](https://geokeo.com/geocoding-in-python.php) : free 2500 daily"
   ]
  },
  {
   "cell_type": "code",
   "execution_count": 13,
   "outputs": [
    {
     "ename": "AttributeError",
     "evalue": "'NoneType' object has no attribute 'latitude'",
     "output_type": "error",
     "traceback": [
      "\u001B[0;31m---------------------------------------------------------------------------\u001B[0m",
      "\u001B[0;31mAttributeError\u001B[0m                            Traceback (most recent call last)",
      "\u001B[0;32m/var/folders/09/41z2vqvd6473rxdcqkgyk8_814h7wb/T/ipykernel_8752/2571075336.py\u001B[0m in \u001B[0;36m<module>\u001B[0;34m\u001B[0m\n\u001B[1;32m     10\u001B[0m \u001B[0;31m# print(location.address)\u001B[0m\u001B[0;34m\u001B[0m\u001B[0;34m\u001B[0m\u001B[0;34m\u001B[0m\u001B[0m\n\u001B[1;32m     11\u001B[0m \u001B[0;31m# Flatiron Building, 175, 5th Avenue, Flatiron, New York, NYC, New York, ...\u001B[0m\u001B[0;34m\u001B[0m\u001B[0;34m\u001B[0m\u001B[0;34m\u001B[0m\u001B[0m\n\u001B[0;32m---> 12\u001B[0;31m \u001B[0mprint\u001B[0m\u001B[0;34m(\u001B[0m\u001B[0;34m(\u001B[0m\u001B[0mlocation\u001B[0m\u001B[0;34m.\u001B[0m\u001B[0mlatitude\u001B[0m\u001B[0;34m,\u001B[0m \u001B[0mlocation\u001B[0m\u001B[0;34m.\u001B[0m\u001B[0mlongitude\u001B[0m\u001B[0;34m)\u001B[0m\u001B[0;34m)\u001B[0m\u001B[0;34m\u001B[0m\u001B[0;34m\u001B[0m\u001B[0m\n\u001B[0m\u001B[1;32m     13\u001B[0m \u001B[0;31m# (40.7410861, -73.9896297241625)\u001B[0m\u001B[0;34m\u001B[0m\u001B[0;34m\u001B[0m\u001B[0;34m\u001B[0m\u001B[0m\n",
      "\u001B[0;31mAttributeError\u001B[0m: 'NoneType' object has no attribute 'latitude'"
     ]
    }
   ],
   "source": [
    "from geopy.geocoders import Nominatim\n",
    "import geopy\n",
    "geopy.geocoders.options.default_user_agent = 'my_app/2'\n",
    "geopy.geocoders.options.default_timeout = 7\n",
    "geolocator = Nominatim()\n",
    "# from geopy.geocoders import GoogleV3\n",
    "# geolocator = GoogleV3()\n",
    "\n",
    "location = geolocator.geocode(\"nandithane, opp bhagirati, chave road, Bhiwandi, Mahapoli\")\n",
    "print(location.address)\n",
    "# Flatiron Building, 175, 5th Avenue, Flatiron, New York, NYC, New York, ...\n",
    "print((location.latitude, location.longitude))\n",
    "# (40.7410861, -73.9896297241625)"
   ],
   "metadata": {
    "collapsed": false,
    "pycharm": {
     "name": "#%%\n"
    }
   }
  },
  {
   "cell_type": "code",
   "execution_count": 17,
   "outputs": [
    {
     "name": "stdout",
     "output_type": "stream",
     "text": [
      "28.667828355558157 77.2060536546698\n",
      "Civil Lines Tehsil, Central Delhi, Delhi, 110007, India\n"
     ]
    }
   ],
   "source": [
    "\n",
    "from geopy.geocoders import Nominatim\n",
    "\n",
    "locator = Nominatim(timeout=10, user_agent='my_app/2')\n",
    "coordinates = \"28.6676801, 77.2061974\"\n",
    "location = locator.reverse(coordinates)\n",
    "print(location.latitude, location.longitude)\n",
    "print(location.address)"
   ],
   "metadata": {
    "collapsed": false,
    "pycharm": {
     "name": "#%%\n"
    }
   }
  }
 ],
 "metadata": {
  "kernelspec": {
   "display_name": "Python 3",
   "language": "python",
   "name": "python3"
  },
  "language_info": {
   "codemirror_mode": {
    "name": "ipython",
    "version": 2
   },
   "file_extension": ".py",
   "mimetype": "text/x-python",
   "name": "python",
   "nbconvert_exporter": "python",
   "pygments_lexer": "ipython2",
   "version": "2.7.6"
  }
 },
 "nbformat": 4,
 "nbformat_minor": 0
}