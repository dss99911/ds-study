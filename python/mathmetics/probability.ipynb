{
 "cells": [
  {
   "cell_type": "markdown",
   "metadata": {
    "collapsed": true,
    "pycharm": {
     "name": "#%% md\n"
    }
   },
   "source": [
    "# 순열(Permutation)\n",
    "n개 중 r개를 선택할 때, 발생할 수 있는 순서의 경우의 수\n",
    "- $_nP_r = n(n-1)(n-2)\\cdots(n-r+1) = \\frac{n!}{(n-r)!}$\n",
    "\n",
    "- $_nP_n = n!$\n",
    "- $_nP_0 = 1$\n",
    "- $0! = 1$"
   ]
  },
  {
   "cell_type": "markdown",
   "source": [
    "# 조합 (Combination)\n",
    "n개 중 r개를 한번에 선택하기\n",
    "순열과 차이점\n",
    "- n개 중 r개를 순차적으로 뽑아서, 순서를 고려하는게 순열\n",
    "- 순차적으로 뽑든 한번에 뽑든 순서를 고려하지 않는게 조합\n",
    "\n",
    "순서를 고려하지 않으므로, 순열에서, r개 중 r개를 선택하는 순열을 나눈 값으로 구한다.\n",
    "- $_nC_r = \\frac{_nP_r}{r!} = \\frac{n!}{r!(n-r)!}$\n",
    "\n",
    "- $_nC_r = _nC_{n-r}$ (r개를 한번에 선택하는 것은, 나머지를 선택하는 것과 동일하므로)"
   ],
   "metadata": {
    "collapsed": false
   }
  },
  {
   "cell_type": "markdown",
   "source": [
    "# 이항정리\n",
    "$(a + b)^n$\n",
    "\n",
    "n개의 주머니에 각각 a와 b라는 구슬이 두개 들어 있는 경우\n",
    "순열이나 조합과 달리, 동일한 구슬을 여러번 뽑을 수 있음.\n",
    "\n",
    "전체 경우의 수 : $2^n$ (각 주머니에 2개의 구슬이 있으므로)\n",
    "조합의 수 : n + 1 (a구슬이 0개인 경우, 1개인 경우, ... n개인 경우)\n",
    "\n",
    "## 이항계수\n",
    "각 조합의 계수\n",
    "주머니들에서 b구슬을 0,1,2,...,n번 뽑는 조합을 구하는 것\n",
    "\n",
    "$(a+b)^n =  {_n}C_0a^n + {_n}C_1a^{n-1}b+\\cdots+{_n}C_ra^{n-r}b^r+\\cdots+{_n}C_nb^n=\\sum_{r=0}^{n}{_n}C_ra^{n-r}b^{r}$\n",
    "\n",
    "\n",
    "### 이항계수의 합\n",
    "- $\\sum_{r=0}^{n}{_nC_r} = {_n}C_0 + \\cdots + {_n}C_n = 2^n$ (이항계수를 전개했을 때, 총 갯수와 동일. n개의 주머니에 각각 구슬이 두개 들어 있을 때의 경우의 수)\n",
    "- $\\sum_{r=0}^{n}(-1)^r{_n}C_r = {_n}C_0 + \\cdots + (-1)^n{_n}C_n = 0$\n",
    "- $(1+x)^n 을 전개하고, x에 1 또는 -1을 대입하면 구할 수 있음$\n",
    "\n",
    "### 파스칼의 삼각형\n",
    "이항 계수를 삼각형 형태로 배열하면, 위의 두 계수를 더하면, 아래의 계수를 구할 수 있음\n",
    "${_{n+1}}C_r = {_n}C_{r-1} + {_n}C_{r}$"
   ],
   "metadata": {
    "collapsed": false
   }
  },
  {
   "cell_type": "markdown",
   "source": [
    "# 확률 Probability\n",
    "\n",
    "## 용어\n",
    "- 시행(trial) : 발생 시도\n",
    "- 표본공간(sample space) : 전체 발생 가능한 값의 집합\n",
    "- 사건(event) : 특정 값의 집합\n",
    "- 공집합(empty set) : $\\emptyset$ 아무 값도 없는 집합\n",
    "- 교집합(intersection) : $\\cap$\n",
    "- 합집합(union) : $\\cup$\n",
    "- 배반사건(exclusive event) : A, B사건의 교집합이 없는 집합\n",
    "- 여사건(complementary event) : $A^c$\n",
    "\n",
    "A사건의 확률(P)은 표본공간(S)의 갯수(n)중 A의 갯수\n",
    "\n",
    "- $P(A) = \\frac{n(A)}{n(S)}$\n",
    "\n",
    "- $P(A \\cup B) = P(A) + P(B) - P(A \\cap B)$\n",
    "\n",
    "- $P(A^c) = 1 - P(A)$ (적어도 하나를 선택할 확률을 구할 때, 해당 사건의 여집합의 여집합을 구하는 식으로 구함)"
   ],
   "metadata": {
    "collapsed": false,
    "pycharm": {
     "name": "#%% md\n"
    }
   }
  }
 ],
 "metadata": {
  "kernelspec": {
   "display_name": "Python 3",
   "language": "python",
   "name": "python3"
  },
  "language_info": {
   "codemirror_mode": {
    "name": "ipython",
    "version": 2
   },
   "file_extension": ".py",
   "mimetype": "text/x-python",
   "name": "python",
   "nbconvert_exporter": "python",
   "pygments_lexer": "ipython2",
   "version": "2.7.6"
  }
 },
 "nbformat": 4,
 "nbformat_minor": 0
}