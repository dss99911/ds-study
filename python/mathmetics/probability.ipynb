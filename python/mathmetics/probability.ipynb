{
 "cells": [
  {
   "cell_type": "markdown",
   "metadata": {
    "collapsed": true,
    "pycharm": {
     "name": "#%% md\n"
    }
   },
   "source": [
    "# 순열(Permutation)\n",
    "n개 중 r개를 선택할 때, 발생할 수 있는 순서의 경우의 수\n",
    "- $_nP_r = n(n-1)(n-2)\\cdots(n-r+1) = \\frac{n!}{(n-r)!}$\n",
    "\n",
    "- $_nP_n = n!$\n",
    "- $_nP_0 = 1$\n",
    "- $0! = 1$"
   ]
  },
  {
   "cell_type": "markdown",
   "source": [
    "# 조합 (Combination)\n",
    "n개 중 r개를 한번에 선택하기\n",
    "순열과 차이점\n",
    "- n개 중 r개를 순차적으로 뽑아서, 순서를 고려하는게 순열\n",
    "- 순차적으로 뽑든 한번에 뽑든 순서를 고려하지 않는게 조합\n",
    "\n",
    "순서를 고려하지 않으므로, 순열에서, r개 중 r개를 선택하는 순열을 나눈 값으로 구한다.\n",
    "- $_nC_r = \\frac{_nP_r}{r!} = \\frac{n!}{r!(n-r)!}$\n",
    "\n",
    "- $_nC_r = _nC_{n-r}$ (r개를 한번에 선택하는 것은, 나머지를 선택하는 것과 동일하므로)"
   ],
   "metadata": {
    "collapsed": false
   }
  },
  {
   "cell_type": "markdown",
   "source": [
    "# 이항정리\n",
    "$(a + b)^n$\n",
    "\n",
    "동전을 n번 던졌을 때, a를 앞면, b를 뒷면으로 한 경우\n",
    "순열이나 조합과 달리, 동일한 면을 여러번 뽑을 수 있음.\n",
    "\n",
    "전체 경우의 수 : $2^n$ (각 주머니에 2개의 구슬이 있으므로)\n",
    "조합의 수 : n + 1 (a구슬이 0개인 경우, 1개인 경우, ... n개인 경우)\n",
    "\n",
    "## 이항계수\n",
    "각 조합의 계수\n",
    "주머니들에서 b구슬을 0,1,2,...,n번 뽑는 조합을 구하는 것\n",
    "\n",
    "$(a+b)^n =  {_n}C_0a^n + {_n}C_1a^{n-1}b+\\cdots+{_n}C_ra^{n-r}b^r+\\cdots+{_n}C_nb^n=\\sum_{r=0}^{n}{_n}C_ra^{n-r}b^{r}$\n",
    "\n",
    "\n",
    "### 이항계수의 합\n",
    "- $\\sum_{r=0}^{n}{_nC_r} = {_n}C_0 + \\cdots + {_n}C_n = 2^n$ (이항계수를 전개했을 때, 총 갯수와 동일. n개의 주머니에 각각 구슬이 두개 들어 있을 때의 경우의 수)\n",
    "- $\\sum_{r=0}^{n}(-1)^r{_n}C_r = {_n}C_0 + \\cdots + (-1)^n{_n}C_n = 0$\n",
    "- $(1+x)^n 을 전개하고, x에 1 또는 -1을 대입하면 구할 수 있음$\n",
    "\n",
    "### 파스칼의 삼각형\n",
    "이항 계수를 삼각형 형태로 배열하면, 위의 두 계수를 더하면, 아래의 계수를 구할 수 있음\n",
    "${_{n+1}}C_r = {_n}C_{r-1} + {_n}C_{r}$"
   ],
   "metadata": {
    "collapsed": false
   }
  },
  {
   "cell_type": "markdown",
   "source": [
    "# 확률 Probability\n",
    "\n",
    "## 용어\n",
    "- 시행(trial) : 발생 시도\n",
    "- 표본공간(sample space) : 전체 발생 가능한 값의 집합\n",
    "- 사건(event) : 특정 값의 집합\n",
    "- 공집합(empty set) : $\\emptyset$ 아무 값도 없는 집합\n",
    "- 교집합(intersection) : $\\cap$\n",
    "- 합집합(union) : $\\cup$\n",
    "- 배반사건(exclusive event) : A, B사건의 교집합이 없는 집합\n",
    "- 여사건(complementary event) : $A^c$\n",
    "\n",
    "A사건의 확률(P)은 표본공간(S)의 갯수(n)중 A의 갯수\n",
    "\n",
    "- $P(A) = \\frac{n(A)}{n(S)}$\n",
    "\n",
    "- $P(A \\cup B) = P(A) + P(B) - P(A \\cap B)$\n",
    "\n",
    "- $P(A^c) = 1 - P(A)$ (적어도 하나를 선택할 확률을 구할 때, 해당 사건의 여집합의 여집합을 구하는 식으로 구함)\n",
    "\n",
    "## 확률 케이스\n",
    "- x개의 카드에서 r개를 고를 때, 어떤 독립사건 A,B의 발생 횟수가 a, b일 때의 확률\n",
    "    - $\\frac{{_{n(A)}}C_a*{_{n(B)}}C_b}{{_x}C_r}$\n",
    "    - 전체 발생 조합 중, A가 a개일 수 있는 조합 곱하기 B가 b개일 수 있는 조합\n",
    "    - 12개 카드에서 5개를 뽑을 때, 짝수의 발생이 3번, 2보다 큰 소수의 발생이 2번이 될 확률 : $\\frac{_6C_3 * _4C_2}{_{12}C_5}$\n",
    "    - 4개의 검은 카드와 2개의 흰 카드에서 3개를 뽑을 때, 검은 카드 2개 흰 카드 1개가 될 확률 : $\\frac{_4C_2 * _2C_1}{_6C_3}$\n",
    "\n",
    "\n",
    "## 조건부확률\n",
    "사건 A가 일어났을 때, B도 일어났을 조건부 확률\n",
    "$P(B|A) = \\frac{P(A \\cap B)}{P(A)}$\n",
    "\n",
    "## 확률 곱셈정리\n",
    "\n",
    "$P(A \\cap B) = P(A)P(B|A) = P(B)P(A|B)$\n",
    "\n",
    "## 독립\n",
    "\n",
    "- $P(A|B) = P(A)$ 또는 $P(B|A) = P(B)$\n",
    "\n",
    "- $P(A \\cap B) = P(A)P(B)$\n",
    "\n",
    "- 독립이라는게, A,B의 두 집합이 겹치는게 없을 때만, 독립인 것은 아니고, 겹치더라도, P(A), P(A|B)의 확률이 동일하면, 독립임\n",
    "\n",
    "### 독립시행 확률\n",
    "A 사건이 일어날 확률이 p일 때, 이 시행을 n번 반복하는 독립시행에서, A가 r번 일어날 확률\n",
    "${_n}C_rp^r(1-p)^{n-r}$\n",
    "\n",
    "A가 몇 번째에 발생하는지의 조합 : ${_n}C_r$\n",
    "각 조합이 일어날 확률 : $p^r(1-p)^{n-r}$\n",
    "둘을 곱해서 확률을 구함"
   ],
   "metadata": {
    "collapsed": false,
    "pycharm": {
     "name": "#%% md\n"
    }
   }
  }
 ],
 "metadata": {
  "kernelspec": {
   "display_name": "Python 3",
   "language": "python",
   "name": "python3"
  },
  "language_info": {
   "codemirror_mode": {
    "name": "ipython",
    "version": 2
   },
   "file_extension": ".py",
   "mimetype": "text/x-python",
   "name": "python",
   "nbconvert_exporter": "python",
   "pygments_lexer": "ipython2",
   "version": "2.7.6"
  }
 },
 "nbformat": 4,
 "nbformat_minor": 0
}