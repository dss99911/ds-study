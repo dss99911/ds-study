{
 "cells": [
  {
   "cell_type": "markdown",
   "source": [
    "# Equation"
   ],
   "metadata": {
    "collapsed": false
   }
  },
  {
   "cell_type": "code",
   "execution_count": 1,
   "metadata": {
    "collapsed": true
   },
   "outputs": [],
   "source": [
    "from sympy_util import *\n",
    "# %matplotlib inline"
   ]
  },
  {
   "cell_type": "code",
   "execution_count": 6,
   "outputs": [
    {
     "data": {
      "text/plain": "([1/2], [1/2])",
      "image/png": "[encoded data removed]",
      "text/latex": "$\\displaystyle \\left( \\left[ \\frac{1}{2}\\right], \\  \\left[ \\frac{1}{2}\\right]\\right)$"
     },
     "execution_count": 6,
     "metadata": {},
     "output_type": "execute_result"
    }
   ],
   "source": [
    "eqn = Eq( 2*x, 1 )\n",
    "\n",
    "solve( eqn, x ), solve( 2*x-1, x )  #우변이 0인 경우, Eq가 없어도 됨"
   ],
   "metadata": {
    "collapsed": false,
    "pycharm": {
     "name": "#%%\n"
    }
   }
  },
  {
   "cell_type": "code",
   "execution_count": 5,
   "outputs": [
    {
     "data": {
      "text/plain": "(-(x - 1)**(1/3)/2 + sqrt(3)*I*(x - 1)**(1/3)/2, False)"
     },
     "execution_count": 5,
     "metadata": {},
     "output_type": "execute_result"
    }
   ],
   "source": [
    "# 연립방정식\n",
    "solve( [ x-y+2, x+y-3 ], [x,y] )"
   ],
   "metadata": {
    "collapsed": false,
    "pycharm": {
     "name": "#%%\n"
    }
   }
  },
  {
   "cell_type": "markdown",
   "source": [
    "##역함수\n",
    "\n",
    "\n",
    "- 그래프상 x=y에 대칭인 함수(x와 y가 바뀐 함수)\n",
    "  - 대칭이라, 함수와 역함수의 교점은 x=y가 된다\n",
    "- $(g{\\circ}f)^{-1}=f^{-1}{\\circ}g^{-1} $\n",
    "  - 역을 할 때는, 마지막에 처리한 함수의 역으로 하나씩 풀어내야 하므로, f와 g의 순서가 바뀐다."
   ],
   "metadata": {
    "collapsed": false,
    "pycharm": {
     "name": "#%% md\n"
    }
   }
  },
  {
   "cell_type": "code",
   "execution_count": 46,
   "outputs": [
    {
     "data": {
      "text/plain": "(-(x - 1)**(1/3)/2 + sqrt(3)*I*(x - 1)**(1/3)/2, False)"
     },
     "execution_count": 46,
     "metadata": {},
     "output_type": "execute_result"
    }
   ],
   "source": [
    "# 역함수 구하기\n",
    "\n",
    "\n",
    "f = x**3 + 1\n",
    "g = inverse_function(f)\n",
    "g, is_bijective_function(f)\n",
    "# f와 역함수의 교차점 찾기(연립방정식)\n",
    "# solve( [f - y, g - y], [x, y])\n",
    "\n",
    "# f와 역함수의 교차점을 그래프에서 확인하기\n",
    "# plot(f, inverse_function(f), xlim=(-10,10), ylim=(-10,10))"
   ],
   "metadata": {
    "collapsed": false,
    "pycharm": {
     "name": "#%%\n"
    }
   }
  },
  {
   "cell_type": "code",
   "execution_count": 3,
   "outputs": [
    {
     "data": {
      "text/plain": "       2\n(x + 1) ",
      "image/png": "[encoded data removed]",
      "text/latex": "$\\displaystyle \\left(x + 1\\right)^{2}$"
     },
     "execution_count": 3,
     "metadata": {},
     "output_type": "execute_result"
    }
   ],
   "source": [
    "#함수 결합 g(f(x))\n",
    "f = x + 1\n",
    "g = x**2\n",
    "g.subs(x, f)"
   ],
   "metadata": {
    "collapsed": false,
    "pycharm": {
     "name": "#%%\n"
    }
   }
  },
  {
   "cell_type": "code",
   "execution_count": 4,
   "outputs": [
    {
     "data": {
      "text/plain": "       2\n(x + 1) ",
      "image/png": "[encoded data removed]",
      "text/latex": "$\\displaystyle \\left(x + 1\\right)^{2}$"
     },
     "execution_count": 4,
     "metadata": {},
     "output_type": "execute_result"
    }
   ],
   "source": [
    "#함수 결합 g(f(x))\n",
    "f = x + 1\n",
    "g = x**2\n",
    "g.subs(x, f)"
   ],
   "metadata": {
    "collapsed": false,
    "pycharm": {
     "name": "#%%\n"
    }
   }
  },
  {
   "cell_type": "code",
   "execution_count": 5,
   "outputs": [
    {
     "data": {
      "text/plain": "⎡     1   √3⋅ⅈ    1   √3⋅ⅈ⎤\n⎢0, - ─ - ────, - ─ + ────⎥\n⎣     2    2      2    2  ⎦",
      "image/png": "[encoded data removed]",
      "text/latex": "$\\displaystyle \\left[ 0, \\  - \\frac{1}{2} - \\frac{\\sqrt{3} i}{2}, \\  - \\frac{1}{2} + \\frac{\\sqrt{3} i}{2}\\right]$"
     },
     "execution_count": 5,
     "metadata": {},
     "output_type": "execute_result"
    }
   ],
   "source": [
    "#함수 결합2 f(x) = g(x)\n",
    "f = x**3 + 3* x**2 + 4*x + 1\n",
    "g = inverse_function(f, 1)\n",
    "# plot(f, g, **lim(10))\n",
    "# solve(Eq(f, g), x)\n",
    "\n",
    "solve(Eq(f, g), x)\n"
   ],
   "metadata": {
    "collapsed": false,
    "pycharm": {
     "name": "#%%\n"
    }
   }
  },
  {
   "cell_type": "code",
   "execution_count": 10,
   "outputs": [
    {
     "name": "stderr",
     "output_type": "stream",
     "text": [
      "/Users/hyun.kim/anaconda3/envs/spark-study2/lib/python3.9/site-packages/IPython/lib/latextools.py:126: MatplotlibDeprecationWarning: \n",
      "The to_png function was deprecated in Matplotlib 3.4 and will be removed two minor releases later. Use mathtext.math_to_image instead.\n",
      "  mt.to_png(f, s, fontsize=12, dpi=dpi, color=color)\n",
      "/Users/hyun.kim/anaconda3/envs/spark-study2/lib/python3.9/site-packages/IPython/lib/latextools.py:126: MatplotlibDeprecationWarning: \n",
      "The to_rgba function was deprecated in Matplotlib 3.4 and will be removed two minor releases later. Use mathtext.math_to_image instead.\n",
      "  mt.to_png(f, s, fontsize=12, dpi=dpi, color=color)\n",
      "/Users/hyun.kim/anaconda3/envs/spark-study2/lib/python3.9/site-packages/IPython/lib/latextools.py:126: MatplotlibDeprecationWarning: \n",
      "The to_mask function was deprecated in Matplotlib 3.4 and will be removed two minor releases later. Use mathtext.math_to_image instead.\n",
      "  mt.to_png(f, s, fontsize=12, dpi=dpi, color=color)\n",
      "/Users/hyun.kim/anaconda3/envs/spark-study2/lib/python3.9/site-packages/IPython/lib/latextools.py:126: MatplotlibDeprecationWarning: \n",
      "The MathtextBackendBitmap class was deprecated in Matplotlib 3.4 and will be removed two minor releases later. Use mathtext.math_to_image instead.\n",
      "  mt.to_png(f, s, fontsize=12, dpi=dpi, color=color)\n"
     ]
    },
    {
     "data": {
      "text/plain": "x + 1",
      "image/png": "[encoded data removed]",
      "text/latex": "$\\displaystyle x + 1$"
     },
     "execution_count": 10,
     "metadata": {},
     "output_type": "execute_result"
    }
   ],
   "source": [
    "# find 1차 방정식\n",
    "\n",
    "import numpy as np\n",
    "from sklearn.linear_model import LinearRegression\n",
    "def predict_linear_equation(points:list[tuple], symbol=\"x\"):\n",
    "\n",
    "    X_train = list(map(lambda p: [p[0]], points))\n",
    "    y_train = list(map(lambda p: p[1], points))\n",
    "    clf = LinearRegression()\n",
    "\n",
    "    clf.fit(X_train, y_train)\n",
    "\n",
    "    a = round(float(clf.coef_), 5)\n",
    "    b = round(float(clf.intercept_), 5)\n",
    "    x = symbols(symbol)\n",
    "    return a * x + b\n",
    "\n",
    "predict_linear_equation([\n",
    "    (0, 1),\n",
    "    (1, 2)\n",
    "])\n",
    "\n",
    "def find_linear_equation(point1: tuple, point2: tuple):\n",
    "    a, b = symbols(\"a b\")\n",
    "    x, y = symbols(\"x y\")\n",
    "    # a*x + b = y\n",
    "    # x1*a + b = y1\n",
    "    # x2*a + b = y2\n",
    "    coefficient = solve( [ point1[0] * a + b - point1[1], point2[0] * a + b - point2[1] ], [a, b] )\n",
    "    return coefficient[a]*x + coefficient[b]\n",
    "\n",
    "find_linear_equation((0, 1),\n",
    "               (1, 2))"
   ],
   "metadata": {
    "collapsed": false,
    "pycharm": {
     "name": "#%%\n"
    }
   }
  },
  {
   "cell_type": "markdown",
   "source": [
    "2차 방정식"
   ],
   "metadata": {
    "collapsed": false,
    "pycharm": {
     "name": "#%% md\n"
    }
   }
  },
  {
   "cell_type": "code",
   "execution_count": 17,
   "outputs": [
    {
     "data": {
      "text/plain": "⎡        _____________   ⎛       _____________⎞ ⎤\n⎢       ╱           2    ⎜      ╱           2 ⎟ ⎥\n⎢-b + ╲╱  -4⋅a⋅c + b    -⎝b + ╲╱  -4⋅a⋅c + b  ⎠ ⎥\n⎢─────────────────────, ────────────────────────⎥\n⎣         2⋅a                     2⋅a           ⎦",
      "image/png": "[encoded data removed]",
      "text/latex": "$\\displaystyle \\left[ \\frac{- b + \\sqrt{- 4 a c + b^{2}}}{2 a}, \\  - \\frac{b + \\sqrt{- 4 a c + b^{2}}}{2 a}\\right]$"
     },
     "execution_count": 17,
     "metadata": {},
     "output_type": "execute_result"
    }
   ],
   "source": [
    "# 근의 공식\n",
    "a, b, c = symbols('a, b, c')\n",
    "solve(a*x**2 + b*x + c, x)"
   ],
   "metadata": {
    "collapsed": false,
    "pycharm": {
     "name": "#%%\n"
    }
   }
  },
  {
   "cell_type": "code",
   "execution_count": 24,
   "outputs": [
    {
     "data": {
      "text/plain": "       2\n(x + 1) ",
      "image/png": "[encoded data removed]",
      "text/latex": "$\\displaystyle \\left(x + 1\\right)^{2}$"
     },
     "execution_count": 24,
     "metadata": {},
     "output_type": "execute_result"
    }
   ],
   "source": [
    "factor(x**2 + 2*x + 1)"
   ],
   "metadata": {
    "collapsed": false,
    "pycharm": {
     "name": "#%%\n"
    }
   }
  },
  {
   "cell_type": "code",
   "execution_count": 42,
   "outputs": [
    {
     "data": {
      "text/plain": "   2    \n2⋅x  + 4",
      "image/png": "[encoded data removed]",
      "text/latex": "$\\displaystyle 2 x^{2} + 4$"
     },
     "execution_count": 42,
     "metadata": {},
     "output_type": "execute_result"
    }
   ],
   "source": [
    "def find_quadratic_equation(point1: tuple, point2: tuple, point3: tuple):\n",
    "    a, b, c = symbols(\"a b c\")\n",
    "    x, y = symbols(\"x y\")\n",
    "    # a*x**2 + b*x + c = y\n",
    "    coefficient = solve( [\n",
    "        point1[0]**2 * a + point1[0] * b + c - point1[1],\n",
    "        point2[0]**2 * a + point2[0] * b + c - point2[1],\n",
    "        point3[0]**2 * a + point3[0] * b + c - point3[1],\n",
    "    ], [a, b, c] )\n",
    "    return coefficient[a]*x**2 + coefficient[b] * x + coefficient[c]\n",
    "\n",
    "find_quadratic_equation((1, 6),\n",
    "               (2, 12),\n",
    "               (3, 22))"
   ],
   "metadata": {
    "collapsed": false,
    "pycharm": {
     "name": "#%%\n"
    }
   }
  },
  {
   "cell_type": "code",
   "execution_count": null,
   "outputs": [],
   "source": [
    "result = Eq(x**2 - a*x + 1, 0)\n",
    "result"
   ],
   "metadata": {
    "collapsed": false,
    "pycharm": {
     "name": "#%%\n"
    }
   }
  },
  {
   "cell_type": "code",
   "execution_count": null,
   "outputs": [],
   "source": [
    "result = Eq(x**2 - a*x + 1, 0)\n",
    "result"
   ],
   "metadata": {
    "collapsed": false,
    "pycharm": {
     "name": "#%%"
    }
   }
  },
  {
   "cell_type": "code",
   "execution_count": 13,
   "outputs": [
    {
     "name": "stderr",
     "output_type": "stream",
     "text": [
      "/Users/hyun.kim/anaconda3/envs/spark-study2/lib/python3.9/site-packages/IPython/lib/latextools.py:126: MatplotlibDeprecationWarning: \n",
      "The to_png function was deprecated in Matplotlib 3.4 and will be removed two minor releases later. Use mathtext.math_to_image instead.\n",
      "  mt.to_png(f, s, fontsize=12, dpi=dpi, color=color)\n",
      "/Users/hyun.kim/anaconda3/envs/spark-study2/lib/python3.9/site-packages/IPython/lib/latextools.py:126: MatplotlibDeprecationWarning: \n",
      "The to_rgba function was deprecated in Matplotlib 3.4 and will be removed two minor releases later. Use mathtext.math_to_image instead.\n",
      "  mt.to_png(f, s, fontsize=12, dpi=dpi, color=color)\n",
      "/Users/hyun.kim/anaconda3/envs/spark-study2/lib/python3.9/site-packages/IPython/lib/latextools.py:126: MatplotlibDeprecationWarning: \n",
      "The to_mask function was deprecated in Matplotlib 3.4 and will be removed two minor releases later. Use mathtext.math_to_image instead.\n",
      "  mt.to_png(f, s, fontsize=12, dpi=dpi, color=color)\n",
      "/Users/hyun.kim/anaconda3/envs/spark-study2/lib/python3.9/site-packages/IPython/lib/latextools.py:126: MatplotlibDeprecationWarning: \n",
      "The MathtextBackendBitmap class was deprecated in Matplotlib 3.4 and will be removed two minor releases later. Use mathtext.math_to_image instead.\n",
      "  mt.to_png(f, s, fontsize=12, dpi=dpi, color=color)\n"
     ]
    },
    {
     "data": {
      "text/plain": "1.0⋅x + 1.0",
      "image/png": "[encoded data removed]",
      "text/latex": "$\\displaystyle 1.0 x + 1.0$"
     },
     "execution_count": 13,
     "metadata": {},
     "output_type": "execute_result"
    }
   ],
   "source": [
    "# find 1차 방정식\n",
    "\n",
    "import numpy as np\n",
    "from sklearn.linear_model import LinearRegression\n",
    "def find_equation1(points:list[tuple], symbol=\"x\"):\n",
    "\n",
    "    X_train = list(map(lambda p: [p[0]], points))\n",
    "    y_train = list(map(lambda p: p[1], points))\n",
    "    clf = LinearRegression()\n",
    "\n",
    "    clf.fit(X_train, y_train)\n",
    "\n",
    "    a = round(float(clf.coef_), 5)\n",
    "    b = round(float(clf.intercept_), 5)\n",
    "    x = symbols(symbol)\n",
    "    return a * x + b\n",
    "\n",
    "find_equation1([\n",
    "    (0, 1),\n",
    "    (1, 2)\n",
    "])"
   ],
   "metadata": {
    "collapsed": false,
    "pycharm": {
     "name": "#%%\n"
    }
   }
  },
  {
   "cell_type": "code",
   "execution_count": 3,
   "outputs": [
    {
     "data": {
      "text/plain": "x = 1.0",
      "image/png": "[encoded data removed]",
      "text/latex": "$\\displaystyle x = 1.0$"
     },
     "execution_count": 3,
     "metadata": {},
     "output_type": "execute_result"
    }
   ],
   "source": [
    "# interval\n",
    "solve([x >= 0.5, x <= 3, x**2 - 1], x)\n"
   ],
   "metadata": {
    "collapsed": false,
    "pycharm": {
     "name": "#%%\n"
    }
   }
  },
  {
   "cell_type": "code",
   "execution_count": 14,
   "outputs": [
    {
     "data": {
      "text/plain": "<Figure size 432x288 with 1 Axes>",
      "image/png": "[encoded data removed]"
     },
     "metadata": {
      "needs_background": "light"
     },
     "output_type": "display_data"
    },
    {
     "data": {
      "text/plain": "<sympy.plotting.plot.Plot at 0x7ff6863126a0>"
     },
     "execution_count": 14,
     "metadata": {},
     "output_type": "execute_result"
    }
   ],
   "source": [
    "# 1차식은 1줄\n",
    "# 2차식은 방향이 바뀌어 2줄\n",
    "# 3차식은 3줄\n",
    "# 4차식은 4줄\n",
    "# 계속 증가함\n",
    "plot(x, (x-1)*(x+1), (x-1)*x*(x+1), (x-2)*(x-1)*x*(x+1), (x-3)*(x-2)*(x-1)*x*(x+1), **lim(5), legend=True)"
   ],
   "metadata": {
    "collapsed": false,
    "pycharm": {
     "name": "#%%\n"
    }
   }
  }
 ],
 "metadata": {
  "kernelspec": {
   "display_name": "Python 3",
   "language": "python",
   "name": "python3"
  },
  "language_info": {
   "codemirror_mode": {
    "name": "ipython",
    "version": 2
   },
   "file_extension": ".py",
   "mimetype": "text/x-python",
   "name": "python",
   "nbconvert_exporter": "python",
   "pygments_lexer": "ipython2",
   "version": "2.7.6"
  }
 },
 "nbformat": 4,
 "nbformat_minor": 0
}