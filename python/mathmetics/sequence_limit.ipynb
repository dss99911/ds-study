{
 "cells": [
  {
   "cell_type": "markdown",
   "metadata": {
    "collapsed": true,
    "pycharm": {
     "name": "#%% md\n"
    }
   },
   "source": [
    "# 수열(Sequence)\n",
    "\n",
    "## 등차 수열\n",
    "- 두 항의 차가 일정한 경우\n",
    "- a : 첫항, d : difference, n: 갯수\n",
    "\n",
    "$a_n=a+(n-1)d$　\n",
    "\n",
    "$S_n = \\sum_{k=1}^{n}a_k = \\frac{n(2a+(n-1)d)}{2}$　\n",
    "\n",
    "\n",
    "## 등비 수열\n",
    "- 두 항의 비가 일정한 경우\n",
    "- r : ratio\n",
    "\n",
    "$a_n=ar^{n-1}$　\n",
    "$S_n = \\sum_{k=1}^{n} a_k = na, r=1$　\n",
    "$S_n = \\frac{a(r^n-1)}{r-1}, r \\neq 1$　\n",
    "\n",
    "\n",
    "## 거듭제곱\n",
    "- 공식 유도 : https://mathbang.net/628\n",
    "\n",
    "$\\sum_{k=1}^{n}k=\\frac{n(n+1)}{2}$　\n",
    "$\\sum_{k=1}^{n}k^2=\\frac{n(n+1)(2n+1)}{6}$　\n",
    "$\\sum_{k=1}^{n}k^3=(\\frac{n(n+1)}{2})^2$　\n",
    "\n",
    "## 점화식 (recurrent formula)\n",
    "### 유형 $a_{n+1}=a_n+b_n$　\n",
    "$a_n=a_1 + \\sum_{k=1}^{n-1}b_k$　\n",
    "\n",
    "### 유형 $a_{n+1}=b_na_n$"
   ]
  },
  {
   "cell_type": "code",
   "execution_count": 2,
   "outputs": [],
   "source": [
    "from sympy_util import *\n",
    "%matplotlib inline"
   ],
   "metadata": {
    "collapsed": false,
    "pycharm": {
     "name": "#%%\n"
    }
   }
  },
  {
   "cell_type": "code",
   "execution_count": 27,
   "outputs": [
    {
     "data": {
      "text/plain": "(1, [1, 2, 3, 4, 5], 5050)",
      "image/png": "[encoded data removed]",
      "text/latex": "$\\displaystyle \\left( 1, \\  \\left[ 1, \\  2, \\  3, \\  4, \\  5\\right], \\  5050\\right)$"
     },
     "execution_count": 27,
     "metadata": {},
     "output_type": "execute_result"
    }
   ],
   "source": [
    "\n",
    "n = Symbol('n')\n",
    "s = SeqFormula(1+ (n -1), (n, 1, 100))\n",
    "s.coeff(1), s[0:5], sum(list(s))"
   ],
   "metadata": {
    "collapsed": false,
    "pycharm": {
     "name": "#%%\n"
    }
   }
  },
  {
   "cell_type": "code",
   "execution_count": 23,
   "outputs": [
    {
     "data": {
      "text/plain": "[0, 1, 4, 9, 16, 25]",
      "image/png": "[encoded data removed]",
      "text/latex": "$\\displaystyle \\left[ 0, \\  1, \\  4, \\  9, \\  16, \\  25\\right]$"
     },
     "execution_count": 23,
     "metadata": {},
     "output_type": "execute_result"
    }
   ],
   "source": [
    "SeqFormula(n**2, (0, oo))[0:6]\n"
   ],
   "metadata": {
    "collapsed": false,
    "pycharm": {
     "name": "#%%\n"
    }
   }
  },
  {
   "cell_type": "markdown",
   "source": [
    "## 극한(limit)"
   ],
   "metadata": {
    "collapsed": false
   }
  },
  {
   "cell_type": "code",
   "execution_count": 49,
   "outputs": [
    {
     "data": {
      "text/plain": "<Figure size 432x288 with 1 Axes>",
      "image/png": "[encoded data removed]"
     },
     "metadata": {
      "needs_background": "light"
     },
     "output_type": "display_data"
    },
    {
     "data": {
      "text/plain": "(5, nan)",
      "text/latex": "$\\displaystyle \\left( 5, \\  \\text{NaN}\\right)$"
     },
     "execution_count": 49,
     "metadata": {},
     "output_type": "execute_result"
    }
   ],
   "source": [
    "f = (x**2 + x - 6)/(x-2)\n",
    "\n",
    "plot(f)\n",
    "limit(f, x, 2), f.subs(x, 2)"
   ],
   "metadata": {
    "collapsed": false,
    "pycharm": {
     "name": "#%%\n"
    }
   }
  }
 ],
 "metadata": {
  "kernelspec": {
   "display_name": "Python 3",
   "language": "python",
   "name": "python3"
  },
  "language_info": {
   "codemirror_mode": {
    "name": "ipython",
    "version": 2
   },
   "file_extension": ".py",
   "mimetype": "text/x-python",
   "name": "python",
   "nbconvert_exporter": "python",
   "pygments_lexer": "ipython2",
   "version": "2.7.6"
  }
 },
 "nbformat": 4,
 "nbformat_minor": 0
}