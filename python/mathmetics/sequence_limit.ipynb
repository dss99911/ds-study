{
 "cells": [
  {
   "cell_type": "code",
   "execution_count": 2,
   "metadata": {
    "collapsed": true
   },
   "outputs": [],
   "source": [
    "from sympy_util import *\n",
    "%matplotlib inline\n"
   ]
  },
  {
   "cell_type": "markdown",
   "source": [
    "# 수열(Sequence)\n",
    "\n",
    " ## 등차 수열\n",
    " - 두 항의 차가 일정한 경우\n",
    " - a : 첫항, d : difference, n: 갯수\n",
    "\n",
    " $a_n=a+(n-1)d$　\n",
    "\n",
    " $S_n = \\sum_{k=1}^{n}a_k = \\frac{n(2a+(n-1)d)}{2}$　\n",
    "\n",
    "\n",
    " ## 등비 수열\n",
    " - 두 항의 비가 일정한 경우\n",
    " - r : ratio\n",
    "\n",
    " $a_n=ar^{n-1}$　\n",
    " $S_n = \\sum_{k=1}^{n} a_k = na, r=1$　\n",
    " $S_n = \\frac{a(r^n-1)}{r-1}, r \\neq 1$　\n",
    "\n",
    "\n",
    " ## 거듭제곱\n",
    " - 공식 유도 : https://mathbang.net/628\n",
    "\n",
    " $\\sum_{k=1}^{n}k=\\frac{n(n+1)}{2}$　\n",
    " $\\sum_{k=1}^{n}k^2=\\frac{n(n+1)(2n+1)}{6}$　\n",
    " $\\sum_{k=1}^{n}k^3=(\\frac{n(n+1)}{2})^2$　\n",
    "\n",
    " ## 점화식 (recurrent formula)\n",
    " ### 유형 $a_{n+1}=a_n+b_n$　\n",
    " $a_n=a_1 + \\sum_{k=1}^{n-1}b_k$　\n",
    "\n",
    "### 유형 $a_{n+1}=b_na_n$"
   ],
   "metadata": {
    "collapsed": false,
    "pycharm": {
     "name": "#%% md\n"
    }
   }
  },
  {
   "cell_type": "code",
   "execution_count": 5,
   "outputs": [
    {
     "data": {
      "text/plain": "(1, [1, 2, 3, 4, 5], 5050)",
      "image/png": "[encoded data removed]",
      "text/latex": "$\\displaystyle \\left( 1, \\  \\left[ 1, \\  2, \\  3, \\  4, \\  5\\right], \\  5050\\right)$"
     },
     "execution_count": 5,
     "metadata": {},
     "output_type": "execute_result"
    }
   ],
   "source": [
    "n = Symbol('n')\n",
    "s = SeqFormula(1+ (n -1), (n, 1, 100))\n",
    "s.coeff(1), s[0:5], sum(list(s))"
   ],
   "metadata": {
    "collapsed": false,
    "pycharm": {
     "name": "#%%\n"
    }
   }
  },
  {
   "cell_type": "code",
   "execution_count": 4,
   "outputs": [
    {
     "data": {
      "text/plain": "[0, 1, 4, 9, 16, 25]",
      "image/png": "[encoded data removed]",
      "text/latex": "$\\displaystyle \\left[ 0, \\  1, \\  4, \\  9, \\  16, \\  25\\right]$"
     },
     "execution_count": 4,
     "metadata": {},
     "output_type": "execute_result"
    }
   ],
   "source": [
    "SeqFormula(n**2, (0, oo))[0:6]"
   ],
   "metadata": {
    "collapsed": false,
    "pycharm": {
     "name": "#%%\n"
    }
   }
  },
  {
   "cell_type": "markdown",
   "source": [
    "## 극한(limit)"
   ],
   "metadata": {
    "collapsed": false,
    "pycharm": {
     "is_executing": true
    }
   },
   "outputs": []
  },
  {
   "cell_type": "code",
   "execution_count": 5,
   "outputs": [
    {
     "data": {
      "text/plain": "<Figure size 432x288 with 1 Axes>",
      "image/png": "[encoded data removed]"
     },
     "metadata": {
      "needs_background": "light"
     },
     "output_type": "display_data"
    },
    {
     "data": {
      "text/plain": "<sympy.plotting.plot.Plot at 0x7f8b01132130>"
     },
     "execution_count": 5,
     "metadata": {},
     "output_type": "execute_result"
    }
   ],
   "source": [
    "f = (x**2 + x - 6)/(x-2)\n",
    "\n",
    "plot(f)\n",
    "# limit(f, x, 2), f.subs(x, 2)"
   ],
   "metadata": {
    "collapsed": false,
    "pycharm": {
     "name": "#%%\n"
    }
   }
  },
  {
   "cell_type": "markdown",
   "source": [
    "### 무한소 (Epsilon)\n",
    "https://ko.wikipedia.org/wiki/%EB%AC%B4%ED%95%9C%EC%86%8C\n",
    "\n",
    "$\\varepsilon = \\lim_{t \\to \\infty}{\\frac{1}{t}}$"
   ],
   "metadata": {
    "collapsed": false,
    "pycharm": {
     "name": "#%% md\n"
    }
   }
  },
  {
   "cell_type": "markdown",
   "source": [],
   "metadata": {
    "collapsed": false,
    "pycharm": {
     "is_executing": true
    }
   },
   "outputs": []
  }
 ],
 "metadata": {
  "kernelspec": {
   "display_name": "Python 3",
   "language": "python",
   "name": "python3"
  },
  "language_info": {
   "codemirror_mode": {
    "name": "ipython",
    "version": 2
   },
   "file_extension": ".py",
   "mimetype": "text/x-python",
   "name": "python",
   "nbconvert_exporter": "python",
   "pygments_lexer": "ipython2",
   "version": "2.7.6"
  }
 },
 "nbformat": 4,
 "nbformat_minor": 0
}