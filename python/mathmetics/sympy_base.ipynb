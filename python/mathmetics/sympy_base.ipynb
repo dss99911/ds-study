{
 "cells": [
  {
   "cell_type": "code",
   "execution_count": 1,
   "metadata": {
    "collapsed": true
   },
   "outputs": [],
   "source": [
    "# https://docs.sympy.org/latest/tutorial/index.html#tutorial\n",
    "# http://allman84.blogspot.com/2018/10/sympy.html\n",
    "from sympy_util import *\n",
    "%matplotlib inline"
   ]
  },
  {
   "cell_type": "code",
   "execution_count": 11,
   "outputs": [
    {
     "data": {
      "text/plain": "(1/2, π, 1/3)",
      "image/png": "[encoded data removed]",
      "text/latex": "$\\displaystyle \\left( \\frac{1}{2}, \\  \\pi, \\  \\frac{1}{3}\\right)$"
     },
     "execution_count": 11,
     "metadata": {},
     "output_type": "execute_result"
    }
   ],
   "source": [
    "# 상수\n",
    "Rational(1,2), pi, Integer(1)/3, S(1)/3"
   ],
   "metadata": {
    "collapsed": false,
    "pycharm": {
     "name": "#%%\n"
    }
   }
  },
  {
   "cell_type": "code",
   "execution_count": 156,
   "outputs": [
    {
     "data": {
      "text/plain": "(3.14159265358979, 3.14159265358979)",
      "image/png": "[encoded data removed]",
      "text/latex": "$\\displaystyle \\left( 3.14159265358979, \\  3.14159265358979\\right)$"
     },
     "execution_count": 156,
     "metadata": {},
     "output_type": "execute_result"
    }
   ],
   "source": [
    "# float으로 변환\n",
    "N(pi), pi.evalf()\n"
   ],
   "metadata": {
    "collapsed": false,
    "pycharm": {
     "name": "#%%\n"
    }
   }
  },
  {
   "cell_type": "code",
   "execution_count": 23,
   "outputs": [
    {
     "data": {
      "text/plain": "{'positive': True,\n 'complex': True,\n 'extended_negative': False,\n 'finite': True,\n 'extended_nonzero': True,\n 'nonzero': True,\n 'commutative': True,\n 'negative': False,\n 'extended_nonnegative': True,\n 'infinite': False,\n 'extended_positive': True,\n 'zero': False,\n 'extended_real': True,\n 'imaginary': False,\n 'nonnegative': True,\n 'extended_nonpositive': False,\n 'hermitian': True,\n 'nonpositive': False,\n 'real': True}"
     },
     "execution_count": 23,
     "metadata": {},
     "output_type": "execute_result"
    }
   ],
   "source": [
    "# 변수\n",
    "a, b, c = symbols('a b c', positive=True, real=True)\n",
    "a.assumptions0"
   ],
   "metadata": {
    "collapsed": false,
    "pycharm": {
     "name": "#%%\n"
    }
   }
  },
  {
   "cell_type": "code",
   "execution_count": 21,
   "outputs": [
    {
     "data": {
      "text/plain": " 2    \nx  + 1",
      "image/png": "[encoded data removed]",
      "text/latex": "$\\displaystyle x^{2} + 1$"
     },
     "execution_count": 21,
     "metadata": {},
     "output_type": "execute_result"
    }
   ],
   "source": [
    "x**2 + 1"
   ],
   "metadata": {
    "collapsed": false,
    "pycharm": {
     "name": "#%%\n"
    }
   }
  },
  {
   "cell_type": "code",
   "execution_count": 26,
   "outputs": [
    {
     "data": {
      "text/plain": "2",
      "image/png": "[encoded data removed]",
      "text/latex": "$\\displaystyle 2$"
     },
     "execution_count": 26,
     "metadata": {},
     "output_type": "execute_result"
    }
   ],
   "source": [
    "expr = x**2 + 1\n",
    "expr.subs(x,1)  # x를 1로 대체"
   ],
   "metadata": {
    "collapsed": false,
    "pycharm": {
     "name": "#%%\n"
    }
   }
  },
  {
   "cell_type": "code",
   "execution_count": 27,
   "outputs": [
    {
     "data": {
      "text/plain": " 2    \ny  + 1",
      "image/png": "[encoded data removed]",
      "text/latex": "$\\displaystyle y^{2} + 1$"
     },
     "execution_count": 27,
     "metadata": {},
     "output_type": "execute_result"
    }
   ],
   "source": [
    "expr.subs(x,y)  # x를 y로 대체"
   ],
   "metadata": {
    "collapsed": false,
    "pycharm": {
     "name": "#%%\n"
    }
   }
  },
  {
   "cell_type": "code",
   "execution_count": 30,
   "outputs": [
    {
     "data": {
      "text/plain": "5",
      "image/png": "[encoded data removed]",
      "text/latex": "$\\displaystyle 5$"
     },
     "execution_count": 30,
     "metadata": {},
     "output_type": "execute_result"
    }
   ],
   "source": [
    "_.subs(y,2)  # 이전 출력을 가리킴"
   ],
   "metadata": {
    "collapsed": false,
    "pycharm": {
     "name": "#%%\n"
    }
   }
  },
  {
   "cell_type": "code",
   "execution_count": 37,
   "outputs": [
    {
     "data": {
      "text/plain": " 2            \nx  + 2⋅y⋅z + 2",
      "image/png": "[encoded data removed]",
      "text/latex": "$\\displaystyle x^{2} + 2 y z + 2$"
     },
     "execution_count": 37,
     "metadata": {},
     "output_type": "execute_result"
    }
   ],
   "source": [
    "expr = x**2 + 2*y*z + 1\n",
    "expr"
   ],
   "metadata": {
    "collapsed": false,
    "pycharm": {
     "name": "#%%\n"
    }
   }
  },
  {
   "cell_type": "code",
   "execution_count": 32,
   "outputs": [
    {
     "data": {
      "text/plain": "14",
      "image/png": "[encoded data removed]",
      "text/latex": "$\\displaystyle 14$"
     },
     "execution_count": 32,
     "metadata": {},
     "output_type": "execute_result"
    }
   ],
   "source": [
    "# 방정식에 변수 x,y,z에 값 대입했을 때 결과 값\n",
    "expr.subs( [ (x,1), (y,2), (z,3) ] )\n"
   ],
   "metadata": {
    "collapsed": false,
    "pycharm": {
     "name": "#%%\n"
    }
   }
  },
  {
   "cell_type": "code",
   "execution_count": 45,
   "outputs": [
    {
     "data": {
      "text/plain": "⎛      2          ⎞\n⎝1, 2⋅x  + 6⋅x - 2⎠",
      "image/png": "[encoded data removed]",
      "text/latex": "$\\displaystyle \\left( 1, \\  2 x^{2} + 6 x - 2\\right)$"
     },
     "execution_count": 45,
     "metadata": {},
     "output_type": "execute_result"
    }
   ],
   "source": [
    "# simplify() 함수는 수식을 간단히 만들어준다.\n",
    "simplify(cos(x)**2 + sin(x)**2), simplify(x**2 + 5*x + 3*(x-1) + (x-1)**2)\n"
   ],
   "metadata": {
    "collapsed": false,
    "pycharm": {
     "name": "#%%\n"
    }
   }
  },
  {
   "cell_type": "code",
   "execution_count": 47,
   "outputs": [
    {
     "data": {
      "text/plain": "   -y         \nx⋅ℯ   + cos(x)",
      "image/png": "[encoded data removed]",
      "text/latex": "$\\displaystyle x e^{- y} + \\cos{\\left(x \\right)}$"
     },
     "execution_count": 47,
     "metadata": {},
     "output_type": "execute_result"
    }
   ],
   "source": [
    "# sympify() 문장을 수식으로 변환\n",
    "string = \"x*exp(-y)+cos(x)\"\n",
    "sympify(string)"
   ],
   "metadata": {
    "collapsed": false,
    "pycharm": {
     "name": "#%%\n"
    }
   }
  },
  {
   "cell_type": "code",
   "execution_count": 52,
   "outputs": [
    {
     "data": {
      "text/plain": " 2          \nx  - 3⋅x + 2",
      "image/png": "[encoded data removed]",
      "text/latex": "$\\displaystyle x^{2} - 3 x + 2$"
     },
     "execution_count": 52,
     "metadata": {},
     "output_type": "execute_result"
    }
   ],
   "source": [
    "# expand() 수식 전개\n",
    "expand((x-1)*(x-2))\n"
   ],
   "metadata": {
    "collapsed": false,
    "pycharm": {
     "name": "#%%\n"
    }
   }
  },
  {
   "cell_type": "code",
   "execution_count": 56,
   "outputs": [
    {
     "data": {
      "text/plain": "⎛        ⎛ 2          ⎞         2⎞\n⎝(x - 2)⋅⎝x  + 2⋅x + 4⎠, (x + 1) ⎠",
      "image/png": "[encoded data removed]",
      "text/latex": "$\\displaystyle \\left( \\left(x - 2\\right) \\left(x^{2} + 2 x + 4\\right), \\  \\left(x + 1\\right)^{2}\\right)$"
     },
     "execution_count": 56,
     "metadata": {},
     "output_type": "execute_result"
    }
   ],
   "source": [
    "# factor() 함수는 수식을 인수분해 한다.\n",
    "factor( x**3 - 8 ), factor(x**2 + 2*x + 1)"
   ],
   "metadata": {
    "collapsed": false,
    "pycharm": {
     "name": "#%%\n"
    }
   }
  },
  {
   "cell_type": "code",
   "execution_count": 38,
   "outputs": [
    {
     "data": {
      "text/plain": "⎛ 3    2        2                 3    2                        ⎞\n⎝x  - x ⋅z + 2⋅x  + x⋅y + x - 3, x  + x ⋅(2 - z) + x⋅(y + 1) - 3⎠",
      "image/png": "[encoded data removed]",
      "text/latex": "$\\displaystyle \\left( x^{3} - x^{2} z + 2 x^{2} + x y + x - 3, \\  x^{3} + x^{2} \\left(2 - z\\right) + x \\left(y + 1\\right) - 3\\right)$"
     },
     "execution_count": 38,
     "metadata": {},
     "output_type": "execute_result"
    }
   ],
   "source": [
    "# collect() : x의 다항식으로 표현\n",
    "expr = x*y + x - 3 + 2*x**2 - z*x**2 + x**3\n",
    "expr, collect(expr, x)\n"
   ],
   "metadata": {
    "collapsed": false,
    "pycharm": {
     "name": "#%%\n"
    }
   }
  },
  {
   "cell_type": "code",
   "execution_count": 3,
   "outputs": [
    {
     "data": {
      "text/plain": "⎛ 2                 ⎞\n⎜x  + 2⋅x + 1  x + 1⎟\n⎜────────────, ─────⎟\n⎜    2           x  ⎟\n⎝   x  + x          ⎠",
      "image/png": "[encoded data removed]",
      "text/latex": "$\\displaystyle \\left( \\frac{x^{2} + 2 x + 1}{x^{2} + x}, \\  \\frac{x + 1}{x}\\right)$"
     },
     "execution_count": 3,
     "metadata": {},
     "output_type": "execute_result"
    }
   ],
   "source": [
    "# cancel : 분모, 분자를 약분. simplify를 해도 되는 것 같음\n",
    "expr = (x**2 + 2*x + 1)/(x**2 + x)\n",
    "expr, cancel(expr)"
   ],
   "metadata": {
    "collapsed": false,
    "pycharm": {
     "name": "#%%\n"
    }
   }
  },
  {
   "cell_type": "code",
   "execution_count": 4,
   "outputs": [
    {
     "data": {
      "text/plain": "⎛    1        1     1⎞\n⎜─────────, ───── - ─⎟\n⎝x⋅(x - 1)  x - 1   x⎠",
      "image/png": "[encoded data removed]",
      "text/latex": "$\\displaystyle \\left( \\frac{1}{x \\left(x - 1\\right)}, \\  \\frac{1}{x - 1} - \\frac{1}{x}\\right)$"
     },
     "execution_count": 4,
     "metadata": {},
     "output_type": "execute_result"
    }
   ],
   "source": [
    "# apart : 분수를 부분 분수식으로 변환\n",
    "expr = 1 / x / (x-1)\n",
    "expr, apart(expr)\n"
   ],
   "metadata": {
    "collapsed": false,
    "pycharm": {
     "name": "#%%\n"
    }
   }
  },
  {
   "cell_type": "code",
   "execution_count": null,
   "outputs": [],
   "source": [
    "# apart : 분수를 부분 분수식으로 변환\n",
    "expr = 1 / x / (x-1)\n",
    "expr, apart(expr)\n"
   ],
   "metadata": {
    "collapsed": false,
    "pycharm": {
     "name": "#%%\n"
    }
   }
  },
  {
   "cell_type": "code",
   "execution_count": null,
   "outputs": [],
   "source": [
    "# coeff : 특정항의 계수 구하기. x**2 의 계수\n",
    "expr.coeff(x,2)"
   ],
   "metadata": {
    "collapsed": false,
    "pycharm": {
     "name": "#%%\n"
    }
   }
  },
  {
   "cell_type": "code",
   "execution_count": 59,
   "outputs": [
    {
     "data": {
      "text/plain": "2 - z",
      "image/png": "[encoded data removed]",
      "text/latex": "$\\displaystyle 2 - z$"
     },
     "execution_count": 59,
     "metadata": {},
     "output_type": "execute_result"
    }
   ],
   "source": [
    "# coeff : 특정항의 계수 구하기. x**2 의 계수\n",
    "expr.coeff(x,2)"
   ],
   "metadata": {
    "collapsed": false,
    "pycharm": {
     "name": "#%%\n"
    }
   }
  },
  {
   "cell_type": "markdown",
   "source": [
    "# $ $사이에 latex를 추가하면, 주피터에서 식을 보여줌. solve한 결과 값도 사용 가능\n",
    "latex(x**2)"
   ],
   "metadata": {
    "collapsed": false
   }
  },
  {
   "cell_type": "code",
   "execution_count": 11,
   "outputs": [
    {
     "ename": "TypeError",
     "evalue": "'NoneType' object is not iterable",
     "output_type": "error",
     "traceback": [
      "\u001B[0;31m---------------------------------------------------------------------------\u001B[0m",
      "\u001B[0;31mTypeError\u001B[0m                                 Traceback (most recent call last)",
      "\u001B[0;32m<ipython-input-11-724db8cca410>\u001B[0m in \u001B[0;36m<module>\u001B[0;34m\u001B[0m\n\u001B[1;32m      1\u001B[0m \u001B[0;31m# todo 미분, 적분, 극한, 복소수, Taylor 급수 : http://allman84.blogspot.com/2018/10/sympy.html\u001B[0m\u001B[0;34m\u001B[0m\u001B[0;34m\u001B[0m\u001B[0;34m\u001B[0m\u001B[0m\n\u001B[0;32m----> 2\u001B[0;31m \u001B[0mplot_parametric\u001B[0m\u001B[0;34m(\u001B[0m\u001B[0mimageset\u001B[0m\u001B[0;34m(\u001B[0m\u001B[0msin\u001B[0m\u001B[0;34m,\u001B[0m \u001B[0mInterval\u001B[0m\u001B[0;34m(\u001B[0m\u001B[0;34m-\u001B[0m\u001B[0;36m2\u001B[0m\u001B[0;34m,\u001B[0m \u001B[0;36m1\u001B[0m\u001B[0;34m)\u001B[0m\u001B[0;34m)\u001B[0m\u001B[0;34m)\u001B[0m\u001B[0;34m\u001B[0m\u001B[0;34m\u001B[0m\u001B[0m\n\u001B[0m",
      "\u001B[0;32m~/anaconda3/envs/spark-study2/lib/python3.9/site-packages/sympy/plotting/plot.py\u001B[0m in \u001B[0;36mplot_parametric\u001B[0;34m(show, *args, **kwargs)\u001B[0m\n\u001B[1;32m   2031\u001B[0m     \u001B[0mseries\u001B[0m \u001B[0;34m=\u001B[0m \u001B[0;34m[\u001B[0m\u001B[0;34m]\u001B[0m\u001B[0;34m\u001B[0m\u001B[0;34m\u001B[0m\u001B[0m\n\u001B[1;32m   2032\u001B[0m     \u001B[0mplot_expr\u001B[0m \u001B[0;34m=\u001B[0m \u001B[0mcheck_arguments\u001B[0m\u001B[0;34m(\u001B[0m\u001B[0margs\u001B[0m\u001B[0;34m,\u001B[0m \u001B[0;36m2\u001B[0m\u001B[0;34m,\u001B[0m \u001B[0;36m1\u001B[0m\u001B[0;34m)\u001B[0m\u001B[0;34m\u001B[0m\u001B[0;34m\u001B[0m\u001B[0m\n\u001B[0;32m-> 2033\u001B[0;31m     \u001B[0mseries\u001B[0m \u001B[0;34m=\u001B[0m \u001B[0;34m[\u001B[0m\u001B[0mParametric2DLineSeries\u001B[0m\u001B[0;34m(\u001B[0m\u001B[0;34m*\u001B[0m\u001B[0marg\u001B[0m\u001B[0;34m,\u001B[0m \u001B[0;34m**\u001B[0m\u001B[0mkwargs\u001B[0m\u001B[0;34m)\u001B[0m \u001B[0;32mfor\u001B[0m \u001B[0marg\u001B[0m \u001B[0;32min\u001B[0m \u001B[0mplot_expr\u001B[0m\u001B[0;34m]\u001B[0m\u001B[0;34m\u001B[0m\u001B[0;34m\u001B[0m\u001B[0m\n\u001B[0m\u001B[1;32m   2034\u001B[0m     \u001B[0mplots\u001B[0m \u001B[0;34m=\u001B[0m \u001B[0mPlot\u001B[0m\u001B[0;34m(\u001B[0m\u001B[0;34m*\u001B[0m\u001B[0mseries\u001B[0m\u001B[0;34m,\u001B[0m \u001B[0;34m**\u001B[0m\u001B[0mkwargs\u001B[0m\u001B[0;34m)\u001B[0m\u001B[0;34m\u001B[0m\u001B[0;34m\u001B[0m\u001B[0m\n\u001B[1;32m   2035\u001B[0m     \u001B[0;32mif\u001B[0m \u001B[0mshow\u001B[0m\u001B[0;34m:\u001B[0m\u001B[0;34m\u001B[0m\u001B[0;34m\u001B[0m\u001B[0m\n",
      "\u001B[0;31mTypeError\u001B[0m: 'NoneType' object is not iterable"
     ]
    }
   ],
   "source": [
    "# todo 미분, 적분, 극한, 복소수, Taylor 급수 : http://allman84.blogspot.com/2018/10/sympy.html"
   ],
   "metadata": {
    "collapsed": false,
    "pycharm": {
     "name": "#%%\n"
    }
   }
  }
 ],
 "metadata": {
  "kernelspec": {
   "display_name": "spark-study2",
   "language": "python",
   "name": "spark-study2"
  },
  "language_info": {
   "codemirror_mode": {
    "name": "ipython",
    "version": 3
   },
   "file_extension": ".py",
   "mimetype": "text/x-python",
   "name": "python",
   "nbconvert_exporter": "python",
   "pygments_lexer": "ipython3",
   "version": "3.9.4"
  }
 },
 "nbformat": 4,
 "nbformat_minor": 1
}