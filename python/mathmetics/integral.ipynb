{
 "cells": [
  {
   "cell_type": "markdown",
   "metadata": {
    "collapsed": true,
    "pycharm": {
     "name": "#%% md\n"
    }
   },
   "source": [
    "# 적분 (Integral)\n",
    "\n",
    "## 부정적분(indefinite integral)\n",
    "- 역도함수(antiderivative) 라고도 함. 미분의 반대\n",
    "- 정적분의 반대, 정적분은 도함수의 특정 범위의 넓이는 함수값과 같음을 나타내고, 부정적분의 경우, 범위가 0~x까지의 정적분과 같다고 보면 됨.\n",
    "- C : 적분상수 (constant of integration)\n",
    "- f(x)가 F(x)의 도함수 일 때, F(x)를 f(x)의 부정적분이라함\n",
    "\n",
    "$\\int{f(x)dx=F(x)+C} (단, C는 상수)$\n",
    "\n",
    "### 표현식 이해\n",
    "$\\frac{d}{dx}F(x) = f(x)$　\n",
    "=> $dF(x) = f(x)dx$\n",
    "=> $F(x) + C = \\int{f(x)dx}$"
   ]
  },
  {
   "cell_type": "code",
   "execution_count": 4,
   "outputs": [],
   "source": [
    "from sympy_util import *\n",
    "%matplotlib inline"
   ],
   "metadata": {
    "collapsed": false,
    "pycharm": {
     "name": "#%%\n"
    }
   }
  },
  {
   "cell_type": "code",
   "execution_count": 9,
   "outputs": [
    {
     "data": {
      "text/plain": " 3\nx ",
      "image/png": "[encoded data removed]",
      "text/latex": "$\\displaystyle x^{3}$"
     },
     "execution_count": 9,
     "metadata": {},
     "output_type": "execute_result"
    }
   ],
   "source": [
    "fx = 3*x**2\n",
    "integrate(fx, x)"
   ],
   "metadata": {
    "collapsed": false,
    "pycharm": {
     "name": "#%%\n"
    }
   }
  },
  {
   "cell_type": "markdown",
   "source": [
    "### 부정적분의 성질\n",
    "\n",
    "- $\\int{kf(x)dx} = k\\int{f(x)dx}$\n",
    "- $\\int\\{f(x) \\pm g(x)\\}dx = \\int{f(x)dx} \\pm \\int{g(x)dx}$\n",
    "### $x^n$의 부정적분\n",
    "\n",
    "(1) $n \\neq -1$ 일 때, $\\int{x^ndx=\\frac{1}{n+1}x^{n+1}+C}$\n",
    "(2) $n = -1$ 일 때, $\\int{x^ndx} = \\int{x^{-1}dx} = \\log{|x|} + C$\n"
   ],
   "metadata": {
    "collapsed": false
   }
  },
  {
   "cell_type": "code",
   "execution_count": 10,
   "outputs": [
    {
     "data": {
      "text/plain": "<Figure size 432x288 with 1 Axes>",
      "image/png": "[encoded data removed]"
     },
     "metadata": {
      "needs_background": "light"
     },
     "output_type": "display_data"
    },
    {
     "data": {
      "text/plain": "log(x)",
      "image/png": "[encoded data removed]",
      "text/latex": "$\\displaystyle \\log{\\left(x \\right)}$"
     },
     "execution_count": 10,
     "metadata": {},
     "output_type": "execute_result"
    }
   ],
   "source": [
    "plot(log(abs(x)), 1/x, **lim(10))\n",
    "integrate(1/x, x)"
   ],
   "metadata": {
    "collapsed": false,
    "pycharm": {
     "name": "#%%\n"
    }
   }
  },
  {
   "cell_type": "markdown",
   "source": [
    "### 삼각함수의 부정적분\n",
    "\n",
    "- $\\int{\\sin{x}}dx = -\\cos{x} + C$\n",
    "- $\\int{\\cos{x}}dx = \\sin{x} + C$\n",
    "- $\\int{\\sec^2{x}}dx = \\tan{x} + C$"
   ],
   "metadata": {
    "collapsed": false
   }
  },
  {
   "cell_type": "markdown",
   "source": [
    "### 지수함수의 부정적분\n",
    "- $\\int{e^x}dx = e^x + C$\n",
    "- $\\int{a^x}dx = \\frac{a^x}{log{a}} + C$"
   ],
   "metadata": {
    "collapsed": false
   }
  },
  {
   "cell_type": "markdown",
   "source": [
    "### 치환 적분법\n",
    "\n",
    "$\\int{f(x)}dx = \\int{f(g(t)g^\\prime(t)}dt$\n",
    "\n",
    "- 적분하기 어려운 x에 대한 함수를 t에 대한 함수로 바꿔서 적분 후, 다시 t를 x로 치환하는 방법\n",
    "- 미분에서도 합성함수의 도함수를 구하는게 있는데, 좀 방식이 다름. 미분에서는 F(x)를 a(b(x)) 와 같이 F(x)를 a,b의 두함수로 분할 하고, x에 대한 함수를 나타내는 반면\n",
    "- 적분에서는 F(x)를 F(g(t)) 와 같이, F함수가 바뀌지 않고, x를 g(t)로 치환한 후, 적분 후, 다시 재치환 하는 방식을 씀\n",
    "\n",
    "#### 이해 방법\n",
    "x=g(t) 로 놓고,\n",
    "$\\int{f(x)}dx = \\int{f(g(t))}dx = \\int{f(g(t))}dx * \\frac{dt}{dx} * \\frac{dx}{dt} $\n",
    "$ = \\int{f(g(t))}dt * \\frac{dx}{dt} = \\int{f(g(t))g^\\prime(t)}dt $\n",
    "\n",
    "\n",
    "#### 이해가 필요한 문제\n",
    "\n",
    "$\\int{2xe^{x^2+1}dx}$\n",
    "\n",
    "$t=x^2+1$ 라고 하면,\n",
    "\n",
    "$\\int{2xe^{t}dx}$\n",
    "\n",
    "$\\frac{dt}{dx} = 2x$ 이므로\n",
    "\n",
    "$\\int{\\frac{dt}{dx}e^{t}dx} = \\int{e^{t}dt} = e^{x^2+1} + C$"
   ],
   "metadata": {
    "collapsed": false
   }
  },
  {
   "cell_type": "code",
   "execution_count": 15,
   "outputs": [
    {
     "data": {
      "text/plain": "  ⎛    4        3        2             ⎞\nx⋅⎝81⋅x  + 270⋅x  + 360⋅x  + 240⋅x + 80⎠\n────────────────────────────────────────\n                   5                    ",
      "image/png": "[encoded data removed]",
      "text/latex": "$\\displaystyle \\frac{x \\left(81 x^{4} + 270 x^{3} + 360 x^{2} + 240 x + 80\\right)}{5}$"
     },
     "execution_count": 15,
     "metadata": {},
     "output_type": "execute_result"
    }
   ],
   "source": [
    "factor(integrate((3*x+2)**4, x))\n",
    "# 인수 분해 안되는 듯. 정답은 (1/15)*(3x+2)^5\n",
    "# 치환 적분법을 쓰면, 인수분해한 적분값을 쉽게 얻을 수 있음"
   ],
   "metadata": {
    "collapsed": false,
    "pycharm": {
     "name": "#%%\n"
    }
   }
  },
  {
   "cell_type": "code",
   "execution_count": 1,
   "outputs": [
    {
     "ename": "NameError",
     "evalue": "name 'integrate' is not defined",
     "output_type": "error",
     "traceback": [
      "\u001B[0;31m---------------------------------------------------------------------------\u001B[0m",
      "\u001B[0;31mNameError\u001B[0m                                 Traceback (most recent call last)",
      "\u001B[0;32m<ipython-input-1-404743f769a6>\u001B[0m in \u001B[0;36m<module>\u001B[0;34m\u001B[0m\n\u001B[0;32m----> 1\u001B[0;31m \u001B[0mintegrate\u001B[0m\u001B[0;34m(\u001B[0m\u001B[0;36m2\u001B[0m\u001B[0;34m*\u001B[0m\u001B[0mx\u001B[0m\u001B[0;34m*\u001B[0m\u001B[0mE\u001B[0m\u001B[0;34m**\u001B[0m\u001B[0;34m(\u001B[0m\u001B[0mx\u001B[0m\u001B[0;34m**\u001B[0m\u001B[0;36m2\u001B[0m\u001B[0;34m+\u001B[0m\u001B[0;36m1\u001B[0m\u001B[0;34m)\u001B[0m\u001B[0;34m,\u001B[0m \u001B[0mx\u001B[0m\u001B[0;34m)\u001B[0m\u001B[0;34m\u001B[0m\u001B[0;34m\u001B[0m\u001B[0m\n\u001B[0m",
      "\u001B[0;31mNameError\u001B[0m: name 'integrate' is not defined"
     ]
    }
   ],
   "source": [
    "integrate(2*x*E**(x**2+1), x)"
   ],
   "metadata": {
    "collapsed": false,
    "pycharm": {
     "name": "#%%\n"
    }
   }
  },
  {
   "cell_type": "markdown",
   "source": [
    "#### 치환 적분법 활용\n",
    "\n",
    "- $\\int{\\frac{f^\\prime(x)}{f(x)}dx} = \\log{|f(x)|} + C$\n",
    "\n",
    "- $\\int{f(x)f^\\prime(x)dx} = \\frac{1}{2}f^2(x) + C$"
   ],
   "metadata": {
    "collapsed": false
   }
  },
  {
   "cell_type": "markdown",
   "source": [
    "### 부분 적분법\n",
    "\n",
    "$\\int{f^\\prime(x)g(x)dx} = f(x)g(x) - \\int{f(x)g^\\prime(x)dx}$\n",
    "\n",
    "- 적분하기 어려운 함수를 g(x)로 두기(로그함수, 다항함수, 삼각함수, 지수함수 순(로다삼지))\n",
    "- $f(x)g^\\prime(x)$ 를 하나의 적분 가능한 함수로 만들기 위해, 적분이 어려운 g(x)를 미분해서, 처리\n",
    "\n",
    "#### 부분 적분 사용 예\n",
    "- $\\int{\\log{x}dx} = x\\log{x} - x + C$\n",
    "\n",
    "- $\\int{\\log_a{x}dx} = x\\log_ax - \\frac{x}{\\log{a}} + C$\n",
    "\n",
    "- $\\int{e^x\\cos{x}dx}= \\frac{1}{2}(e^x\\cos{x} + e^x\\sin{x})$"
   ],
   "metadata": {
    "collapsed": false
   }
  },
  {
   "cell_type": "markdown",
   "source": [
    "## 정적분 (definite integral)\n",
    "특정 범위 [a,b] 의 x축과, f(x)선 사이의 넓이를 나타냄\n",
    "\n",
    "$\\int_{a}^{b}{f(x)dx}$\n",
    "\n",
    "### 적분과 미분의 관계\n",
    "f(x)와 $f^\\prime(x)$의 관계는\n",
    "- $f^\\prime(x)$는 f(x)의 기울기 ($\\frac{d}{dx}f(x) = f^\\prime(x)$) (f(x)의 상수값은 소실)\n",
    "- f(x)는 $f^\\prime(x)$의 넓이 ($\\int{f^\\prime(x)dx} = f(x)$)\n",
    "- df(x)는 $dx*f^\\prime(x)$ (f(x)의 y변화량은 도함수의 넓이 변화량)\n",
    "### 적분의 쉬운 이해\n",
    "\n",
    "$\\frac{d}{dx}f(x) = f^\\prime(x)$\n",
    "\n",
    "=> $df(x) = f^\\prime(x)*dx$ (f(x)의 증가량은 $f^\\prime(x)$의 dx 범위의 넓이와 같음)\n",
    "=> $f(x) = df(0) + df(dx) + df(2*dx) ... df(x) = \\sum_{t=0}^{x}{f^\\prime(x)*dx}$ (단 t의 증가량은 dx)\n",
    "\n",
    "=> $f(x) = \\int{f^\\prime(x)*dx}$ (위의 $\\sum_{t=0}^{x}$과 $\\int$외의 값이 동일하다는 것을 볼 수 있다. $\\int$의 의미는 0부터 x까지의 합으로 이해하는게 적절해 보인다)"
   ],
   "metadata": {
    "collapsed": false,
    "pycharm": {
     "name": "#%% md\n"
    }
   }
  },
  {
   "cell_type": "markdown",
   "source": [
    "### 정적분 성질\n",
    "$\\int_a^b{f(t)dt} = F(b) - F(a)$　\n",
    "\n",
    "$\\frac{d}{dx}\\int_a^x{f(t)dt = f(x)}$\n",
    "\n",
    "- 부정적분에서는 0~x일 때를 의미하는데, 정적분에서도 미분을 하면, f(x)가 나오는 이유는\n",
    "\n",
    "- $\\int_a^x{f(t)dt = \\int_0^x{f(t)dt - \\int_0^a{f(t)dt$\n",
    "\n",
    "- 위의 식에서 $\\int_0^a{f(t)dt$는 상수가 되어, 미분을 통한 기울기를 구할 때, 값이 사라지기 때문에, a가 어떤 값이 되든, 상수이면, 정적분의 미분은 f(x)가 됨\n",
    "- f(x)는 적분한 함수의 기울기이므로, 적분한 함수의 상수는 a에 따라 달라지지만, 기울기는 달라지지 않음\n",
    "\n",
    "$\\int_a^a{f(x)dx} = 0$\n",
    "\n",
    "- $\\int_a^x{f(x)dx}$ 의 상수값을 구할 때, x = a로 대입하면 상수값(0~a까지의 적분값)을 쉽게 구할 수 있음\n",
    "- 예: $\\int_2^x{f(t)dt} = e^x + x - a$ ($a = e^2 + 2$ 가 됨)"
   ],
   "metadata": {
    "collapsed": false
   }
  },
  {
   "cell_type": "code",
   "execution_count": 5,
   "outputs": [
    {
     "data": {
      "text/plain": "10/3",
      "image/png": "[encoded data removed]",
      "text/latex": "$\\displaystyle \\frac{10}{3}$"
     },
     "execution_count": 5,
     "metadata": {},
     "output_type": "execute_result"
    }
   ],
   "source": [
    "fx = 2*x**2 - x\n",
    "integrate(fx, (x, 0, 2))"
   ],
   "metadata": {
    "collapsed": false,
    "pycharm": {
     "name": "#%%\n"
    }
   }
  },
  {
   "cell_type": "markdown",
   "source": [],
   "metadata": {
    "collapsed": false
   }
  }
 ],
 "metadata": {
  "kernelspec": {
   "display_name": "Python 3",
   "language": "python",
   "name": "python3"
  },
  "language_info": {
   "codemirror_mode": {
    "name": "ipython",
    "version": 2
   },
   "file_extension": ".py",
   "mimetype": "text/x-python",
   "name": "python",
   "nbconvert_exporter": "python",
   "pygments_lexer": "ipython2",
   "version": "2.7.6"
  }
 },
 "nbformat": 4,
 "nbformat_minor": 0
}