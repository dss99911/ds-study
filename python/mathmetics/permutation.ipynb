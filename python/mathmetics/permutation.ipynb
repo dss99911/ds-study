{
 "cells": [
  {
   "cell_type": "markdown",
   "metadata": {
    "collapsed": true,
    "pycharm": {
     "name": "#%% md\n"
    }
   },
   "source": [
    "# 순열(Permutation)\n",
    "n개 중 r개를 선택할 때, 발생할 수 있는 경우의 수\n",
    "- $_nP_r = n(n-1)(n-2)\\cdots(n-r+1) = \\frac{n!}{(n-r)!}$\n",
    "\n",
    "- $_nP_n = n!$\n",
    "- $_nP_0 = 1$\n",
    "- $0! = 1$"
   ]
  },
  {
   "cell_type": "markdown",
   "source": [
    "# 조합(Combination)\n",
    "- $_nC_r = \\frac{_nP_r}{r!} = \\frac{n!}{r!(n-r)!}$\n",
    "\n",
    "- $_nC_r = _nC_{n-r}$"
   ],
   "metadata": {
    "collapsed": false
   }
  },
  {
   "cell_type": "markdown",
   "source": [
    "## 이항계수의 합\n",
    "- $\\sum_{r=0}^{n}_nC_r = _nC_0 + \\cdots + _nC_n = 2^n$\n",
    "- $\\sum_{r=0}^{n}(-1)^r_nC_r = _nC_0 + \\cdots + (-1)^n_nC_n = 0`$"
   ],
   "metadata": {
    "collapsed": false
   }
  }
 ],
 "metadata": {
  "kernelspec": {
   "display_name": "Python 3",
   "language": "python",
   "name": "python3"
  },
  "language_info": {
   "codemirror_mode": {
    "name": "ipython",
    "version": 2
   },
   "file_extension": ".py",
   "mimetype": "text/x-python",
   "name": "python",
   "nbconvert_exporter": "python",
   "pygments_lexer": "ipython2",
   "version": "2.7.6"
  }
 },
 "nbformat": 4,
 "nbformat_minor": 0
}