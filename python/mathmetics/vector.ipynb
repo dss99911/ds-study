{
 "cells": [
  {
   "cell_type": "code",
   "execution_count": 1,
   "outputs": [],
   "source": [
    "from sympy_util import *\n",
    "%matplotlib inline"
   ],
   "metadata": {
    "collapsed": false,
    "pycharm": {
     "name": "#%%\n"
    }
   }
  },
  {
   "cell_type": "markdown",
   "metadata": {
    "collapsed": true,
    "pycharm": {
     "name": "#%% md\n"
    }
   },
   "source": [
    "# Vector\n",
    "벡터 = 방향 + 길이\n",
    "벡터의 시작점을 O(0,0)로 놓으면,\n",
    "벡터는 좌표위의 점과 동일하게 이해해도 무방\n",
    "\n",
    "벡터는 기하학과 좌표와의 연결 고리인 듯.\n",
    "기하학은 선분들의 길이를 통해 다른 선분의 길이를 구하거나 하는데,\n",
    "이것을 좌표값을 통해 계산 하는 방식. 좌표에서 계산하므로, 방향까지도 알 수 있게 된다."
   ]
  },
  {
   "cell_type": "markdown",
   "source": [
    "## 스칼라\n",
    "방향이 제거된 길이 값\n",
    "$|\\vec{a}| = \\sqrt{a_1^2 + a_2^2}$"
   ],
   "metadata": {
    "collapsed": false
   }
  },
  {
   "cell_type": "markdown",
   "source": [
    "## 백터의 성질\n",
    "- $\\overrightarrow{AB} = \\overrightarrow{OB} - \\overrightarrow{OA}$\n",
    "\n",
    "- $\\vec{a} - \\vec{b} = (a_1-b_1, a_2-b_2)$ (벡터를 좌표로 나타냄)\n",
    "\n",
    "B점에서 A점을 뺐을 때, A점을 기준으로 B점의 위치와 동일하다는 의미\n",
    "벡터로 이해와, 좌표로 이해. 둘다 이해해야 됨.\n",
    "벡터를 쓰는 이유는, 좌표로 하기 어려운 작업을 벡터로 표현하여, 처리하기 위한 것인듯\n"
   ],
   "metadata": {
    "collapsed": false
   }
  },
  {
   "cell_type": "markdown",
   "source": [
    "## 벡터의 내적\n",
    "$\\vec{a}\\cdot\\vec{b} = |\\vec{a}||\\vec{b}|\\cos{\\theta}$\n",
    "\n",
    "### 설명\n",
    "아래와 같은 삼각형이 있다고 했을 때, 오른쪽 점이 B, 위 점이 A라 하고\n",
    "$\\overline{OA}$와 $\\overline{OB}$의 벡터를 $\\vec{a}, \\vec{b}$라 하고, a,b의 사이의 각을 $\\theta$라 했을 때,\n",
    "\n",
    "점 A에서 선분 $\\overline{OB}$에 직각이되게 선을 그었을 때 생긴 점과 O와의 길이를 h로 놓고\n",
    "점 B에서 선분 $\\overline{OA}$에 직각이되게 선을 그었을 때 생긴 점과 O와의 길이를 i로 놓으면\n",
    "아래가 성립함\n",
    "\n",
    "$h|\\vec{a}| = i|\\vec{b}| = |\\vec{a}||\\vec{b}|\\cos{\\theta}$\n",
    "\n",
    "내적이란, 하나의 벡터를 다른 벡터로 겹친 후에, 곱한 값.\n",
    "삼각형에서 두 선분 중 하나가, 다른 선분에 직각이되게 겹쳐질 때(빛이 선분 a에 닿았을 때, 땅(선분b)에 그림자가 생기듯)\n",
    "하나의 벡터로 합쳐진 두 값의 곱은 다른 벡터로 합쳐진 두 값의 곱과 같다는 성질을 어딘가에 활용하는 듯\n",
    "\n",
    "### 설명2\n",
    "삼각형의 공식 $c^2=a^2+b^2-2ab\\cos{\\theta}$ 을 사용해서,\n",
    "$|\\vec{a} - \\vec{b}|^2 = |\\vec{a}|^2 + |\\vec{b}|^2 - 2|\\vec{a}||\\vec{b}|\\cos{\\theta}$로 표현하면,\n",
    "벡터에 곱셈이 정의되지 않았지만, 일관된 곱셈의 법칙이 존재한다고 가정하고  $|\\vec{a} - \\vec{b}|^2$를 분리해보면,\n",
    "$\\vec{a}^2 + \\vec{b}^2 -2\\vec{a}\\cdot\\vec{b}$가 된다.\n",
    "이 값이 $|\\vec{a}|^2 + |\\vec{b}|^2 - 2|\\vec{a}||\\vec{b}|\\cos{\\theta}$ 와 너무 유사하여,\n",
    "\n",
    "$-2|\\vec{a}||\\vec{b}|\\cos{\\theta} = -2\\vec{a}\\cdot\\vec{b}$ 라고 가정해보면,\n",
    "$\\vec{a}\\cdot\\vec{b} = |\\vec{a}||\\vec{b}|\\cos{\\theta}$ 라는 공식이 나오는데,\n",
    "이 공식을\n",
    "$\\vec{a}^2$에 대입해보면,  $|\\vec{a}|^2$ 가 되어, 모든게 성립한다.\n",
    "\n",
    "이를 통해, 삼각형의 공식을 벡터로 표현하는 것이 가능하고, 벡터로 표현하여, 삼각형의 공식등에 활용하기 위해서는\n",
    "$\\vec{a}\\cdot\\vec{b} = |\\vec{a}||\\vec{b}|\\cos{\\theta}$ 라는 식을통해, 벡터를 스칼라로 변환 시켜 계산하면 된다는 의미\n",
    "\n",
    "\n"
   ],
   "metadata": {
    "collapsed": false
   }
  },
  {
   "cell_type": "code",
   "execution_count": 4,
   "outputs": [
    {
     "data": {
      "text/plain": "<Figure size 432x288 with 1 Axes>",
      "image/png": "[encoded data removed]"
     },
     "metadata": {
      "needs_background": "light"
     },
     "output_type": "display_data"
    }
   ],
   "source": [
    "plt.plot(*points((0,0), (5,0), (9/5, 12/5), (0,0)))\n",
    "plt.show()"
   ],
   "metadata": {
    "collapsed": false,
    "pycharm": {
     "name": "#%%\n"
    }
   }
  },
  {
   "cell_type": "markdown",
   "source": [
    "### 성분으로 나타낸 벡터의 내적\n",
    "$\\vec{a}\\cdot\\vec{b}=a_1b_1 + a_2b_2$ (평면)\n",
    "$\\vec{a}\\cdot\\vec{b}=a_1b_1 + a_2b_2 + a_3b_3$ (공간)"
   ],
   "metadata": {
    "collapsed": false,
    "pycharm": {
     "name": "#%% md\n"
    }
   }
  },
  {
   "cell_type": "code",
   "execution_count": 7,
   "outputs": [
    {
     "name": "stdout",
     "output_type": "stream",
     "text": [
      "a dot b = 11\n"
     ]
    }
   ],
   "source": [
    "a = np.array([1,2])  # a = (1,2)\n",
    "b = np.array([3,4])  # b = (3,4)\n",
    "print(\"a dot b =\", np.dot(a,b))"
   ],
   "metadata": {
    "collapsed": false,
    "pycharm": {
     "name": "#%%\n"
    }
   }
  },
  {
   "cell_type": "markdown",
   "source": [
    "### 두 벡터가 이루는 각의 크기\n",
    "\n",
    "$\\cos{\\theta}=\\frac{\\vec{a}\\cdot\\vec{b}}{|\\vec{a}||\\vec{b}|} = \\frac{a_1b_1 + a_2b_2}{\\sqrt{a_1^2+a_2^2}\\sqrt{b_1^2+b_2^2}}$\n",
    "\n",
    "- 삼각형 공식으로도 도출 가능\n",
    "- 삼각형 공식을 좌표상의 점으로 변환한 것으로 이해하면 됨.\n",
    "\n",
    "### 내적이 0인 경우\n",
    "- 두 벡터의 각이 직각일 때, cos값이 0이 되어 내적이 0"
   ],
   "metadata": {
    "collapsed": false,
    "pycharm": {
     "name": "#%% md\n"
    }
   }
  },
  {
   "cell_type": "markdown",
   "source": [
    "## 벡터의 외적\n",
    "\n",
    "$\\vec{a}\\times\\vec{b} =(a_2b_3 - a_3b_2, a_3b_1 - a_1b_3, a_1b_2 - a_2b_1)$\n",
    "\n",
    "두 벡터에 수직인 벡터를 의미\n",
    "\n",
    "$(\\vec{a}\\times\\vec{b})\\cdot\\vec{a}=(\\vec{a}\\times\\vec{b})\\cdot\\vec{b}=0$\n",
    "\n",
    "### 설명\n",
    "두 벡터가 같이 있는 평면이 존재하고, 그 평면에 수직인 벡터를 찾는 문제\n",
    "2차 평면에서 $(a_1, a_2)$ 벡터에 직각인 크기가 같은 벡터는 $(a_2, -a_1)$나, $(-a_2, a_1)$\n",
    "\n",
    "이와 비슷한 방식으로 3차 공간에서 값을 찾으면 됨.\n",
    "두 벡터가 a,b 찾으려는 수직인 벡터가 c라고 했을 때.\n",
    "$a_1c_1 + a_2c_2 + a_3c_3 = 0$\n",
    "$b_1c_1 + b_2c_2 + b_3c_3 = 0$\n",
    "가 되고, 연립방정식으로 풀면\n",
    "$a_1b_1c_1 + a_2b_1c_2 + a_3b_1c_3 = 0$\n",
    "$a_1b_1c_1 + a_1b_2c_2 + a_1b_3c_3 = 0$\n",
    "$(a_2b_1 - a_1b_2)c_2 = (a_1b_3 - a_3b_1)c_3$\n",
    "여기에서, c는 a,b와 수직이 되기만 하면, 어떠한 값이라도 상관 없으니, 가장 구하기 쉬운 값은\n",
    "$c_2 = a_3b_1 - a_1b_3 $\n",
    "$c_3 = a_1b_3 - a_3b_1 $\n",
    "\n",
    "$a_1c_1 + a_2c_2 + a_3c_3 = 0$ 에 $c_2, c_3$ 를 대입하면,\n",
    "$c_1 = a_2b_3 - a_3b_2$ 가 됨."
   ],
   "metadata": {
    "collapsed": false,
    "pycharm": {
     "name": "#%% md\n"
    }
   }
  },
  {
   "cell_type": "code",
   "execution_count": 9,
   "outputs": [
    {
     "name": "stdout",
     "output_type": "stream",
     "text": [
      "a cross b = [ 1 -9 23]\n",
      "a cross b = -1\n"
     ]
    }
   ],
   "source": [
    "a = np.array([4,3,1]) # 26\n",
    "b = np.array([-5,2,1]) # 30\n",
    "print(\"a cross b =\", np.cross(a,b))\n",
    "a = np.array([1,2])\n",
    "b = np.array([3,5])\n",
    "print(\"a cross b =\", np.cross(a,b))  # z좌표만 출력"
   ],
   "metadata": {
    "collapsed": false,
    "pycharm": {
     "name": "#%%\n"
    }
   }
  },
  {
   "cell_type": "code",
   "execution_count": null,
   "outputs": [],
   "source": [],
   "metadata": {
    "collapsed": false,
    "pycharm": {
     "name": "#%%\n"
    }
   }
  }
 ],
 "metadata": {
  "kernelspec": {
   "display_name": "Python 3",
   "language": "python",
   "name": "python3"
  },
  "language_info": {
   "codemirror_mode": {
    "name": "ipython",
    "version": 2
   },
   "file_extension": ".py",
   "mimetype": "text/x-python",
   "name": "python",
   "nbconvert_exporter": "python",
   "pygments_lexer": "ipython2",
   "version": "2.7.6"
  }
 },
 "nbformat": 4,
 "nbformat_minor": 0
}