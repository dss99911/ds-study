{
 "cells": [
  {
   "cell_type": "markdown",
   "source": [
    "# Function\n",
    "https://docs.sympy.org/latest/modules/functions/index.html"
   ],
   "metadata": {
    "collapsed": false,
    "pycharm": {
     "name": "#%% md\n"
    }
   }
  },
  {
   "cell_type": "code",
   "execution_count": 2,
   "metadata": {
    "collapsed": true
   },
   "outputs": [],
   "source": [
    "from sympy_util import *\n",
    "%matplotlib inline\n"
   ]
  },
  {
   "cell_type": "code",
   "execution_count": 3,
   "outputs": [
    {
     "data": {
      "text/plain": "f(1) + 1",
      "image/png": "[encoded data removed]",
      "text/latex": "$\\displaystyle f{\\left(1 \\right)} + 1$"
     },
     "execution_count": 3,
     "metadata": {},
     "output_type": "execute_result"
    }
   ],
   "source": [
    "# custom function\n",
    "\n",
    "f = Function('f')\n",
    "\n",
    "f(1) + 1"
   ],
   "metadata": {
    "collapsed": false,
    "pycharm": {
     "name": "#%%\n"
    }
   }
  },
  {
   "cell_type": "code",
   "execution_count": 12,
   "outputs": [
    {
     "data": {
      "text/plain": "my_func(3.54)",
      "image/png": "[encoded data removed]",
      "text/latex": "$\\displaystyle \\operatorname{my_{func}}{\\left(3.54 \\right)}$"
     },
     "execution_count": 12,
     "metadata": {},
     "output_type": "execute_result"
    }
   ],
   "source": [
    "from sympy import Function, S, oo, I, sin\n",
    "class my_func(Function):\n",
    "\n",
    "    @classmethod\n",
    "    def eval(cls, x):\n",
    "        if x.is_Number:\n",
    "            if x.is_zero:\n",
    "                return S.One\n",
    "            elif x is S.Infinity:\n",
    "                return S.Zero\n",
    "\n",
    "    def _eval_is_real(self):\n",
    "        return self.args[0].is_real\n",
    "\n",
    "my_func(0) + sin(0), my_func(oo)\n",
    "\n",
    "my_func(3.54)  # not yet implemented"
   ],
   "metadata": {
    "collapsed": false,
    "pycharm": {
     "name": "#%%\n"
    }
   }
  },
  {
   "cell_type": "code",
   "execution_count": 5,
   "outputs": [
    {
     "data": {
      "text/plain": "[g(y)]",
      "image/png": "[encoded data removed]",
      "text/latex": "$\\displaystyle \\left[ g{\\left(y \\right)}\\right]$"
     },
     "execution_count": 5,
     "metadata": {},
     "output_type": "execute_result"
    }
   ],
   "source": [
    "g = Function('g')\n",
    "class f(Function):\n",
    "    def inverse(self, argindex=1):\n",
    "        return g\n",
    "    def _eval_simplify(self, **kwargs):\n",
    "        if isinstance(self.args[0], self.inverse()):\n",
    "            return self.args[0].args[0]\n",
    "        return self\n",
    "\n",
    "solve(y - f(x), x)"
   ],
   "metadata": {
    "collapsed": false,
    "pycharm": {
     "name": "#%%\n"
    }
   }
  },
  {
   "cell_type": "code",
   "execution_count": 6,
   "outputs": [
    {
     "data": {
      "text/plain": "(f(g(x)), x)",
      "image/png": "[encoded data removed]",
      "text/latex": "$\\displaystyle \\left( f{\\left(g{\\left(x \\right)} \\right)}, \\  x\\right)$"
     },
     "execution_count": 6,
     "metadata": {},
     "output_type": "execute_result"
    }
   ],
   "source": [
    "f(g(x)), f(g(x)).simplify()"
   ],
   "metadata": {
    "collapsed": false,
    "pycharm": {
     "name": "#%%\n"
    }
   }
  },
  {
   "cell_type": "code",
   "execution_count": null,
   "outputs": [],
   "source": [],
   "metadata": {
    "collapsed": false,
    "pycharm": {
     "name": "#%%"
    }
   }
  }
 ],
 "metadata": {
  "kernelspec": {
   "display_name": "Python 3",
   "language": "python",
   "name": "python3"
  },
  "language_info": {
   "codemirror_mode": {
    "name": "ipython",
    "version": 2
   },
   "file_extension": ".py",
   "mimetype": "text/x-python",
   "name": "python",
   "nbconvert_exporter": "python",
   "pygments_lexer": "ipython2",
   "version": "2.7.6"
  }
 },
 "nbformat": 4,
 "nbformat_minor": 0
}