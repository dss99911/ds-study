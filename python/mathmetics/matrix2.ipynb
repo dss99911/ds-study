{
 "cells": [
  {
   "cell_type": "code",
   "execution_count": 3,
   "metadata": {
    "collapsed": true
   },
   "outputs": [],
   "source": [
    "import numpy as np\n",
    "\n",
    "from sympy_util import *\n",
    "%matplotlib inline"
   ]
  },
  {
   "cell_type": "markdown",
   "metadata": {
    "pycharm": {
     "name": "#%% md\n"
    }
   },
   "source": [
    "# 행렬\n",
    "\n",
    "행의 요소와 열의 요소 사이에 관계된 수치를 나타내는 것"
   ]
  },
  {
   "cell_type": "markdown",
   "metadata": {
    "pycharm": {
     "name": "#%% md\n"
    }
   },
   "source": [
    "https://www.overleaf.com/learn/latex/Matrices\n",
    "\n",
    "\n",
    "$M=\\begin{bmatrix}\n",
    "1 & 2 & 3 & 4 & 5\\\\\n",
    "3 & 4 & 5 & 6 & 7\n",
    "\\end{bmatrix}$\n",
    "\n",
    "\n",
    "#### 영행렬(Zero matrix)\n",
    "$M=\\begin{bmatrix}\n",
    "0 & 0 \\\\\n",
    "0 & 0\n",
    "\\end{bmatrix}$"
   ]
  },
  {
   "cell_type": "markdown",
   "metadata": {
    "pycharm": {
     "name": "#%% md\n"
    }
   },
   "source": [
    "## 헹렬의 곱셉\n",
    "- 두 행렬에는 공통된 요소를 가지고 있고, 두 행렬에서 공통 되지 않은 다른 요소들의 관계를 나타내기 위해 곱셈을 한다\n",
    "    - 예 : 식료품 요소를, A,B,C마트에서의 가격의 행렬과. 식료품 구매자가 필요로 하는 삭료품 수의 행렬이 있으면\n",
    "    - 마트와 구매자와의 관계된 구매자가 내야 하는 가격. 곱을 하려면, 두 숫자가 결합했을 때, 의미있는 수여야 함.\n",
    "- m x p행렬과 p x n 행렬 처럼, 첫 행렬의 열과 두번 째 행렬의 행의 수가 같아야함\n",
    "- 두번 째 행렬에 p를 행으로 표현하는 이유\n",
    "    - 두 행렬이 곱해졌을 때, m*n 행렬이 되므로, 사전에 미리 행이 될 건 행으로 표현, 열이될 건 열로 표현하여, 좀더 직관적으로 이해하기 쉬우라고, 이렇게 한듯..?\n",
    "    -\n",
    "\n",
    "### 행렬 곱셈 성질\n",
    "- 곱셈은 교환법칙이 성립 안함.\n",
    "\n",
    "$\\begin{bmatrix}\n",
    "1 & 2 & 3\\\\\n",
    "3 & 4 & 5\n",
    "\\end{bmatrix}\n",
    "\\times\n",
    "\\begin{bmatrix}\n",
    "1 & 2\\\\\n",
    "3 & 4\\\\\n",
    "5 & 6\n",
    "\\end{bmatrix}\n",
    "= \\begin{bmatrix}\n",
    "22 & 28\\\\\n",
    "40 & 52\n",
    "\\end{bmatrix}\n",
    "$"
   ]
  },
  {
   "cell_type": "code",
   "execution_count": 3,
   "metadata": {
    "pycharm": {
     "name": "#%%\n"
    }
   },
   "outputs": [
    {
     "data": {
      "text/plain": [
       "(array([[2, 3, 1],\n",
       "        [4, 5, 1]]),\n",
       " array([[-1,  2],\n",
       "        [ 4, -2],\n",
       "        [ 3,  6]]),\n",
       " array([[13,  4],\n",
       "        [19,  4]]))"
      ]
     },
     "execution_count": 3,
     "metadata": {},
     "output_type": "execute_result"
    }
   ],
   "source": [
    "A = np.array([\n",
    "    [2, 3, 1],\n",
    "    [4, 5, 1]\n",
    "])\n",
    "B = np.array([\n",
    "    [-1, 2],\n",
    "    [4, -2],\n",
    "    [3, 6]\n",
    "])\n",
    "\n",
    "AB = np.dot(A, B)\n",
    "A, B, AB"
   ]
  },
  {
   "cell_type": "markdown",
   "metadata": {
    "pycharm": {
     "name": "#%% md\n"
    }
   },
   "source": [
    "\n",
    "### 항등행렬 (identity matrix)\n",
    "AI = IA = A\n",
    "곱했을 때, 동일한 경우. 사칙연산의 곱셈에서 1과 같은 존재\n",
    "\n",
    "$I=\\begin{bmatrix}\n",
    "1 & 0 \\\\\n",
    "0 & 1\n",
    "\\end{bmatrix} = 𝛿_{ij}$\n",
    "\n",
    "\n",
    "$ 𝛿_{ij} =\n",
    "\\begin{cases}\n",
    "      1 & \\text{i = j} \\\\\n",
    "      0 & \\text{i \\neq j}\n",
    "\\end{cases}\n",
    "$\n",
    "\n",
    "Kronecker delta"
   ]
  },
  {
   "cell_type": "markdown",
   "metadata": {},
   "source": [
    "## 역행렬\n",
    "정사각 행렬에서 $AB = I_n = BA$ 일 때, B는 A의 역행렬\n",
    "\n",
    "### 역행렬의 성질\n",
    "\n",
    "- $(A^{-1})^{-1} = A$\n",
    "\n",
    "- $(AB)^{-1} = B^{-1}A^{-1}$\n",
    "\n",
    "- $(cA)^{-1} = \\frac{1}{c}A^{-1}$\n",
    "\n",
    "- $(A^k)^{-1} = (A^{-1})^k$\n",
    "\n",
    "### 2X2 역행렬 구하기\n",
    "$A =\n",
    "\\begin{bmatrix}\n",
    "a & b \\\\\n",
    "c & d\n",
    "\\end{bmatrix}\n",
    "$\n",
    "\n",
    "에 대하여\n",
    "\n",
    "$A^{-1} = \\frac{1}{ad - bc}\n",
    "\\begin{bmatrix}\n",
    "d & -b \\\\\n",
    "-c & a\n",
    "\\end{bmatrix}$\n",
    "\n",
    "- 항등행렬에 1인 부분은 방향을 바꾸고, 0인 부분은 마이너스\n",
    "- ad - bc = 0 인 경우에는 역행렬이 존재 하지 않음\n",
    "\n",
    "### 행렬식(determinant)\n",
    "- 2X2 행렬에서 ad - bc 가 행렬식\n",
    "- 0인지 여부를 통해, 역행렬의 존재유무를 파악 (determinant는 결정요인이란 뜻으로, 역행렬 유무를 결정)\n",
    "- 역행렬을 구할 때 필요한 파라미터 중 하나\n",
    "\n",
    "$\\det{A} = \\sum_{j=1}^n{a_{ij}(-1)^{i+j}\\det{A_{ij}} = \\sum_{i=1}^n{a_{ij}(-1)^{i+j}\\det{A_{ij}}}$\n",
    "\n",
    "- 단, A=[a] 행렬의 행렬식은 a\n",
    "- $A_{ij}$의 의미는 행렬에서 i행, j열을 삭제하고 남은 행렬을 의미\n",
    "- 아무 행이나, 아무 열 중 하나를 선택하고, 반대쪽 항을 1~n까지 합하면 됨. 어떤 것을 선택해도, 동일한 결과가 나온다고 함\n",
    "- a_{ij}를 곱하므로, 0이 많은 행이나 열을 선택하면 계산이 수월\n",
    "- $(-1)^{i+j}$를 통해 마이너스와 플러스 값이 교차함\n",
    "\n",
    "#### 여인자(cofactor)\n",
    "$C_{ij} = (-1)^{i+j}\\det{A_{ij}}$\n",
    "\n",
    "- 행렬식 중 $a_{ij}$의 나머지 부분(cofactor 함께하는 요소. $a_{ij}$와 함께 하는 행렬의 다른 요소)\n",
    "- 역행렬을 구할 때 파라미터 중 하나\n",
    "\n",
    "\n",
    "#### 역함수가 없는 경우(행렬식이 0인 경우)\n",
    "- 한 행이나, 한 열이 전부 0인 경우 : [0,0,0,0]\n",
    "    - $a_{ij}$가 0이어서, 행력식이 0\n",
    "- 임의의 두 행이나, 두 열이 같은 경우 : [1,2,3,4][1,2,3,4]\n",
    "- 임의의 두 행이나, 두 열에서 각 행이나 열의 값이 동일한 숫자 인 경우 : [1,1,1,1][2,2,2,2]\n",
    "    - 2X2 행렬의 경우, ad-bc 가 위 두 경우에 0이 됨.\n",
    "    - 3X3 행렬에서, 값이 같지 않은 행이나 열의 모든 여인자는 2x2행렬의 행렬식이 0이므로, 3X3 행렬의 행렬식도 0\n",
    "    - 동일한 방식으로 n x n 행렬의 행렬식도 0이 된다."
   ]
  },
  {
   "cell_type": "code",
   "execution_count": 4,
   "metadata": {
    "pycharm": {
     "name": "#%%\n"
    }
   },
   "outputs": [
    {
     "data": {
      "text/plain": "(-359.9999999999997,\n array([[ 0.14722222, -0.14444444,  0.06388889],\n        [-0.06111111,  0.02222222,  0.10555556],\n        [-0.01944444,  0.18888889, -0.10277778]]))"
     },
     "execution_count": 4,
     "metadata": {},
     "output_type": "execute_result"
    }
   ],
   "source": [
    "A = np.array([\n",
    "    [8,1,6],\n",
    "    [3,5,7],\n",
    "    [4,9,2]\n",
    "])\n",
    "\n",
    "detA = np.linalg.det(A)\n",
    "invA = np.linalg.inv(A)\n",
    "detA, invA\n"
   ]
  },
  {
   "cell_type": "markdown",
   "metadata": {
    "pycharm": {
     "name": "#%% md\n"
    }
   },
   "source": [
    "### n X n 행렬의 역행렬\n",
    "\n",
    "$A^{-1} = \\frac{1}{\\det{A}}\n",
    "\\begin{bmatrix}\n",
    "C_{11} & C_{21} & \\cdots & C_{n1} \\\\\n",
    "C_{12} & C_{22} & \\cdots & C_{n2} \\\\\n",
    "\\vdots & \\vdots & \\ddots & \\vdots \\\\\n",
    "C_{1n} & C_{2n} & \\cdots & C_{nn}\n",
    "\\end{bmatrix} = \\frac{1}{\\det{A}}adjA$\n",
    "\n",
    "- $C_{ij}$에서 i는 행 j는 열인데, 역행렬을 구할 때는 행고 열을 반대로 해야 함\n",
    "- A에 대한 C행렬을 줄여서 adjA로 표현 (adjugate matrix, classical adjoint matrix)\n",
    "    - $a_{ij}$ 의 나머지 행렬 요소. 부수적인 행렬이란 의미인 듯\n",
    "- adjA는 $C^T$로 표기(C행렬을 transpose)할 수도 있겠지만, adjA라고 표현한다고 함.\n",
    "\n",
    "#### 증명\n",
    "- $AA^{-1} = \\frac{1}{\\det{A}}A\\times adjA = I$ 임을 증명하면 됨\n",
    "- $A\\times adjA = \\det{A} \\times I$\n",
    "- $A\\times adjA$ 의 (i,j) 성분은 $a_{i1}C_{1j} + a_{i2}C_{2j} + \\cdots + a_{in}C_{nj}$\n",
    "- $i = j$인 경우, detA와 같음\n",
    "- $i \\neq j$인 경우, (i,j) 성분 값은 A 행렬에서 j행을 i행의 요소로 바꾼 행렬의 행렬식과 일치. 두 행이 같은 경우, 행렬식은 0\n",
    "- 따라서, I 행렬에서 1인 요소의 값이 detA인 행렬이 되어, 증명\n"
   ]
  },
  {
   "cell_type": "markdown",
   "metadata": {
    "pycharm": {
     "name": "#%% md\n"
    }
   },
   "source": []
  }
 ],
 "metadata": {
  "kernelspec": {
   "display_name": "Python 3",
   "language": "python",
   "name": "python3"
  },
  "language_info": {
   "codemirror_mode": {
    "name": "ipython",
    "version": 3
   },
   "file_extension": ".py",
   "mimetype": "text/x-python",
   "name": "python",
   "nbconvert_exporter": "python",
   "pygments_lexer": "ipython3",
   "version": "3.9.4"
  }
 },
 "nbformat": 4,
 "nbformat_minor": 1
}