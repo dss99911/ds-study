{
 "cells": [
  {
   "cell_type": "code",
   "execution_count": 1,
   "outputs": [],
   "source": [
    "from sympy_util import *\n",
    "%matplotlib inline\n"
   ],
   "metadata": {
    "collapsed": false,
    "pycharm": {
     "name": "#%%\n"
    }
   }
  },
  {
   "cell_type": "markdown",
   "metadata": {
    "collapsed": true,
    "pycharm": {
     "name": "#%% md\n"
    }
   },
   "source": [
    "# Statistics\n",
    "\n",
    "\n",
    "## 평균(mean)\n",
    "- E: Expectation 약자\n",
    "- 대푯값: representative value, 분포된 데이터의 대표되는 값\n",
    "- 평균은 보편적인 대푯값\n",
    "$E(X)= \\frac{1}{N}\\sum_{i=1}^{N}X_i$\n",
    "\n",
    "## 분산(variance)\n",
    "- V: Variance 약자\n",
    "- 데이터가 흩어진 정도를 나타냄\n",
    "\n",
    "$V(X) = \\frac{1}{N}\\sum_{i=1}^{N}(X_i - E(X))^2 = E(X^2) - [E(X)]^2$\n",
    "\n",
    "\n",
    "## 표준편차(standard deviation)\n",
    "\n",
    "$\\sigma = \\sqrt{V(X)}$\n",
    "\n",
    "### 표준편차 vs 절대 편차\n",
    "- https://gooopy.tistory.com/119\n",
    "- 단순 데이터들의 편차를 구하고 싶을 때, 절대 편차면 충분할 텐데, 제곱을 하고 다시 제곱근을 하는 이유\n",
    "- 각 데이터와 임의의 대푯값을 뺀 후, 표준편차나, 절대 편차를 구했을 때, 편차가 가장 작을 때의 대푯값이 이상적인 값이된다.\n",
    "    - 표준편차는 그 최소가 되는 대푯값이 평균이고,\n",
    "        - 증명 : 대푯값을 변수로한 방정식의 미분의 값이 0일 때, 극값이 되는 것을 이용.\n",
    "    - 절대 편차는 그 최소가 되는 대푯값이 중앙 값이다\n",
    "    - 아래 그래프 참고\n"
   ],
   "outputs": [
    {
     "ename": "SyntaxError",
     "evalue": "invalid syntax (<ipython-input-1-9a9a4516a817>, line 6)",
     "output_type": "error",
     "traceback": [
      "\u001B[0;36m  File \u001B[0;32m\"<ipython-input-1-9a9a4516a817>\"\u001B[0;36m, line \u001B[0;32m6\u001B[0m\n\u001B[0;31m    $E(X)= \\frac{1}{N}\\sum_{i=1}^{N}X_i$\u001B[0m\n\u001B[0m    ^\u001B[0m\n\u001B[0;31mSyntaxError\u001B[0m\u001B[0;31m:\u001B[0m invalid syntax\n"
     ]
    }
   ],
   "execution_count": 1
  },
  {
   "cell_type": "code",
   "execution_count": 5,
   "outputs": [
    {
     "data": {
      "text/plain": "<Figure size 432x288 with 1 Axes>",
      "image/png": "[encoded data removed]"
     },
     "metadata": {
      "needs_background": "light"
     },
     "output_type": "display_data"
    },
    {
     "data": {
      "text/plain": "(None, <AxesSubplot:>)"
     },
     "execution_count": 5,
     "metadata": {},
     "output_type": "execute_result"
    }
   ],
   "source": [
    "data = [1, 2, 4, 5, 100]\n",
    "\n",
    "def std_dev(x):\n",
    "    return sqrt(sum(map(lambda d: (d - x) ** 2, data)) / len(data))\n",
    "\n",
    "def abs_deviation(x):\n",
    "    return sum(map(lambda d: abs(d - x), data)) / len(data)\n",
    "\n",
    "fig, ax = plot_function(std_dev, xlim=(-100, 100), ylim=(-100,100), show=False, label='std_dev')\n",
    "plot_function(abs_deviation, xlim=(-100, 100), ylim=(-100,100), ax=ax, label=\"absolute deviation\")\n",
    "\n",
    "\n"
   ],
   "metadata": {
    "collapsed": false,
    "pycharm": {
     "name": "#%%\n"
    }
   }
  },
  {
   "cell_type": "markdown",
   "source": [
    "- 절대 편차\n",
    "    - 데이터가 퍼져있는지 나타내는 산포도를 구할 때는 사용해도 됨.\n",
    "    - MAD(Median Absolute Deviation) : 중앙값에서 빼기\n",
    "    - AAD(Average Absolute Deviation) : 평균값에서 빼기\n",
    "    - 절대 편차의 min값은 중앙 값이기 때문에, 절대 편차를 쓴다면, MAD쓰는 것을 권장\n",
    "- 표준 편차\n",
    "    - 미분하기 쉽기 때문에, ML에서 오차의 최소값을 구할 때, 사용하기 쉬움\n",
    "    -"
   ],
   "metadata": {
    "collapsed": false
   }
  },
  {
   "cell_type": "markdown",
   "source": [
    "## 이산확률변수\n",
    "- $X => x_1, x_2, \\cdots, x_N$\n",
    "\n",
    "- $P(X = x_i) => p_1, p_2, \\cdots, p_N$\n",
    "    - 전체 케이스의 확률을 다 더하면 1이 됨\n",
    "### 이산확률변수의 평균\n",
    "\n",
    "\n",
    "- $E(X) = x_1p_1 + x_2p_2 + \\cdots + x_Np_N = \\sum_{i=1}^{n}{x_ip_i} $\n",
    "- 기존에는 전체 개수로 나누는 건, 각각이 동일한 확률로 가정한 개념이고,\n",
    "- 각 확률변수의 확률이 다를 경우, 확률변수의 평균은 각 확률변수 값과 확률을 곱한 것을 더해서 평균을 구한다.\n",
    "\n",
    "### 아산확률변수의 분산\n",
    "- $V(X) = E((X-m)^2) = \\sum_{i=1}^{N}{(x_i-m)^2p_i $\n",
    "\n",
    "    - m = E(x)라고 하고, E(X)는 X의 합을 n으로 나눈 것이기 때문에, $E((X-m)^2)$로 표현가능"
   ],
   "metadata": {
    "collapsed": false
   }
  }
 ],
 "metadata": {
  "kernelspec": {
   "display_name": "Python 3",
   "language": "python",
   "name": "python3"
  },
  "language_info": {
   "codemirror_mode": {
    "name": "ipython",
    "version": 2
   },
   "file_extension": ".py",
   "mimetype": "text/x-python",
   "name": "python",
   "nbconvert_exporter": "python",
   "pygments_lexer": "ipython2",
   "version": "2.7.6"
  }
 },
 "nbformat": 4,
 "nbformat_minor": 0
}