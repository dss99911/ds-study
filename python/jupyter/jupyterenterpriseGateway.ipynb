{
 "cells": [
  {
   "cell_type": "markdown",
   "source": [],
   "metadata": {
    "collapsed": false,
    "pycharm": {
     "name": "#%% md\n"
    }
   }
  },
  {
   "cell_type": "code",
   "execution_count": null,
   "outputs": [],
   "source": [
    "# 아래와 같이 spark UI link등이 출력된다.\n",
    "# SparkSession - hive\n",
    "# SparkContext\n",
    "# Spark UI\n",
    "# Versionv3.2.1-amzn-0 Master yarn AppName hyuntest\n",
    "from IPython.core.interactiveshell import InteractiveShell\n",
    "InteractiveShell.ast_node_interactivity = \"all\""
   ],
   "metadata": {
    "collapsed": false,
    "pycharm": {
     "name": "#%%\n"
    }
   }
  },
  {
   "cell_type": "code",
   "execution_count": null,
   "metadata": {
    "collapsed": true,
    "pycharm": {
     "name": "#%%\n"
    }
   },
   "outputs": [],
   "source": [
    "\n",
    "import os\n",
    "import findspark\n",
    "findspark.init()\n",
    "import pyspark\n",
    "from pyspark import SparkContext\n",
    "from pyspark.sql import SQLContext\n",
    "from pyspark import SparkConf\n",
    "from pyspark.sql import SparkSession\n",
    "os.environ['PYSPARK_SUBMIT_ARGS'] = \"\"\"\n",
    "    --name attaching_glue\n",
    "    --conf spark.pyspark.virtualenv.enabled=true\n",
    "    --conf spark.pyspark.virtualenv.type=native\n",
    "    --conf spark.pyspark.virtualenv.bin.path=/usr/bin/virtualenv\n",
    "    --conf spark.dynamicAllocation.enabled=True\n",
    "    --conf spark.shuffle.service.enabled=True\n",
    "    --conf spark.dynamicAllocation.maxExecutors=10\n",
    "    --conf spark.dynamicAllocation.initialExecutors=2\n",
    "    --conf spark.dynamicAllocation.executorIdleTimeout=5s\n",
    "    --conf spark.executor.memory=10g\n",
    "    --conf spark.executor.cores=2\n",
    "    --conf spark.driver.memory=10g\n",
    "    --conf spark.driver.cores=2\n",
    "    --conf spark.sql.shuffle.partitions=50\n",
    "    --conf spark.driver.maxResultSize=10g\n",
    "    --conf spark.executor.memoryOverhead=2g\n",
    "    --conf spark.sql.execution.arrow.enabled=True\n",
    "    --conf spark.sql.execution.arrow.fallback.enabled=True\n",
    "    --conf spark.sql.broadcastTimeout=3000000\n",
    "    --conf spark.sql.caseSensitive=True\n",
    "    --conf fs.s3a.fast.upload=True\n",
    "    --conf spark.sql.execution.arrow.pyspark.enabled=True\n",
    "    --conf spark.sql.legacy.parquet.datetimeRebaseModeInRead=LEGACY\n",
    "    --conf spark.sql.legacy.parquet.datetimeRebaseModeInWrite=LEGACY\n",
    "    --conf hive.metastore.client.factory.class=com.amazonaws.glue.catalog.metastore.AWSGlueDataCatalogHiveClientFactory\n",
    "    pyspark-shell\"\"\"\n",
    "spark = pyspark.sql.SparkSession.builder.getOrCreate()\n",
    "sc = spark.sparkContext\n",
    "sess = SparkSession.builder.enableHiveSupport().getOrCreate()\n",
    "spark"
   ]
  }
 ],
 "metadata": {
  "kernelspec": {
   "display_name": "Python 3",
   "language": "python",
   "name": "python3"
  },
  "language_info": {
   "codemirror_mode": {
    "name": "ipython",
    "version": 2
   },
   "file_extension": ".py",
   "mimetype": "text/x-python",
   "name": "python",
   "nbconvert_exporter": "python",
   "pygments_lexer": "ipython2",
   "version": "2.7.6"
  }
 },
 "nbformat": 4,
 "nbformat_minor": 0
}