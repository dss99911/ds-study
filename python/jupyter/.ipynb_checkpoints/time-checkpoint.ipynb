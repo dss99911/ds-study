{
 "cells": [
  {
   "cell_type": "markdown",
   "metadata": {},
   "source": [
    "https://velog.io/@log327/Jupyter-Notebook%EC%97%90%EC%84%9C-Magic-Command%EB%A1%9C-Python-Profiling-%ED%95%98%EA%B8%B0-%EC%8B%9C%EA%B0%84-%EB%B6%84%EC%84%9D%ED%8E%B8-\n"
   ]
  },
  {
   "cell_type": "code",
   "execution_count": null,
   "metadata": {
    "pycharm": {
     "name": "#%%\n"
    }
   },
   "outputs": [],
   "source": [
    "%time: 주어진 코드를 한 번 실행했을 때 수행시간을 구한다\n",
    "%timeit: 주어진 코드를 여러 번 실행한 후, 그 평균 수행시간을 구한다. %time 보다 더 정확하다\n",
    "%prun: 프로파일러와 함께 코드를 실행한다\n",
    "%run -p [prof_opts] filename.py [args to program]: 전체 .py파일을 프로파일러와 함께 실행한다\n",
    "%lprun: 코드 한 라인씩 분석되는 프로파일러와 함께 코드를 실행한다\n",
    "%%heat : 주어진 코드의 시간 사용 비율을 heat map형태로 보여준다\n",
    "%memit: 주어진 코드의 메모리 사용량을 계산한다\n",
    "%mprun: 코드 한 라인씩 분석되는 메모리 프로파일러와 함께 코드를 실행한다\n",
    "\n",
    "\n",
    "\n",
    "\n"
   ]
  },
  {
   "cell_type": "code",
   "execution_count": 1,
   "metadata": {},
   "outputs": [
    {
     "ename": "NameError",
     "evalue": "name 'spark' is not defined",
     "output_type": "error",
     "traceback": [
      "\u001b[0;31m---------------------------------------------------------------------------\u001b[0m",
      "\u001b[0;31mNameError\u001b[0m                                 Traceback (most recent call last)",
      "\u001b[0;32m<ipython-input-1-84901cd22f32>\u001b[0m in \u001b[0;36m<module>\u001b[0;34m\u001b[0m\n\u001b[0;32m----> 1\u001b[0;31m \u001b[0mspark\u001b[0m\u001b[0;34m\u001b[0m\u001b[0;34m\u001b[0m\u001b[0m\n\u001b[0m",
      "\u001b[0;31mNameError\u001b[0m: name 'spark' is not defined"
     ]
    }
   ],
   "source": [
    "spark"
   ]
  },
  {
   "cell_type": "code",
   "execution_count": null,
   "metadata": {},
   "outputs": [],
   "source": []
  }
 ],
 "metadata": {
  "kernelspec": {
   "display_name": "spark-study2",
   "language": "python",
   "name": "spark-study2"
  },
  "language_info": {
   "codemirror_mode": {
    "name": "ipython",
    "version": 3
   },
   "file_extension": ".py",
   "mimetype": "text/x-python",
   "name": "python",
   "nbconvert_exporter": "python",
   "pygments_lexer": "ipython3",
   "version": "3.9.4"
  }
 },
 "nbformat": 4,
 "nbformat_minor": 1
}
