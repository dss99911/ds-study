{
 "cells": [
  {
   "cell_type": "markdown",
   "metadata": {
    "collapsed": true,
    "pycharm": {
     "name": "#%% md\n"
    }
   },
   "source": [
    "- https://github.com/aws/sagemaker-spark\n",
    "- https://github.com/aws/amazon-sagemaker-examples/tree/d16688d83c8479994cf3d17c7f91efa8b57c86fe/sagemaker-spark\n",
    "\n",
    "\n",
    "SageMaker pipeline을 spark pipeline을 통해서 호출할 수 있도록 하여, sagemaker의 파이프라인형식이 아닌, spark pipeline형식으로 코드를 작성할 수 있어서, 좀더 친숙하게 사용할 수 있는 듯.\n",
    "\n",
    "특징\n",
    "- 여러 학습 모델을 pipeline으로 연결 가능함.\n",
    "- 모델에 instance를 설정하여, 모델 학습시, 해당 instance가 provision되어, 학습 진행\n",
    "- endpoint까지 알아서 만들어 주고, inference api호출도 쉽게 가능\n",
    "\n",
    "질문\n",
    "- preprocessing과 어떻게 연결 시키는지는 잘 모르겠음"
   ]
  }
 ],
 "metadata": {
  "kernelspec": {
   "display_name": "Python 3",
   "language": "python",
   "name": "python3"
  },
  "language_info": {
   "codemirror_mode": {
    "name": "ipython",
    "version": 2
   },
   "file_extension": ".py",
   "mimetype": "text/x-python",
   "name": "python",
   "nbconvert_exporter": "python",
   "pygments_lexer": "ipython2",
   "version": "2.7.6"
  }
 },
 "nbformat": 4,
 "nbformat_minor": 0
}