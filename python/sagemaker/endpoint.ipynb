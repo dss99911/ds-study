{
 "cells": [
  {
   "cell_type": "markdown",
   "source": [
    "# Endpoint\n",
    "\n",
    "\n",
    "## Custom Container\n",
    "- https://github.com/aws/amazon-sagemaker-examples/blob/main/advanced_functionality/scikit_bring_your_own/scikit_bring_your_own.ipynb\n",
    "- https://github.com/aws/amazon-sagemaker-examples/tree/70d51f2f2f5a02c40b7b5f8534adf671c2215e09/advanced_functionality/scikit_bring_your_own/container/decision_trees\n",
    "- serve파일\n",
    "    - 맨처음 실행됨. gunicorn을 실행해서, wsgi.py를 실행\n",
    "    - '-k', 'gevent' 를 하면 ping에서 더 좋은 듯. http://blog.hwahae.co.kr/all/tech/tech-tech/5567/\n",
    "- predictor.py\n",
    "    - api호출시 여기의 api 함수가 호출됨\n",
    "\n",
    "\n",
    "## Custom model\n",
    "- https://github.com/aws/amazon-sagemaker-examples/blob/main/advanced_functionality/xgboost_bring_your_own_model/xgboost_bring_your_own_model.ipynb\n",
    "- 모델파일은 tar.gz로 압축가능. sagemaker 모델 생성시 설정된 압축파일은 자동으로 압축 해제 함\n",
    "\n"
   ],
   "metadata": {
    "collapsed": false,
    "pycharm": {
     "name": "#%% md\n"
    }
   }
  },
  {
   "cell_type": "code",
   "execution_count": null,
   "metadata": {
    "collapsed": true,
    "pycharm": {
     "name": "#%%\n"
    }
   },
   "outputs": [],
   "source": [
    "import boto3\n",
    "import sagemaker\n",
    "from sagemaker import get_execution_role\n",
    "\n",
    "boto3_sess = boto3.Session()\n",
    "sess = sagemaker.session.Session(boto3_sess)\n",
    "sm = boto3_sess.client(\"sagemaker\")\n",
    "sm_runtime = boto3_sess.client(\"sagemaker-runtime\")\n",
    "region = boto3_sess.region_name\n",
    "role = get_execution_role()\n",
    "bucket = sess.default_bucket()\n",
    "\n",
    "print(boto3.__version__)\n",
    "print(sagemaker.__version__)\n",
    "print(region)\n",
    "print(role)\n",
    "print(bucket)"
   ]
  },
  {
   "cell_type": "code",
   "execution_count": null,
   "outputs": [],
   "source": [
    "model_name = \"some-model\""
   ],
   "metadata": {
    "collapsed": false,
    "pycharm": {
     "name": "#%%\n"
    }
   }
  },
  {
   "cell_type": "markdown",
   "source": [
    "## Create Endpoint"
   ],
   "metadata": {
    "collapsed": false,
    "pycharm": {
     "name": "#%% md\n"
    }
   }
  },
  {
   "cell_type": "code",
   "execution_count": null,
   "outputs": [],
   "source": [
    "from time import gmtime, strftime\n",
    "\n",
    "timestamp_prefix = strftime(\"%Y-%m-%d-%H-%M-%S\", gmtime())\n",
    "endpoint_config_name = \"some-model-endpoint-config-{}\".format(timestamp_prefix)\n",
    "print(endpoint_config_name)"
   ],
   "metadata": {
    "collapsed": false,
    "pycharm": {
     "name": "#%%\n"
    }
   }
  },
  {
   "cell_type": "code",
   "execution_count": null,
   "outputs": [],
   "source": [
    "sess.create_endpoint_config(\n",
    "    name=endpoint_config_name,\n",
    "    model_name=model_name,\n",
    "    initial_instance_count=1,\n",
    "    # instance_type=\"ml.m5.large\",\n",
    "    instance_type=\"ml.t2.medium\"\n",
    ")"
   ],
   "metadata": {
    "collapsed": false,
    "pycharm": {
     "name": "#%%\n"
    }
   }
  },
  {
   "cell_type": "code",
   "execution_count": null,
   "outputs": [],
   "source": [
    "endpoint_name = \"some-model-v1-stage\"\n",
    "sess.create_endpoint(endpoint_name, endpoint_config_name)\n",
    "# sess.update_endpoint(endpoint_name, endpoint_config_name)"
   ],
   "metadata": {
    "collapsed": false,
    "pycharm": {
     "name": "#%%\n"
    }
   }
  },
  {
   "cell_type": "markdown",
   "source": [
    "### (다른 방법) 모델 생성 후, estimator로 endpoint 간단히 생성하기"
   ],
   "metadata": {
    "collapsed": false,
    "pycharm": {
     "name": "#%% md\n"
    }
   }
  },
  {
   "cell_type": "code",
   "execution_count": null,
   "outputs": [],
   "source": [
    "# xgb_script_mode_estimator = XGBoost(\n",
    "#     entry_point=script_path,\n",
    "#     framework_version=\"1.3-1\",  # Note: framework_version is mandatory\n",
    "#     hyperparameters=hyperparams,\n",
    "#     role=role,\n",
    "#     instance_count=2,\n",
    "#     instance_type=instance_type,\n",
    "#     output_path=output_path,\n",
    "# )\n",
    "#\n",
    "# predictor = xgb_script_mode_estimator.deploy(\n",
    "#     initial_instance_count=1, instance_type=\"ml.m5.2xlarge\"\n",
    "# )"
   ],
   "metadata": {
    "collapsed": false,
    "pycharm": {
     "name": "#%%\n"
    }
   }
  },
  {
   "cell_type": "markdown",
   "source": [
    "## Invoke end point"
   ],
   "metadata": {
    "collapsed": false,
    "pycharm": {
     "name": "#%% md\n"
    }
   }
  },
  {
   "cell_type": "markdown",
   "source": [
    "### 1st way\n",
    "- predictor.predict 사용\n",
    "- 단일 json input 처리"
   ],
   "metadata": {
    "collapsed": false,
    "pycharm": {
     "name": "#%% md\n"
    }
   }
  },
  {
   "cell_type": "markdown",
   "source": [
    "import json\n",
    "\n",
    "with open(\"sample-request.json\", \"r\") as j:\n",
    "    request_dict = json.load(j)\n",
    "request_data = request_dict\n",
    "payload = json.dumps(request_dict)"
   ],
   "metadata": {
    "collapsed": false,
    "pycharm": {
     "name": "#%% md\n"
    }
   }
  },
  {
   "cell_type": "code",
   "execution_count": null,
   "outputs": [],
   "source": [
    "%%time\n",
    "from sagemaker.predictor import Predictor\n",
    "\n",
    "# for json\n",
    "predictor = Predictor(\n",
    "    endpoint_name=endpoint_name,\n",
    "    serializer=sagemaker.serializers.IdentitySerializer(content_type=\"application/json\"),\n",
    "    deserializer=sagemaker.deserializers.JSONDeserializer()\n",
    ")\n",
    "\n",
    "response = predictor.predict(payload)\n",
    "response\n",
    "\n",
    "# {\n",
    "#   \"label\" : '1'\n",
    "# }"
   ],
   "metadata": {
    "collapsed": false,
    "pycharm": {
     "name": "#%%\n"
    }
   }
  },
  {
   "cell_type": "code",
   "execution_count": null,
   "outputs": [],
   "source": [
    "### 2nd way\n",
    "- invoke_endpoint() 사용\n",
    "- input 여러개 처리\n"
   ],
   "metadata": {
    "collapsed": false,
    "pycharm": {
     "name": "#%%\n"
    }
   }
  },
  {
   "cell_type": "markdown",
   "source": [
    "runtime_client = boto3.client(\"runtime.sagemaker\", region_name=region)\n",
    "response = runtime_client.invoke_endpoint(\n",
    "    EndpointName=predictor.endpoint_name, ContentType=\"text/libsvm\", Body=payload\n",
    ")\n",
    "result = response[\"Body\"].read().decode(\"ascii\")\n",
    "print(\"Predicted values are {}.\".format(result))\n",
    "# 여러 input을 한번에 처리 가능"
   ],
   "metadata": {
    "collapsed": false,
    "pycharm": {
     "name": "#%% md\n"
    }
   }
  },
  {
   "cell_type": "code",
   "execution_count": null,
   "outputs": [],
   "source": [
    "## Create Endpoint for release"
   ],
   "metadata": {
    "collapsed": false,
    "pycharm": {
     "name": "#%%\n"
    }
   }
  },
  {
   "cell_type": "markdown",
   "source": [
    "endpoint_name = \"some-model-release\"\n",
    "# sess.create_endpoint(endpoint_name, endpoint_config_name)\n",
    "# sess.update_endpoint(endpoint_name, endpoint_config_name)"
   ],
   "metadata": {
    "collapsed": false,
    "pycharm": {
     "name": "#%% md\n"
    }
   }
  },
  {
   "cell_type": "code",
   "execution_count": null,
   "outputs": [],
   "source": [
    "## Delete Endpoint"
   ],
   "metadata": {
    "collapsed": false,
    "pycharm": {
     "name": "#%%\n"
    }
   }
  },
  {
   "cell_type": "markdown",
   "source": [
    "from sagemaker.predictor import Predictor\n",
    "predictor = Predictor(\n",
    "    endpoint_name=endpoint_name\n",
    ")\n",
    "predictor.delete_endpoint()"
   ],
   "metadata": {
    "collapsed": false,
    "pycharm": {
     "name": "#%% md\n"
    }
   }
  },
  {
   "cell_type": "markdown",
   "source": [
    "predictor.delete_endpoint()"
   ],
   "metadata": {
    "collapsed": false,
    "pycharm": {
     "name": "#%% md\n"
    }
   }
  },
  {
   "cell_type": "code",
   "execution_count": null,
   "outputs": [],
   "source": [
    "predictor.delete_endpoint()"
   ],
   "metadata": {
    "collapsed": false,
    "pycharm": {
     "name": "#%%\n"
    }
   }
  },
  {
   "cell_type": "code",
   "execution_count": null,
   "outputs": [],
   "source": [
    "predictor.delete_endpoint()"
   ],
   "metadata": {
    "collapsed": false,
    "pycharm": {
     "name": "#%%\n"
    }
   }
  },
  {
   "cell_type": "code",
   "execution_count": null,
   "outputs": [],
   "source": [],
   "metadata": {
    "collapsed": false,
    "pycharm": {
     "name": "#%%\n"
    }
   }
  }
 ],
 "metadata": {
  "kernelspec": {
   "display_name": "Python 3",
   "language": "python",
   "name": "python3"
  },
  "language_info": {
   "codemirror_mode": {
    "name": "ipython",
    "version": 2
   },
   "file_extension": ".py",
   "mimetype": "text/x-python",
   "name": "python",
   "nbconvert_exporter": "python",
   "pygments_lexer": "ipython2",
   "version": "2.7.6"
  }
 },
 "nbformat": 4,
 "nbformat_minor": 0
}