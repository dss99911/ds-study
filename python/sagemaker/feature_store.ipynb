{
 "cells": [
  {
   "cell_type": "markdown",
   "metadata": {
    "collapsed": true,
    "pycharm": {
     "name": "#%% md\n"
    }
   },
   "source": [
    "# FeatureStore\n",
    "\n",
    "일반적으로 training과 inference 각각 별도의 피쳐 저장소를 가지고 있음\n",
    "하지만 Sagemaker FeatureStore를 사용하면, traning과 inference에 하나의 저장소를 사용할 수 있음\n",
    "preprocessing을 거친 최종 피쳐의 저장소\n",
    "\n",
    "\n",
    "## ingest\n",
    "- 저장소에 데이터를 추가하는 것을 ingest라고 하고,\n",
    "- online 저장소와 offline저장소로 나뉘어져 있고, online저장소에 먼저 저장이 되고, 좀 있다가 offline저장소에 저장이 됨.\n",
    "- online, offline 따로 저장할 필요 없이, 한번에 저장이 되서 편리\n",
    "- Kafka, Kinesis, glue, s3, file등에서 ingest가능함.\n",
    "- 초기 백필을 제외하고, 실시간으로 ingest해야함\n",
    "\n",
    "## 저장소\n",
    "offline저장소는 기본적으로 s3에 저장이되고, traning시에 사용됨.\n",
    "\t- glue에도 테이블이 자동으로 등록됨\n",
    "\t- athena로 쿼리해서 호출 가능.\n",
    "\t- pipeline에 featureStore를 바로 설정할 수 있는지 모르겠지만, 예제에서는 athena를 통해 다운받아서, 학습함\n",
    "\n",
    "online저장소는 inference시에 사용이 되고, 캐시를 통해, 즉각적으로 결과값을 가져올 수 있음\n",
    "\n",
    "\n",
    "## 한계\n",
    "- train과 inference의 저장소를 합치기 위해서는, 과거 피쳐데이터가 변경되지 않을 때 가능하다.\n",
    "    - 가령, preprocessing과정 중 코드가 바뀌거나, 지속적으로 개선이 되는 경우, 자주 전체 데이터를 업데이트를 해줘야하고, 비용이 많이 들어갈 것으로 추측\n",
    "\n",
    "\n",
    "## 참조\n",
    "- https://docs.aws.amazon.com/sagemaker/latest/dg/feature-store.html\n",
    "- https://sagemaker-examples.readthedocs.io/en/latest/sagemaker-featurestore/sagemaker_featurestore_fraud_detection_python_sdk.html\n",
    "- https://sagemaker-examples.readthedocs.io/en/latest/sagemaker-featurestore/feature_store_introduction.html"
   ]
  }
 ],
 "metadata": {
  "kernelspec": {
   "display_name": "Python 3",
   "language": "python",
   "name": "python3"
  },
  "language_info": {
   "codemirror_mode": {
    "name": "ipython",
    "version": 2
   },
   "file_extension": ".py",
   "mimetype": "text/x-python",
   "name": "python",
   "nbconvert_exporter": "python",
   "pygments_lexer": "ipython2",
   "version": "2.7.6"
  }
 },
 "nbformat": 4,
 "nbformat_minor": 0
}