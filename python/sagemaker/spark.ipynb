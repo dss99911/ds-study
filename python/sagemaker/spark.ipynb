{
 "cells": [
  {
   "cell_type": "markdown",
   "metadata": {},
   "source": [
    "# Sagemaker Spark\n",
    "\n",
    "https://docs.aws.amazon.com/sagemaker/latest/dg/use-spark-processing-container.html\n"
   ]
  },
  {
   "cell_type": "code",
   "execution_count": null,
   "metadata": {},
   "outputs": [],
   "source": [
    "import boto3\n",
    "import sagemaker\n",
    "from sagemaker import get_execution_role\n",
    "\n",
    "\n",
    "role = get_execution_role()\n",
    "\n",
    "print(sagemaker.__version__)\n",
    "print(role)"
   ]
  },
  {
   "cell_type": "code",
   "execution_count": 8,
   "metadata": {},
   "outputs": [],
   "source": [
    "# configuration = [{\n",
    "#     \"Classification\": \"spark-defaults\",\n",
    "#     \"Properties\": {\"spark.executor.extraClassPath\": \"/usr/lib/hadoop-lzo/lib/*:/usr/lib/hadoop/hadoop-aws.jar:/usr/share/aws/aws-java-sdk/*:/usr/share/aws/emr/emrfs/conf:/usr/share/aws/emr/emrfs/lib/*:/usr/share/aws/emr/emrfs/auxlib/*:/usr/share/aws/emr/goodies/lib/emr-spark-goodies.jar:/usr/share/aws/emr/security/conf:/usr/share/aws/emr/security/lib/*:/usr/share/aws/hmclient/lib/aws-glue-datacatalog-spark-client.jar:/usr/share/java/Hive-JSON-Serde/hive-openx-serde.jar:/usr/share/aws/sagemaker-spark-sdk/lib/sagemaker-spark-sdk.jar:/usr/share/aws/emr/s3select/lib/emr-s3-select-spark-connector.jar\",\n",
    "#                    \"spark.driver.extraClassPath\": \"/usr/lib/hadoop-lzo/lib/*:/usr/lib/hadoop/hadoop-aws.jar:/usr/share/aws/aws-java-sdk/*:/usr/share/aws/emr/emrfs/conf:/usr/share/aws/emr/emrfs/lib/*:/usr/share/aws/emr/emrfs/auxlib/*:/usr/share/aws/emr/goodies/lib/emr-spark-goodies.jar:/usr/share/aws/emr/security/conf:/usr/share/aws/emr/security/lib/*:/usr/share/aws/hmclient/lib/aws-glue-datacatalog-spark-client.jar:/usr/share/java/Hive-JSON-Serde/hive-openx-serde.jar:/usr/share/aws/sagemaker-spark-sdk/lib/sagemaker-spark-sdk.jar:/usr/share/aws/emr/s3select/lib/emr-s3-select-spark-connector.jar\"}\n",
    "# }, {\n",
    "#     \"Classification\": \"spark-hive-site\",\n",
    "#     \"Properties\": {\"hive.metastore.client.factory.class\": \"com.amazonaws.glue.catalog.metastore.AWSGlueDataCatalogHiveClientFactory\"}\n",
    "# }]"
   ]
  },
  {
   "cell_type": "code",
   "execution_count": 9,
   "metadata": {},
   "outputs": [
    {
     "name": "stdout",
     "output_type": "stream",
     "text": [
      "Overwriting spark_code.py\n"
     ]
    }
   ],
   "source": [
    "%%writefile spark_code.py\n",
    "\n",
    "import pyspark\n",
    "import argparse\n",
    "from pyspark.sql import SparkSession, DataFrame\n",
    "from pyspark.sql import functions as F\n",
    "from pyspark.sql.window import Window\n",
    "\n",
    "\n",
    "parser = argparse.ArgumentParser()\n",
    "parser.add_argument(\"--schema\", type=str, default=\"develop\")\n",
    "args = parser.parse_args()\n",
    "\n",
    "schema = str(args.schema)\n",
    "print(schema)\n",
    "\n",
    "spark = SparkSession.builder.appName(\"PySparkApp\") \\\n",
    "        .config(\"hive.metastore.client.factory.class\",\n",
    "                \"com.amazonaws.glue.catalog.metastore.AWSGlueDataCatalogHiveClientFactory\") \\\n",
    "        .enableHiveSupport() \\\n",
    "        .getOrCreate()\n"
   ]
  },
  {
   "cell_type": "code",
   "execution_count": null,
   "metadata": {},
   "outputs": [],
   "source": [
    "from sagemaker.spark.processing import PySparkProcessor\n",
    "\n",
    "schema = \"hyun2\"\n",
    "volume_size = 128\n",
    "instance_type = \"ml.m5.xlarge\"\n",
    "\n",
    "spark_processor = PySparkProcessor(\n",
    "    base_job_name=\"spark-preprocessor\",\n",
    "    framework_version=\"3.0\",\n",
    "    role=role,\n",
    "    instance_count=2,\n",
    "    instance_type=instance_type,\n",
    "    max_runtime_in_seconds=1200,\n",
    "    volume_size_in_gb=volume_size,\n",
    ")\n",
    "\n",
    "\n"
   ]
  },
  {
   "cell_type": "code",
   "execution_count": null,
   "outputs": [],
   "source": [
    "\n",
    "# run directly\n",
    "submit_jars = [\"delta-core_2.12-0.8.0.jar\"]\n",
    "submit_py_files = [\"some_files.py\"]\n",
    "spark_processor.run(\n",
    "    submit_app=\"spark_code.py\",\n",
    "    submit_jars=submit_jars,\n",
    "    submit_py_files=submit_py_files,\n",
    "    #     configuration=configuration,\n",
    "    arguments=[\"--schema\", schema])"
   ],
   "metadata": {
    "collapsed": false,
    "pycharm": {
     "name": "#%%\n"
    }
   }
  },
  {
   "cell_type": "code",
   "execution_count": null,
   "outputs": [],
   "source": [
    "from sagemaker.workflow.steps import ProcessingStep\n",
    "\n",
    "# run on pipeline step\n",
    "submit_jars = [\"delta-core_2.12-0.8.0.jar\"]\n",
    "submit_py_files = [\"some_files.py\"]\n",
    "run_args = spark_processor.get_run_args(\n",
    "    submit_app=\"spark_code.py\",\n",
    "    submit_jars=submit_jars,\n",
    "    submit_py_files=submit_py_files,\n",
    "    #     configuration=configuration,\n",
    "    arguments=[\"--schema\", schema])\n",
    "\n",
    "step_spark_process = ProcessingStep(\n",
    "    name=\"spark-process\",\n",
    "    processor=spark_processor,\n",
    "    inputs=run_args.inputs,\n",
    "    job_arguments=run_args.arguments,\n",
    "    code=run_args.code\n",
    ")\n"
   ],
   "metadata": {
    "collapsed": false,
    "pycharm": {
     "name": "#%%\n"
    }
   }
  }
 ],
 "metadata": {
  "kernelspec": {
   "display_name": "Python 3 (arn:aws:sagemaker:ap-south-1:394103062818:image/sagemaker-sparkmagic)",
   "language": "python",
   "name": "python3__SAGEMAKER_INTERNAL__arn:aws:sagemaker:ap-south-1:394103062818:image/sagemaker-sparkmagic"
  },
  "language_info": {
   "codemirror_mode": {
    "name": "ipython",
    "version": 3
   },
   "file_extension": ".py",
   "mimetype": "text/x-python",
   "name": "python",
   "nbconvert_exporter": "python",
   "pygments_lexer": "ipython3",
   "version": "3.7.10"
  }
 },
 "nbformat": 4,
 "nbformat_minor": 4
}