{
 "cells": [
  {
   "cell_type": "markdown",
   "source": [
    "https://github.com/aws/amazon-sagemaker-examples/blob/master/introduction_to_amazon_algorithms/xgboost_abalone/xgboost_abalone_dist_script_mode.ipynb"
   ],
   "metadata": {
    "collapsed": false
   }
  },
  {
   "cell_type": "code",
   "execution_count": 2,
   "metadata": {},
   "outputs": [
    {
     "name": "stdout",
     "output_type": "stream",
     "text": [
      "ap-south-1\n",
      "CPU times: user 128 ms, sys: 8.71 ms, total: 136 ms\n",
      "Wall time: 204 ms\n"
     ]
    }
   ],
   "source": [
    "%%time\n",
    "\n",
    "import os\n",
    "import boto3\n",
    "import re\n",
    "import sagemaker\n",
    "\n",
    "# Get a SageMaker-compatible role used by this Notebook Instance.\n",
    "role = sagemaker.get_execution_role()\n",
    "region = boto3.Session().region_name\n",
    "\n",
    "### update below values appropriately ###\n",
    "bucket = sagemaker.Session().default_bucket()\n",
    "prefix = \"sagemaker/DEMO-xgboost-dist-script\"\n",
    "####\n",
    "\n",
    "print(region)"
   ]
  },
  {
   "cell_type": "code",
   "execution_count": 5,
   "metadata": {},
   "outputs": [
    {
     "name": "stdout",
     "output_type": "stream",
     "text": [
      "CPU times: user 10 µs, sys: 2 µs, total: 12 µs\n",
      "Wall time: 14.8 µs\n"
     ]
    }
   ],
   "source": [
    "%%time\n",
    "\n",
    "import io\n",
    "import boto3\n",
    "import random\n",
    "\n",
    "\n",
    "def data_split(\n",
    "    FILE_DATA,\n",
    "    DATA_DIR,\n",
    "    FILE_TRAIN_BASE,\n",
    "    FILE_TRAIN_1,\n",
    "    FILE_VALIDATION,\n",
    "    FILE_TEST,\n",
    "    PERCENT_TRAIN_0,\n",
    "    PERCENT_TRAIN_1,\n",
    "    PERCENT_VALIDATION,\n",
    "    PERCENT_TEST,\n",
    "):\n",
    "    data = [l for l in open(FILE_DATA, \"r\")]\n",
    "    train_file_0 = open(DATA_DIR + \"/\" + FILE_TRAIN_0, \"w\")\n",
    "    train_file_1 = open(DATA_DIR + \"/\" + FILE_TRAIN_1, \"w\")\n",
    "    valid_file = open(DATA_DIR + \"/\" + FILE_VALIDATION, \"w\")\n",
    "    tests_file = open(DATA_DIR + \"/\" + FILE_TEST, \"w\")\n",
    "\n",
    "    num_of_data = len(data)\n",
    "    num_train_0 = int((PERCENT_TRAIN_0 / 100.0) * num_of_data)\n",
    "    num_train_1 = int((PERCENT_TRAIN_1 / 100.0) * num_of_data)\n",
    "    num_valid = int((PERCENT_VALIDATION / 100.0) * num_of_data)\n",
    "    num_tests = int((PERCENT_TEST / 100.0) * num_of_data)\n",
    "\n",
    "    data_fractions = [num_train_0, num_train_1, num_valid, num_tests]\n",
    "    split_data = [[], [], [], []]\n",
    "\n",
    "    rand_data_ind = 0\n",
    "\n",
    "    for split_ind, fraction in enumerate(data_fractions):\n",
    "        for i in range(fraction):\n",
    "            rand_data_ind = random.randint(0, len(data) - 1)\n",
    "            split_data[split_ind].append(data[rand_data_ind])\n",
    "            data.pop(rand_data_ind)\n",
    "\n",
    "    for l in split_data[0]:\n",
    "        train_file_0.write(l)\n",
    "\n",
    "    for l in split_data[1]:\n",
    "        train_file_1.write(l)\n",
    "\n",
    "    for l in split_data[2]:\n",
    "        valid_file.write(l)\n",
    "\n",
    "    for l in split_data[3]:\n",
    "        tests_file.write(l)\n",
    "\n",
    "    train_file_0.close()\n",
    "    train_file_1.close()\n",
    "    valid_file.close()\n",
    "    tests_file.close()\n",
    "\n",
    "\n",
    "def write_to_s3(fobj, bucket, key):\n",
    "    return (\n",
    "        boto3.Session(region_name=region)\n",
    "        .resource(\"s3\")\n",
    "        .Bucket(bucket)\n",
    "        .Object(key)\n",
    "        .upload_fileobj(fobj)\n",
    "    )\n",
    "\n",
    "\n",
    "def upload_to_s3(bucket, channel, filename):\n",
    "    fobj = open(filename, \"rb\")\n",
    "    key = prefix + \"/\" + channel\n",
    "    url = \"s3://{}/{}/{}\".format(bucket, key, filename)\n",
    "    print(\"Writing to {}\".format(url))\n",
    "    write_to_s3(fobj, bucket, key)"
   ]
  },
  {
   "cell_type": "code",
   "execution_count": 8,
   "metadata": {},
   "outputs": [
    {
     "name": "stdout",
     "output_type": "stream",
     "text": [
      "CPU times: user 51.7 ms, sys: 0 ns, total: 51.7 ms\n",
      "Wall time: 2.19 s\n"
     ]
    }
   ],
   "source": [
    "%%time\n",
    "s3 = boto3.client(\"s3\")\n",
    "\n",
    "# Load the dataset\n",
    "FILE_DATA = \"abalone2\"\n",
    "s3.download_file(\n",
    "    \"sagemaker-sample-files\", f\"datasets/tabular/uci_abalone/abalone.libsvm\", FILE_DATA\n",
    ")\n",
    "\n",
    "# split the downloaded data into train/test/validation files\n",
    "FILE_TRAIN_0 = \"abalone.train_0\"\n",
    "FILE_TRAIN_1 = \"abalone.train_1\"\n",
    "FILE_VALIDATION = \"abalone.validation\"\n",
    "FILE_TEST = \"abalone.test\"\n",
    "PERCENT_TRAIN_0 = 35\n",
    "PERCENT_TRAIN_1 = 35\n",
    "PERCENT_VALIDATION = 15\n",
    "PERCENT_TEST = 15\n",
    "\n",
    "DATA_DIR = \"data\"\n",
    "\n",
    "if not os.path.exists(DATA_DIR):\n",
    "    os.mkdir(DATA_DIR)\n",
    "\n",
    "data_split(\n",
    "    FILE_DATA,\n",
    "    DATA_DIR,\n",
    "    FILE_TRAIN_0,\n",
    "    FILE_TRAIN_1,\n",
    "    FILE_VALIDATION,\n",
    "    FILE_TEST,\n",
    "    PERCENT_TRAIN_0,\n",
    "    PERCENT_TRAIN_1,\n",
    "    PERCENT_VALIDATION,\n",
    "    PERCENT_TEST,\n",
    ")"
   ]
  },
  {
   "cell_type": "code",
   "execution_count": null,
   "metadata": {},
   "outputs": [],
   "source": [
    "# upload the files to the S3 bucket\n",
    "upload_to_s3(bucket, \"train/train_0.libsvm\", DATA_DIR + \"/\" + FILE_TRAIN_0)\n",
    "upload_to_s3(bucket, \"train/train_1.libsvm\", DATA_DIR + \"/\" + FILE_TRAIN_1)\n",
    "upload_to_s3(bucket, \"validation/validation.libsvm\", DATA_DIR + \"/\" + FILE_VALIDATION)\n",
    "upload_to_s3(bucket, \"test/test.libsvm\", DATA_DIR + \"/\" + FILE_TEST)"
   ]
  },
  {
   "cell_type": "code",
   "execution_count": 18,
   "metadata": {},
   "outputs": [
    {
     "name": "stdout",
     "output_type": "stream",
     "text": [
      "Writing abalone.py\n"
     ]
    }
   ],
   "source": [
    "%%writefile abalone.py\n",
    "import argparse\n",
    "import json\n",
    "import logging\n",
    "import os\n",
    "import pandas as pd\n",
    "import pickle as pkl\n",
    "\n",
    "from sagemaker_containers import entry_point\n",
    "from sagemaker_xgboost_container.data_utils import get_dmatrix\n",
    "from sagemaker_xgboost_container import distributed\n",
    "\n",
    "import xgboost as xgb\n",
    "\n",
    "\n",
    "def _xgb_train(params, dtrain, evals, num_boost_round, model_dir, is_master):\n",
    "    \"\"\"Run xgb train on arguments given with rabit initialized.\n",
    "\n",
    "    This is our rabit execution function.\n",
    "\n",
    "    :param args_dict: Argument dictionary used to run xgb.train().\n",
    "    :param is_master: True if current node is master host in distributed training,\n",
    "                        or is running single node training job.\n",
    "                        Note that rabit_run will include this argument.\n",
    "    \"\"\"\n",
    "    booster = xgb.train(params=params,\n",
    "                        dtrain=dtrain,\n",
    "                        evals=evals,\n",
    "                        num_boost_round=num_boost_round)\n",
    "\n",
    "    if is_master:\n",
    "        model_location = model_dir + '/xgboost-model'\n",
    "        pkl.dump(booster, open(model_location, 'wb'))\n",
    "        logging.info(\"Stored trained model at {}\".format(model_location))\n",
    "\n",
    "\n",
    "if __name__ == '__main__':\n",
    "    parser = argparse.ArgumentParser()\n",
    "\n",
    "    # Hyperparameters are described here.\n",
    "    parser.add_argument('--max_depth', type=int,)\n",
    "    parser.add_argument('--eta', type=float)\n",
    "    parser.add_argument('--gamma', type=int)\n",
    "    parser.add_argument('--min_child_weight', type=int)\n",
    "    parser.add_argument('--subsample', type=float)\n",
    "    parser.add_argument('--verbosity', type=int)\n",
    "    parser.add_argument('--objective', type=str)\n",
    "    parser.add_argument('--num_round', type=int)\n",
    "    parser.add_argument('--tree_method', type=str, default=\"auto\")\n",
    "    parser.add_argument('--predictor', type=str, default=\"auto\")\n",
    "\n",
    "    # Sagemaker specific arguments. Defaults are set in the environment variables.\n",
    "    parser.add_argument('--output_data_dir', type=str, default=os.environ.get('SM_OUTPUT_DATA_DIR'))\n",
    "    parser.add_argument('--model_dir', type=str, default=os.environ.get('SM_MODEL_DIR'))\n",
    "    parser.add_argument('--train', type=str, default=os.environ.get('SM_CHANNEL_TRAIN'))\n",
    "    parser.add_argument('--validation', type=str, default=os.environ.get('SM_CHANNEL_VALIDATION'))\n",
    "    parser.add_argument('--sm_hosts', type=str, default=os.environ.get('SM_HOSTS'))\n",
    "    parser.add_argument('--sm_current_host', type=str, default=os.environ.get('SM_CURRENT_HOST'))\n",
    "\n",
    "    args, _ = parser.parse_known_args()\n",
    "\n",
    "    # Get SageMaker host information from runtime environment variables\n",
    "    sm_hosts = json.loads(args.sm_hosts)\n",
    "    sm_current_host = args.sm_current_host\n",
    "\n",
    "    dtrain = get_dmatrix(args.train, 'libsvm')\n",
    "    dval = get_dmatrix(args.validation, 'libsvm')\n",
    "    watchlist = [(dtrain, 'train'), (dval, 'validation')] if dval is not None else [(dtrain, 'train')]\n",
    "\n",
    "    train_hp = {\n",
    "        'max_depth': args.max_depth,\n",
    "        'eta': args.eta,\n",
    "        'gamma': args.gamma,\n",
    "        'min_child_weight': args.min_child_weight,\n",
    "        'subsample': args.subsample,\n",
    "        'verbosity': args.verbosity,\n",
    "        'objective': args.objective,\n",
    "        'tree_method': args.tree_method,\n",
    "        'predictor': args.predictor,\n",
    "    }\n",
    "\n",
    "    xgb_train_args = dict(\n",
    "        params=train_hp,\n",
    "        dtrain=dtrain,\n",
    "        evals=watchlist,\n",
    "        num_boost_round=args.num_round,\n",
    "        model_dir=args.model_dir)\n",
    "\n",
    "    if len(sm_hosts) > 1:\n",
    "        # Wait until all hosts are able to find each other\n",
    "        entry_point._wait_hostname_resolution()\n",
    "\n",
    "        # Execute training function after initializing rabit.\n",
    "        distributed.rabit_run(\n",
    "            exec_fun=_xgb_train,\n",
    "            args=xgb_train_args,\n",
    "            include_in_training=(dtrain is not None),\n",
    "            hosts=sm_hosts,\n",
    "            current_host=sm_current_host,\n",
    "            update_rabit_args=True\n",
    "        )\n",
    "    else:\n",
    "        # If single node training, call training method directly.\n",
    "        if dtrain:\n",
    "            xgb_train_args['is_master'] = True\n",
    "            _xgb_train(**xgb_train_args)\n",
    "        else:\n",
    "            raise ValueError(\"Training channel must have data to train model.\")\n",
    "\n",
    "\n",
    "def model_fn(model_dir):\n",
    "    \"\"\"Deserialize and return fitted model.\n",
    "\n",
    "    Note that this should have the same name as the serialized model in the _xgb_train method\n",
    "    \"\"\"\n",
    "    model_file = 'xgboost-model'\n",
    "    booster = pkl.load(open(os.path.join(model_dir, model_file), 'rb'))\n",
    "    return booster"
   ]
  },
  {
   "cell_type": "code",
   "execution_count": 14,
   "metadata": {},
   "outputs": [],
   "source": [
    "hyperparams = {\n",
    "    \"max_depth\": \"5\",\n",
    "    \"eta\": \"0.2\",\n",
    "    \"gamma\": \"4\",\n",
    "    \"min_child_weight\": \"6\",\n",
    "    \"subsample\": \"0.7\",\n",
    "    \"objective\": \"reg:squarederror\",\n",
    "    \"num_round\": \"50\",\n",
    "    \"verbosity\": \"2\",\n",
    "}\n",
    "\n",
    "instance_type = \"ml.m5.2xlarge\"\n",
    "output_path = \"s3://{}/{}/{}/output\".format(bucket, prefix, \"abalone-dist-xgb\")\n",
    "content_type = \"libsvm\""
   ]
  },
  {
   "cell_type": "code",
   "execution_count": 16,
   "metadata": {},
   "outputs": [],
   "source": [
    "# Open Source distributed script mode\n",
    "from sagemaker.session import Session\n",
    "from sagemaker.inputs import TrainingInput\n",
    "from sagemaker.xgboost.estimator import XGBoost\n",
    "\n",
    "boto_session = boto3.Session(region_name=region)\n",
    "session = Session(boto_session=boto_session)\n",
    "script_path = \"abalone.py\"\n",
    "\n",
    "xgb_script_mode_estimator = XGBoost(\n",
    "    entry_point=script_path,\n",
    "    framework_version=\"1.3-1\",  # Note: framework_version is mandatory\n",
    "    hyperparameters=hyperparams,\n",
    "    role=role,\n",
    "    instance_count=2,\n",
    "    instance_type=instance_type,\n",
    "    output_path=output_path,\n",
    ")\n",
    "\n",
    "train_input = TrainingInput(\n",
    "    \"s3://{}/{}/{}/\".format(bucket, prefix, \"train\"), content_type=content_type\n",
    ")\n",
    "validation_input = TrainingInput(\n",
    "    \"s3://{}/{}/{}/\".format(bucket, prefix, \"validation\"), content_type=content_type\n",
    ")"
   ]
  },
  {
   "cell_type": "code",
   "execution_count": null,
   "metadata": {},
   "outputs": [],
   "source": [
    "xgb_script_mode_estimator.fit({\"train\": train_input, \"validation\": validation_input})\n"
   ]
  },
  {
   "cell_type": "code",
   "execution_count": 20,
   "metadata": {},
   "outputs": [
    {
     "name": "stdout",
     "output_type": "stream",
     "text": [
      "-------------!"
     ]
    }
   ],
   "source": [
    "predictor = xgb_script_mode_estimator.deploy(\n",
    "    initial_instance_count=1, instance_type=\"ml.m5.2xlarge\"\n",
    ")"
   ]
  },
  {
   "cell_type": "code",
   "execution_count": 28,
   "metadata": {},
   "outputs": [
    {
     "data": {
      "text/plain": [
       "'sagemaker-xgboost-2022-01-20-09-29-22-106'"
      ]
     },
     "execution_count": 28,
     "metadata": {},
     "output_type": "execute_result"
    }
   ],
   "source": [
    "predictor.endpoint_name"
   ]
  },
  {
   "cell_type": "code",
   "execution_count": 21,
   "metadata": {},
   "outputs": [],
   "source": [
    "test_file = DATA_DIR + \"/\" + FILE_TEST\n",
    "with open(test_file, \"r\") as f:\n",
    "    payload = f.read()"
   ]
  },
  {
   "cell_type": "code",
   "execution_count": 22,
   "metadata": {},
   "outputs": [
    {
     "name": "stdout",
     "output_type": "stream",
     "text": [
      "Predicted values are [10.512798309326172, 10.343144416809082, 9.412923812866211, 10.84579086303711, 8.675006866455078, 6.51174783706665, 4.754023551940918, 9.451401710510254, 10.77117919921875, 13.942473411560059, 5.2338385581970215, 12.095112800598145, 10.724550247192383, 10.48836612701416, 9.900461196899414, 7.206835746765137, 11.73892879486084, 9.319311141967773, 9.682209968566895, 8.863737106323242, 7.961832046508789, 12.868305206298828, 6.068605422973633, 8.35572338104248, 10.334665298461914, 10.723896980285645, 8.21009635925293, 11.874492645263672, 9.06756591796875, 7.847026824951172, 5.9288859367370605, 4.1849236488342285, 10.21017074584961, 15.701791763305664, 10.375128746032715, 9.1416015625, 10.773317337036133, 11.546887397766113, 10.099011421203613, 9.750288963317871, 6.578484535217285, 10.836451530456543, 3.8825511932373047, 14.462873458862305, 10.973214149475098, 11.610481262207031, 6.437716960906982, 12.289907455444336, 9.079763412475586, 9.57547664642334, 6.998403549194336, 7.800029754638672, 12.902765274047852, 18.198293685913086, 5.665737628936768, 5.427211284637451, 10.895059585571289, 6.601009368896484, 8.594310760498047, 11.030543327331543, 9.35545539855957, 7.3259148597717285, 11.852338790893555, 12.442167282104492, 10.268061637878418, 9.702845573425293, 13.696157455444336, 10.319429397583008, 10.2770414352417, 5.665737628936768, 12.381385803222656, 4.827523231506348, 9.781281471252441, 6.668971538543701, 8.201765060424805, 10.307868957519531, 11.095717430114746, 9.829566955566406, 6.18557071685791, 11.182832717895508, 6.899617671966553, 12.695009231567383, 12.59658432006836, 14.639185905456543, 7.386982440948486, 11.698354721069336, 7.335402011871338, 16.76954460144043, 12.692879676818848, 9.418542861938477, 6.222931385040283, 12.814128875732422, 11.52709674835205, 7.930761337280273, 10.003026008605957, 10.752359390258789, 9.13875961303711, 9.2639799118042, 14.725221633911133, 6.817621231079102, 11.349397659301758, 13.57200813293457, 9.607721328735352, 8.375104904174805, 11.546367645263672, 5.610972881317139, 8.829463005065918, 11.34321117401123, 6.7462944984436035, 7.817006587982178, 9.283441543579102, 6.671561241149902, 11.507882118225098, 9.250188827514648, 7.85637092590332, 11.387067794799805, 13.054547309875488, 10.2547025680542, 9.221219062805176, 8.460654258728027, 13.538830757141113, 5.8472700119018555, 6.735700607299805, 11.204732894897461, 11.812508583068848, 7.860908031463623, 8.362685203552246, 9.341145515441895, 12.909847259521484, 10.755223274230957, 6.87727689743042, 12.197371482849121, 6.931560516357422, 14.92475700378418, 7.358623504638672, 7.336509704589844, 8.864424705505371, 8.348468780517578, 8.995455741882324, 6.8961029052734375, 8.771982192993164, 11.37126636505127, 6.77643346786499, 10.669861793518066, 11.715667724609375, 11.113567352294922, 14.178156852722168, 6.825445175170898, 10.677233695983887, 14.143000602722168, 17.887516021728516, 6.535870552062988, 8.138898849487305, 10.505729675292969, 11.138338088989258, 5.2490553855896, 9.18917465209961, 8.70078182220459, 10.710445404052734, 10.615649223327637, 12.767555236816406, 12.200191497802734, 11.851058959960938, 8.941505432128906, 8.172833442687988, 9.926456451416016, 9.977180480957031, 11.672539710998535, 7.699094772338867, 7.050194263458252, 8.785967826843262, 8.931116104125977, 11.596943855285645, 11.215028762817383, 11.347718238830566, 9.205269813537598, 11.68314266204834, 11.505268096923828, 8.798748970031738, 10.30797004699707, 11.106990814208984, 10.326211929321289, 11.047905921936035, 10.088436126708984, 10.101116180419922, 7.267394065856934, 8.939632415771484, 6.876110553741455, 9.65906047821045, 9.807000160217285, 19.484315872192383, 8.606487274169922, 9.044032096862793, 8.849815368652344, 10.350168228149414, 4.508055686950684, 9.55140209197998, 12.498124122619629, 10.68618392944336, 7.9758429527282715, 9.143322944641113, 7.217729091644287, 7.217595100402832, 9.200575828552246, 11.319278717041016, 6.631606578826904, 6.028814792633057, 18.61491584777832, 10.418680191040039, 11.149877548217773, 11.140888214111328, 9.92845344543457, 13.13405704498291, 8.12652587890625, 10.430806159973145, 6.875982761383057, 10.349852561950684, 8.606342315673828, 11.7493314743042, 10.816949844360352, 8.980313301086426, 10.088973045349121, 9.841617584228516, 7.544910430908203, 9.19293212890625, 7.5795745849609375, 14.163408279418945, 4.754023551940918, 10.527484893798828, 9.189031600952148, 10.598897933959961, 7.75398588180542, 11.279298782348633, 11.524003028869629, 5.972151756286621, 8.970345497131348, 9.828780174255371, 8.25992202758789, 10.007479667663574, 3.8825511932373047, 10.593954086303711, 8.70518684387207, 8.662897109985352, 9.155866622924805, 10.263656616210938, 6.881267547607422, 18.948869705200195, 10.964702606201172, 12.449102401733398, 8.858205795288086, 7.793196678161621, 10.609999656677246, 10.198038101196289, 9.642433166503906, 11.801010131835938, 11.321588516235352, 6.863699436187744, 7.006516456604004, 6.662236213684082, 9.427821159362793, 11.163352966308594, 9.968047142028809, 13.75266170501709, 7.783910751342773, 7.513883113861084, 11.20572566986084, 10.86901569366455, 8.337211608886719, 12.15042495727539, 11.664124488830566, 9.747920989990234, 7.896569728851318, 12.87077808380127, 9.86446762084961, 13.900409698486328, 6.013360977172852, 8.943158149719238, 7.087287425994873, 10.342586517333984, 13.605315208435059, 9.2626953125, 9.277862548828125, 13.862618446350098, 9.253252983093262, 11.237272262573242, 9.992815017700195, 7.267394065856934, 8.174128532409668, 13.763092041015625, 7.261416912078857, 11.79043197631836, 10.41401481628418, 16.020814895629883, 10.468740463256836, 12.501424789428711, 7.553313732147217, 16.76470947265625, 9.649977684020996, 10.001655578613281, 14.00447940826416, 10.521920204162598, 9.680105209350586, 3.8825511932373047, 11.630040168762207, 12.605704307556152, 8.370345115661621, 9.851009368896484, 10.952980041503906, 12.17697811126709, 12.138096809387207, 7.087287425994873, 11.445226669311523, 9.719144821166992, 11.08755111694336, 11.46733283996582, 14.761916160583496, 10.226415634155273, 9.59239673614502, 10.292874336242676, 10.480342864990234, 12.498953819274902, 9.100801467895508, 10.455036163330078, 12.768962860107422, 11.090953826904297, 3.978339433670044, 11.228933334350586, 10.6039400100708, 12.440478324890137, 16.780780792236328, 10.168392181396484, 8.317018508911133, 10.385747909545898, 10.174078941345215, 10.485264778137207, 10.721020698547363, 6.932128429412842, 10.47004508972168, 8.14011001586914, 10.337684631347656, 16.759428024291992, 9.789090156555176, 9.075217247009277, 8.503700256347656, 9.780778884887695, 6.924062252044678, 17.593496322631836, 7.156700134277344, 9.289907455444336, 11.732088088989258, 9.19293212890625, 5.4085307121276855, 10.816329956054688, 10.077898025512695, 14.581401824951172, 10.20754337310791, 4.1849236488342285, 11.392757415771484, 7.029854774475098, 11.333365440368652, 10.809128761291504, 8.053531646728516, 7.723348617553711, 9.23460578918457, 12.08566665649414, 7.150206089019775, 7.533410549163818, 9.516778945922852, 14.668874740600586, 11.376775741577148, 6.55322265625, 9.207090377807617, 10.721675872802734, 11.152105331420898, 9.854195594787598, 14.638375282287598, 10.728764533996582, 11.587125778198242, 9.01146411895752, 9.937517166137695, 12.381911277770996, 11.16417121887207, 10.818998336791992, 16.636978149414062, 6.31381368637085, 9.476378440856934, 7.8421478271484375, 9.105443954467773, 9.9117431640625, 11.072488784790039, 19.0611629486084, 8.977574348449707, 8.127527236938477, 8.307389259338379, 10.019258499145508, 10.58149528503418, 9.20873737335205, 11.744671821594238, 10.310970306396484, 16.287256240844727, 10.594977378845215, 8.938268661499023, 13.112954139709473, 15.27349853515625, 16.217130661010742, 12.070911407470703, 7.246662139892578, 9.862542152404785, 9.703866004943848, 8.924189567565918, 10.900681495666504, 13.19575309753418, 11.412745475769043, 10.521061897277832, 9.662684440612793, 11.248295783996582, 9.738080978393555, 8.149591445922852, 10.093511581420898, 6.408994197845459, 9.379339218139648, 8.534262657165527, 6.8039445877075195, 8.648353576660156, 9.086593627929688, 10.725069999694824, 12.24510383605957, 4.8873372077941895, 12.73365306854248, 10.391467094421387, 7.035550117492676, 8.467997550964355, 6.459404468536377, 6.5045247077941895, 8.527569770812988, 5.475259304046631, 10.726434707641602, 14.457468032836914, 11.914741516113281, 12.344374656677246, 8.976390838623047, 9.439692497253418, 7.986830234527588, 8.544464111328125, 8.814650535583496, 7.45719575881958, 8.872336387634277, 12.120697975158691, 5.2530975341796875, 10.756508827209473, 10.882637977600098, 9.323086738586426, 10.539814949035645, 11.311643600463867, 5.6420207023620605, 8.271827697753906, 8.020206451416016, 11.11653995513916, 21.644060134887695, 9.375795364379883, 5.665737628936768, 10.283903121948242, 12.589702606201172, 7.750675678253174, 9.02716064453125, 10.99475383758545, 13.914863586425781, 11.344038009643555, 10.50257682800293, 9.29239559173584, 5.031726837158203, 11.594902992248535, 5.83262300491333, 10.238554000854492, 9.821242332458496, 13.87320613861084, 9.43369197845459, 10.172881126403809, 10.197352409362793, 11.158638000488281, 8.785444259643555, 11.882555961608887, 8.728116035461426, 14.108447074890137, 10.399805068969727, 14.027043342590332, 3.8825511932373047, 14.136448860168457, 11.110566139221191, 9.935991287231445, 7.19974946975708, 10.15538501739502, 8.82991886138916, 8.625090599060059, 10.476019859313965, 8.635091781616211, 10.069592475891113, 7.684713363647461, 9.198951721191406, 10.084506034851074, 12.509171485900879, 11.867098808288574, 15.315945625305176, 9.982298851013184, 8.111258506774902, 9.552980422973633, 6.873815059661865, 13.055657386779785, 11.926010131835938, 10.460020065307617, 8.416369438171387, 7.224244594573975, 13.167623519897461, 9.374123573303223, 14.612447738647461, 6.449087619781494, 8.600736618041992, 9.811712265014648, 7.098233699798584, 7.45719575881958, 10.17967414855957, 8.879638671875, 6.195403575897217, 10.221860885620117, 12.410157203674316, 12.917343139648438, 13.655573844909668, 12.883743286132812, 10.102645874023438, 6.422919750213623, 10.135869026184082, 7.0974884033203125, 6.440948486328125, 6.548630714416504, 13.653507232666016, 11.008758544921875, 9.36286449432373, 8.1253662109375, 9.513650894165039, 10.66793155670166, 9.983441352844238, 6.817621231079102, 7.784552097320557, 10.348380088806152, 6.649685859680176, 11.435120582580566, 10.020027160644531, 11.729735374450684, 13.164408683776855, 8.874195098876953, 6.373388767242432, 8.130743026733398, 11.16653823852539, 9.556144714355469, 9.762600898742676, 6.891944885253906, 6.6734938621521, 12.431431770324707, 9.566610336303711, 7.513883113861084, 10.8167724609375, 12.343363761901855, 7.365863800048828, 11.741056442260742, 7.1900506019592285, 9.841740608215332, 11.649935722351074, 12.353103637695312, 10.28486156463623, 9.927740097045898, 8.806156158447266, 15.36671257019043, 6.881267547607422, 10.742106437683105, 6.817761421203613, 11.420845031738281, 11.182982444763184, 10.99308967590332, 10.727702140808105, 9.16746711730957, 9.87986946105957, 7.976932525634766, 10.336792945861816, 9.871049880981445, 10.347524642944336, 9.595613479614258, 5.908379077911377, 9.119528770446777, 4.280869007110596, 5.6651201248168945, 7.45719575881958, 11.351771354675293, 11.393950462341309, 11.78974437713623, 8.339557647705078, 8.709068298339844, 9.143946647644043, 9.290532112121582, 12.738910675048828, 9.61684513092041, 15.694729804992676, 12.238446235656738, 11.125096321105957, 9.69075870513916, 11.089886665344238, 7.860908031463623, 12.249107360839844, 11.01905632019043, 13.221363067626953, 13.003652572631836, 7.411805152893066, 12.193955421447754, 8.372605323791504, 12.187567710876465, 6.829841613769531, 6.623359680175781, 9.673225402832031, 10.397866249084473, 11.987213134765625, 7.614468097686768, 14.708850860595703, 5.525975704193115, 8.140669822692871, 8.983752250671387, 9.57558822631836, 11.067390441894531].\n"
     ]
    }
   ],
   "source": [
    "runtime_client = boto3.client(\"runtime.sagemaker\", region_name=region)\n",
    "response = runtime_client.invoke_endpoint(\n",
    "    EndpointName=predictor.endpoint_name, ContentType=\"text/libsvm\", Body=payload\n",
    ")\n",
    "result = response[\"Body\"].read().decode(\"ascii\")\n",
    "print(\"Predicted values are {}.\".format(result))\n",
    "# 여러 input을 한번에 처리 가능"
   ]
  },
  {
   "cell_type": "code",
   "execution_count": null,
   "metadata": {},
   "outputs": [],
   "source": [
    "predictor.delete_endpoint()"
   ]
  },
  {
   "cell_type": "code",
   "execution_count": 29,
   "metadata": {},
   "outputs": [],
   "source": [
    "from sagemaker.predictor import Predictor\n",
    "\n",
    "predictor2 = Predictor(\n",
    "    endpoint_name='sagemaker-xgboost-2022-01-20-09-29-22-106')\n",
    "\n",
    "predictor2.delete_endpoint()"
   ]
  }
 ],
 "metadata": {
  "instance_type": "ml.t3.medium",
  "kernelspec": {
   "display_name": "Python 3 (Data Science)",
   "language": "python",
   "name": "python3__SAGEMAKER_INTERNAL__arn:aws:sagemaker:ap-south-1:394103062818:image/datascience-1.0"
  },
  "language_info": {
   "codemirror_mode": {
    "name": "ipython",
    "version": 3
   },
   "file_extension": ".py",
   "mimetype": "text/x-python",
   "name": "python",
   "nbconvert_exporter": "python",
   "pygments_lexer": "ipython3",
   "version": "3.7.10"
  }
 },
 "nbformat": 4,
 "nbformat_minor": 4
}