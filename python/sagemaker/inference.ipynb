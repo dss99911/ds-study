{
 "cells": [
  {
   "cell_type": "markdown",
   "source": [
    "https://github.com/aws/amazon-sagemaker-examples/blob/master/introduction_to_amazon_algorithms/xgboost_abalone/xgboost_inferenece_script_mode.ipynb"
   ],
   "metadata": {
    "collapsed": false,
    "pycharm": {
     "name": "#%% md\n"
    }
   }
  },
  {
   "cell_type": "code",
   "execution_count": 5,
   "metadata": {
    "pycharm": {
     "name": "#%%\n"
    }
   },
   "outputs": [
    {
     "name": "stdout",
     "output_type": "stream",
     "text": [
      "CPU times: user 49.7 ms, sys: 6.07 ms, total: 55.7 ms\n",
      "Wall time: 117 ms\n"
     ]
    }
   ],
   "source": [
    "\n",
    "%%time\n",
    "\n",
    "import io\n",
    "import os\n",
    "import boto3\n",
    "import sagemaker\n",
    "import time\n",
    "\n",
    "role = sagemaker.get_execution_role()\n",
    "region = boto3.Session().region_name\n",
    "\n",
    "# S3 bucket for saving code and model artifacts.\n",
    "# Feel free to specify a different bucket here if you wish.\n",
    "bucket = sagemaker.Session().default_bucket()\n",
    "prefix = \"sagemaker/DEMO-xgboost-dist-script\""
   ]
  },
  {
   "cell_type": "code",
   "execution_count": null,
   "metadata": {
    "pycharm": {
     "name": "#%%\n"
    }
   },
   "outputs": [],
   "source": [
    "%%time\n",
    "s3 = boto3.client(\"s3\")\n",
    "# Load the dataset\n",
    "FILE_DATA = \"abalone2\"\n",
    "s3.download_file(\n",
    "    \"sagemaker-sample-files\", f\"datasets/tabular/uci_abalone/abalone.libsvm\", FILE_DATA\n",
    ")\n",
    "sagemaker.Session().upload_data(FILE_DATA, bucket=bucket, key_prefix=prefix + \"/train\")"
   ]
  },
  {
   "cell_type": "code",
   "execution_count": 7,
   "metadata": {
    "pycharm": {
     "name": "#%%\n"
    }
   },
   "outputs": [
    {
     "name": "stdout",
     "output_type": "stream",
     "text": [
      "Training job DEMO-xgboost-inference-script-mode-2022-01-20-10-25-25\n"
     ]
    }
   ],
   "source": [
    "from sagemaker.inputs import TrainingInput\n",
    "from sagemaker.xgboost.estimator import XGBoost\n",
    "\n",
    "job_name = \"DEMO-xgboost-inference-script-mode-\" + time.strftime(\"%Y-%m-%d-%H-%M-%S\", time.gmtime())\n",
    "print(\"Training job\", job_name)\n",
    "\n",
    "hyperparameters = {\n",
    "    \"max_depth\": \"5\",\n",
    "    \"eta\": \"0.2\",\n",
    "    \"gamma\": \"4\",\n",
    "    \"min_child_weight\": \"6\",\n",
    "    \"subsample\": \"0.7\",\n",
    "    \"objective\": \"reg:squarederror\",\n",
    "    \"num_round\": \"50\",\n",
    "    \"verbosity\": \"2\",\n",
    "}\n",
    "\n",
    "instance_type = \"ml.c5.xlarge\"\n",
    "\n",
    "xgb_script_mode_estimator = XGBoost(\n",
    "    entry_point=\"abalone.py\",\n",
    "    hyperparameters=hyperparameters,\n",
    "    role=role,\n",
    "    instance_count=1,\n",
    "    instance_type=instance_type,\n",
    "    framework_version=\"1.3-1\",\n",
    "    output_path=\"s3://{}/{}/{}/output\".format(bucket, prefix, job_name),\n",
    ")\n",
    "\n",
    "content_type = \"text/libsvm\"\n",
    "train_input = TrainingInput(\n",
    "    \"s3://{}/{}/{}/\".format(bucket, prefix, \"train\"), content_type=content_type\n",
    ")"
   ]
  },
  {
   "cell_type": "code",
   "execution_count": null,
   "metadata": {
    "pycharm": {
     "name": "#%%\n"
    }
   },
   "outputs": [],
   "source": [
    "xgb_script_mode_estimator.fit({\"train\": train_input, \"validation\": train_input}, job_name=job_name)\n"
   ]
  },
  {
   "cell_type": "code",
   "execution_count": null,
   "metadata": {
    "pycharm": {
     "name": "#%%\n"
    }
   },
   "outputs": [],
   "source": [
    "%%writefile abalone_inference.py\n",
    "import json\n",
    "import os\n",
    "import pickle as pkl\n",
    "\n",
    "import numpy as np\n",
    "\n",
    "import sagemaker_xgboost_container.encoder as xgb_encoders\n",
    "\n",
    "\n",
    "def model_fn(model_dir):\n",
    "    \"\"\"\n",
    "    Deserialize and return fitted model.\n",
    "    \"\"\"\n",
    "    model_file = \"xgboost-model\"\n",
    "    booster = pkl.load(open(os.path.join(model_dir, model_file), \"rb\"))\n",
    "    return booster\n",
    "\n",
    "\n",
    "def input_fn(request_body, request_content_type):\n",
    "    \"\"\"\n",
    "    The SageMaker XGBoost model server receives the request data body and the content type,\n",
    "    and invokes the `input_fn`.\n",
    "\n",
    "    Return a DMatrix (an object that can be passed to predict_fn).\n",
    "    \"\"\"\n",
    "    if request_content_type == \"text/libsvm\":\n",
    "        return xgb_encoders.libsvm_to_dmatrix(request_body)\n",
    "    else:\n",
    "        raise ValueError(\n",
    "            \"Content type {} is not supported.\".format(request_content_type)\n",
    "        )\n",
    "\n",
    "\n",
    "def predict_fn(input_data, model):\n",
    "    \"\"\"\n",
    "    SageMaker XGBoost model server invokes `predict_fn` on the return value of `input_fn`.\n",
    "\n",
    "    Return a two-dimensional NumPy array where the first columns are predictions\n",
    "    and the remaining columns are the feature contributions (SHAP values) for that prediction.\n",
    "    \"\"\"\n",
    "    prediction = model.predict(input_data)\n",
    "    feature_contribs = model.predict(input_data, pred_contribs=True, validate_features=False)\n",
    "    output = np.hstack((prediction[:, np.newaxis], feature_contribs))\n",
    "    return output\n",
    "\n",
    "\n",
    "def output_fn(predictions, content_type):\n",
    "    \"\"\"\n",
    "    After invoking predict_fn, the model server invokes `output_fn`.\n",
    "    \"\"\"\n",
    "    if content_type == \"text/csv\":\n",
    "        return ','.join(str(x) for x in predictions[0])\n",
    "    else:\n",
    "        raise ValueError(\"Content type {} is not supported.\".format(content_type))\n"
   ]
  },
  {
   "cell_type": "code",
   "execution_count": 31,
   "metadata": {
    "pycharm": {
     "name": "#%%\n"
    }
   },
   "outputs": [
    {
     "name": "stdout",
     "output_type": "stream",
     "text": [
      "Overwriting abalone_inference.py\n"
     ]
    }
   ],
   "source": [
    "%%writefile abalone_inference.py\n",
    "\n",
    "# same with above. \n",
    "import json\n",
    "import os\n",
    "import pickle as pkl\n",
    "\n",
    "import numpy as np\n",
    "\n",
    "import sagemaker_xgboost_container.encoder as xgb_encoders\n",
    "\n",
    "def model_fn(model_dir):\n",
    "    \"\"\"\n",
    "    Deserialize and return fitted model.\n",
    "    \"\"\"\n",
    "    model_file = \"xgboost-model\"\n",
    "    booster = pkl.load(open(os.path.join(model_dir, model_file), \"rb\"))\n",
    "    return booster\n",
    "\n",
    "# input_fn, predict_fn, output_fn대신에, transform_fn을 사용해도 됨.\n",
    "# content_type : request data's content type\n",
    "# accept_type : response data's content type\n",
    "# model : model from model_fn\n",
    "def transform_fn(model, request_body, content_type, accept_type):\n",
    "    dmatrix = xgb_encoders.libsvm_to_dmatrix(request_body)\n",
    "    prediction = model.predict(dmatrix)\n",
    "    feature_contribs = model.predict(dmatrix, pred_contribs=True, validate_features=False)\n",
    "    output = np.hstack((prediction[:, np.newaxis], feature_contribs))\n",
    "    return ','.join(str(x) for x in output[0])"
   ]
  },
  {
   "cell_type": "code",
   "execution_count": null,
   "metadata": {
    "pycharm": {
     "is_executing": true,
     "name": "#%%\n"
    }
   },
   "outputs": [],
   "source": [
    "from sagemaker.xgboost.model import XGBoostModel\n",
    "\n",
    "model_data = xgb_script_mode_estimator.model_data\n",
    "dependencies = [\"inference\"]  # inference 폴더의 코드 파일을 entry_point실행코드에서 사용 할 수 있는듯.\n",
    "\n",
    "print(model_data)\n",
    "# s3://{bucket}/{prefix}/DEMO-xgboost-inference-script-mode-2022-01-20-10-25-25/output/DEMO-xgboost-inference-script-mode-2022-01-20-10-25-25/output/model.tar.gz\n",
    "xgb_inference_model = XGBoostModel(\n",
    "    model_data=model_data,\n",
    "    role=role,\n",
    "    entry_point=\"abalone_inference.py\",\n",
    "    dependencies=dependencies,\n",
    "    framework_version=\"1.3-1\",\n",
    ")"
   ]
  },
  {
   "cell_type": "code",
   "execution_count": 34,
   "metadata": {
    "pycharm": {
     "name": "#%%\n"
    }
   },
   "outputs": [
    {
     "name": "stdout",
     "output_type": "stream",
     "text": [
      "-----------!"
     ]
    }
   ],
   "source": [
    "predictor = xgb_inference_model.deploy(\n",
    "    initial_instance_count=1,\n",
    "    instance_type=\"ml.c5.xlarge\",\n",
    ")\n",
    "# 에러시, Cloud watch 로그 확인"
   ]
  },
  {
   "cell_type": "code",
   "execution_count": 35,
   "metadata": {
    "pycharm": {
     "name": "#%%\n"
    }
   },
   "outputs": [],
   "source": [
    "import numpy as np\n",
    "import matplotlib.pyplot as plt\n",
    "import pandas as pd\n",
    "import seaborn as sns\n",
    "\n",
    "\n",
    "def plot_feature_contributions(prediction):\n",
    "\n",
    "    attribute_names = [\n",
    "        \"Sex\",  # nominal / -- / M, F, and I (infant)\n",
    "        \"Length\",  # continuous / mm / Longest shell measurement\n",
    "        \"Diameter\",  # continuous / mm / perpendicular to length\n",
    "        \"Height\",  # continuous / mm / with meat in shell\n",
    "        \"Whole weight\",  # continuous / grams / whole abalone\n",
    "        \"Shucked weight\",  # continuous / grams / weight of meat\n",
    "        \"Viscera weight\",  # continuous / grams / gut weight (after bleeding)\n",
    "        \"Shell weight\",  # continuous / grams / after being dried\n",
    "    ]\n",
    "\n",
    "    prediction, _, *shap_values, bias = prediction\n",
    "\n",
    "    if len(shap_values) != len(attribute_names):\n",
    "        raise ValueError(\"Length mismatch between shap values and attribute names.\")\n",
    "\n",
    "    df = pd.DataFrame(data=[shap_values], index=[\"SHAP\"], columns=attribute_names).T\n",
    "    df.sort_values(by=\"SHAP\", inplace=True)\n",
    "\n",
    "    df[\"bar_start\"] = bias + df.SHAP.cumsum().shift().fillna(0.0)\n",
    "    df[\"bar_end\"] = df.bar_start + df.SHAP\n",
    "    df[[\"bar_start\", \"bar_end\"]] = np.sort(df[[\"bar_start\", \"bar_end\"]].values)\n",
    "    df[\"hue\"] = df.SHAP.apply(lambda x: 0 if x > 0 else 1)\n",
    "\n",
    "    sns.set(style=\"white\")\n",
    "\n",
    "    ax1 = sns.barplot(x=df.bar_end, y=df.index, data=df, orient=\"h\", palette=\"vlag\")\n",
    "    for idx, patch in enumerate(ax1.patches):\n",
    "        x_val = patch.get_x() + patch.get_width() + 0.8\n",
    "        y_val = patch.get_y() + patch.get_height() / 2\n",
    "        shap_value = df.SHAP.values[idx]\n",
    "        value = \"{0}{1:.2f}\".format(\"+\" if shap_value > 0 else \"-\", shap_value)\n",
    "        ax1.annotate(value, (x_val, y_val), ha=\"right\", va=\"center\")\n",
    "\n",
    "    ax2 = sns.barplot(x=df.bar_start, y=df.index, data=df, orient=\"h\", color=\"#FFFFFF\")\n",
    "    ax2.set_xlim(\n",
    "        df[[\"bar_start\", \"bar_end\"]].values.min() - 1, df[[\"bar_start\", \"bar_end\"]].values.max() + 1\n",
    "    )\n",
    "    ax2.axvline(x=bias, color=\"#000000\", alpha=0.2, linestyle=\"--\", linewidth=1)\n",
    "    ax2.set_title(\"base value: {0:.1f}  →  model output: {1:.1f}\".format(bias, prediction))\n",
    "    ax2.set_xlabel(\"Abalone age\")\n",
    "\n",
    "    sns.despine(left=True, bottom=True)\n",
    "\n",
    "    plt.tight_layout()\n",
    "    plt.show()\n",
    "\n",
    "\n",
    "def predict(predictor, libsvm_str):\n",
    "    label, *features = libsvm_str.strip().split()\n",
    "    return predictor.predict(\" \".join([\"-99\"] + features))  # use dummy label -99\n",
    "\n",
    "def predict_and_plot(predictor, libsvm_str):\n",
    "    predictions = predict(predictor, libsvm_str)\n",
    "    np_array = np.array([float(x) for x in predictions[0]])\n",
    "    plot_feature_contributions(np_array)"
   ]
  },
  {
   "cell_type": "code",
   "execution_count": 37,
   "metadata": {
    "pycharm": {
     "name": "#%%\n"
    }
   },
   "outputs": [
    {
     "data": {
      "text/plain": [
       "[['6.8677483',\n",
       "  '0.0',\n",
       "  '-0.30064666',\n",
       "  '-0.24506651',\n",
       "  '-0.0022994853',\n",
       "  '-0.27728304',\n",
       "  '-0.9549683',\n",
       "  '1.4780574',\n",
       "  '0.18853942',\n",
       "  '-2.94223',\n",
       "  '9.923646']]"
      ]
     },
     "execution_count": 37,
     "metadata": {},
     "output_type": "execute_result"
    }
   ],
   "source": [
    "a_young_abalone = \"6 1:3 2:0.37 3:0.29 4:0.095 5:0.249 6:0.1045 7:0.058 8:0.067\"\n",
    "predict(predictor, a_young_abalone)"
   ]
  },
  {
   "cell_type": "code",
   "execution_count": 38,
   "metadata": {
    "pycharm": {
     "name": "#%%\n"
    }
   },
   "outputs": [
    {
     "data": {
      "image/png": "[encoded data removed]",
      "text/plain": [
       "<Figure size 432x288 with 1 Axes>"
      ]
     },
     "metadata": {},
     "output_type": "display_data"
    }
   ],
   "source": [
    "\n",
    "predict_and_plot(predictor, a_young_abalone)"
   ]
  },
  {
   "cell_type": "code",
   "execution_count": 39,
   "metadata": {
    "pycharm": {
     "name": "#%%\n"
    }
   },
   "outputs": [
    {
     "data": {
      "image/png": "[encoded data removed]",
      "text/plain": [
       "<Figure size 432x288 with 1 Axes>"
      ]
     },
     "metadata": {},
     "output_type": "display_data"
    }
   ],
   "source": [
    "an_old_abalone = \"15 1:1 2:0.655 3:0.53 4:0.175 5:1.2635 6:0.486 7:0.2635 8:0.415\"\n",
    "predict_and_plot(predictor, an_old_abalone)"
   ]
  },
  {
   "cell_type": "code",
   "execution_count": 41,
   "metadata": {
    "pycharm": {
     "name": "#%%\n"
    }
   },
   "outputs": [],
   "source": [
    "\n",
    "predictor.delete_endpoint()"
   ]
  }
 ],
 "metadata": {
  "kernelspec": {
   "display_name": "Python 3 (Data Science)",
   "language": "python",
   "name": "python3__SAGEMAKER_INTERNAL__arn:aws:sagemaker:ap-south-1:394103062818:image/datascience-1.0"
  },
  "language_info": {
   "codemirror_mode": {
    "name": "ipython",
    "version": 3
   },
   "file_extension": ".py",
   "mimetype": "text/x-python",
   "name": "python",
   "nbconvert_exporter": "python",
   "pygments_lexer": "ipython3",
   "version": "3.7.10"
  }
 },
 "nbformat": 4,
 "nbformat_minor": 4
}