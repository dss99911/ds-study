{
 "cells": [
  {
   "cell_type": "markdown",
   "metadata": {
    "collapsed": true,
    "pycharm": {
     "name": "#%% md\n"
    }
   },
   "source": [
    "\n",
    "GPU 적용 방법\n",
    "- sagemaker gpu instance type이 있는데, 추가로 뭔가 설정해줘야 하는지 확인 필요.\n",
    "https://xgboost.readthedocs.io/en/stable/gpu/index.html\n",
    "\n",
    "Hyper parameter 에서 아래 설명 해주고, ml.g4dn.16xlarge 등의 gpu instance type 을 선택해주면 됨.\n",
    "params = {\n",
    "    'tree_method': 'gpu_hist',\n",
    "}"
   ]
  }
 ],
 "metadata": {
  "kernelspec": {
   "display_name": "Python 3",
   "language": "python",
   "name": "python3"
  },
  "language_info": {
   "codemirror_mode": {
    "name": "ipython",
    "version": 2
   },
   "file_extension": ".py",
   "mimetype": "text/x-python",
   "name": "python",
   "nbconvert_exporter": "python",
   "pygments_lexer": "ipython2",
   "version": "2.7.6"
  }
 },
 "nbformat": 4,
 "nbformat_minor": 0
}