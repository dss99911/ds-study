{
 "cells": [
  {
   "cell_type": "markdown",
   "metadata": {
    "collapsed": true
   },
   "source": [
    "https://python-visualization.github.io/folium/quickstart.html#Getting-Started\n"
   ]
  },
  {
   "cell_type": "code",
   "execution_count": null,
   "outputs": [],
   "source": [],
   "metadata": {
    "collapsed": false,
    "pycharm": {
     "name": "#%%\n"
    }
   }
  },
  {
   "cell_type": "code",
   "execution_count": null,
   "outputs": [],
   "source": [
    "import numpy as np\n",
    "import folium\n",
    "import awswrangler as wr\n",
    "import pandas as pd\n",
    "from datetime import timedelta\n",
    "\n",
    "location_log = pd.read_parquet(\"location-log.snappy.parquet\")\n",
    "location_log = location_log[[\"latitude\", \"longitude\", \"location_accuracy\", \"location_time\"]]\n",
    "location_log = location_log[~location_log[\"latitude\"].isna()]\n",
    "location_log = location_log[~location_log[\"location_accuracy\"].isna()]\n",
    "location_log['location_time'] = pd.to_datetime(location_log['location_time'], unit='ms')\n",
    "location_log['location_time'] = location_log['location_time'] + timedelta(minutes=330)\n",
    "sample_user_50 = location_log[location_log[\"location_accuracy\"] < 50].copy()\n",
    "print(len(sample_user_50))"
   ],
   "metadata": {
    "collapsed": false,
    "pycharm": {
     "name": "#%%\n"
    }
   }
  },
  {
   "cell_type": "code",
   "execution_count": null,
   "outputs": [],
   "source": [
    "# find color : 새벽 2시이면 파란색, 낮 2시이면 빨간색\n",
    "#\n",
    "time_color_ratio = sample_user_50.apply(lambda r: 1 - abs((((r[\"location_time\"].hour - 2 + 24) % 24) - 12) / 12), axis='columns')\n",
    "red_color = time_color_ratio.apply(lambda r: hex(int(r * 255))[2:])\n",
    "red_color = red_color.apply(lambda r: (\"0\" + r) if len(r) == 1 else r )\n",
    "blue_color = time_color_ratio.apply(lambda r: hex(255 - int(r * 255))[2:])\n",
    "blue_color = blue_color.apply(lambda r: (\"0\" + r) if len(r) == 1 else r )\n",
    "sample_user_50[\"color\"] = \"#\" + red_color + \"00\" + blue_color\n"
   ],
   "metadata": {
    "collapsed": false,
    "pycharm": {
     "name": "#%%\n"
    }
   }
  },
  {
   "cell_type": "code",
   "execution_count": 153,
   "metadata": {
    "pycharm": {
     "name": "#%%\n"
    }
   },
   "outputs": [],
   "source": []
  },
  {
   "cell_type": "code",
   "execution_count": 2,
   "metadata": {},
   "outputs": [
    {
     "data": {
      "text/plain": "0        0825756651de060e\n1196     0bfa10079bd11392\n1835     15d566766e5fb440\n2032     19edbdc7b07bef63\n2385     260cb7bf1e5b56de\n2481     27bee8cc6aef3d0a\n2861     42d8bdbdde8a4156\n3059     4446ccf2950b2992\n3262     4929d07dcb1b1d14\n3568     4d8733074e3834d6\n3599     51d7f33b1f123b5c\n3675     54ad187401f55f07\n3721     55ca7a358d8e918c\n3858     57eb0de6bb2dfac3\n5195     5be78ea100322081\n6619     5e767767c310ca70\n8228     6233ca2d6cb00b85\n9136     633d038dd2e2dd99\n9208     6de40ef7f4a73ff8\n9302     7df3e9cc17c7dd78\n9695     7e26d12f1e3e45e9\n9711     7e5ce961c546c586\n9758     83e7d64adc914738\n9984     91384d3e12c8dc6f\n10249    97eb106f53401e6d\n10342    9ede52ed89b11a20\n11069    a5a88600c29e08ed\n11202    b8f9f37729918b31\n12302    bcb1ac06cba2a040\n12523    bd333a24bd96ef5a\n12855    c11a334ffc46b190\n13351    c54c35fbea04bd1a\n13548    c864575d4070c063\n13592    cf0f39d4681c61d2\n13893    d4c0d1fdb7dd538e\n14044    de64d637a0249d7d\n14252    e15ef93c28df56ca\n14884    ec7e7eae92862ff0\n17336    f38dc17664dd7dc5\n17494    f70d68ffdda4f6ae\n17980    f7d6fd43da66cc32\n18620    fb3eb815cb2eb29a\n18770    fdd31e87e9570e69\nName: android_id, dtype: object"
     },
     "execution_count": 2,
     "metadata": {},
     "output_type": "execute_result"
    }
   ],
   "source": [
    "from geopy import Point\n",
    "from geopy import distance\n",
    "import statistics\n",
    "# clustering\n",
    "\n",
    "class Location:\n",
    "\n",
    "    def __init__(self, latitude, longitude, accuracy, time, color):\n",
    "        self.time = time\n",
    "        self.accuracy = accuracy\n",
    "        self.longitude = longitude\n",
    "        self.latitude = latitude\n",
    "        self.color = color\n",
    "\n",
    "\n",
    "class LocationCluster:\n",
    "    centroid = None\n",
    "\n",
    "    def __init__(self, location: Location):\n",
    "        self.locations = []\n",
    "        self.dates = set()\n",
    "        self.night_time_dates = set()\n",
    "        self.add_location(location)\n",
    "\n",
    "    def add_location(self, location: Location):\n",
    "        self.locations.append(location)\n",
    "        self.update_centroid()\n",
    "        self.dates.add(location.time.date())\n",
    "        if (location.time.hour < 6) or (location.time.hour > 22):\n",
    "            self.night_time_dates.add(location.time.date())\n",
    "\n",
    "    def update_centroid(self):\n",
    "        centroid_latitude = statistics.mean(map(lambda l: l.latitude, self.locations))\n",
    "        centroid_longitude = statistics.mean(map(lambda l: l.longitude, self.locations))\n",
    "        centroid_accuracy = max(map(lambda l: l.accuracy, self.locations))\n",
    "        self.centroid = Location(centroid_latitude, centroid_longitude, centroid_accuracy, 0, \"\")\n",
    "\n",
    "    def is_in_cluster(self, location: Location):\n",
    "        d = distance.distance((location.latitude, location.longitude), (self.centroid.latitude, self.centroid.longitude)).meters\n",
    "        if (d - self.centroid.accuracy - location.accuracy) < 0:\n",
    "            return True\n",
    "        return False\n",
    "\n",
    "clusters = []\n",
    "\n",
    "\n",
    "\n",
    "def add_in_clusters(location: Location):\n",
    "    for c in clusters:\n",
    "        if c.is_in_cluster(location):\n",
    "            c.add_location(location)\n",
    "            return True\n",
    "\n",
    "    return False\n",
    "\n",
    "for i in range(len(sample_user_50)):\n",
    "\n",
    "    r = sample_user_50.iloc[i]\n",
    "    l = Location(r[\"latitude\"], r[\"longitude\"], r[\"location_accuracy\"], r[\"location_time\"], r[\"color\"])\n",
    "\n",
    "    if not add_in_clusters(l):\n",
    "        clusters.append(LocationCluster(l))\n",
    "\n",
    "clusters.sort(key=lambda c: len(c.dates), reverse=True)\n",
    "clusters_top5 = clusters[0:5]\n",
    "clusters_top5.sort(key=lambda c: len(c.night_time_dates), reverse=True)"
   ]
  },
  {
   "cell_type": "code",
   "execution_count": 5,
   "outputs": [
    {
     "name": "stdout",
     "output_type": "stream",
     "text": [
      "952\n"
     ]
    }
   ],
   "source": [
    "\n",
    "def add_cluster(cluster: LocationCluster, first, map_):\n",
    "    for l in cluster.locations:\n",
    "        folium.Circle(\n",
    "            location=[l.latitude, l.longitude], popup=f\"time: {l.time}, <a href='https://www.google.com/maps/search/{l.latitude},+{l.longitude}/@{l.latitude},{l.longitude},17z'>google map</a>\",\n",
    "            color=l.color, fill=False,\n",
    "            radius=l.accuracy).add_to(map2)\n",
    "\n",
    "    folium.Marker(\n",
    "        location=[cluster.centroid.latitude, cluster.centroid.longitude],\n",
    "        tooltip=f\"date count : {len(cluster.dates)}, night count : {len(cluster.night_time_dates)}\",\n",
    "        popup=f\"<a href='https://www.google.com/maps/search/{cluster.centroid.latitude},+{cluster.centroid.longitude}/@{cluster.centroid.latitude},{cluster.centroid.longitude},17z'>google map</a>\",\n",
    "        icon=folium.Icon(color=\"red\", icon=\"info-sign\") if first else None\n",
    "    ).add_to(map_)\n",
    "\n",
    "latitude = clusters_top5[0].centroid.latitude\n",
    "longitude = clusters_top5[0].centroid.longitude\n",
    "location = [latitude, longitude]\n",
    "map2 = folium.Map(location=location, tiles=\"cartodbpositron\",\n",
    "                  zoom_start=15)\n",
    "for i in range(len(clusters_top5)):\n",
    "    c = clusters_top5[i]\n",
    "    add_cluster(c, i == 0, map2)\n",
    "map2.save(\"test.html\")\n"
   ],
   "metadata": {
    "collapsed": false,
    "pycharm": {
     "name": "#%%\n"
    }
   }
  },
  {
   "cell_type": "code",
   "execution_count": null,
   "outputs": [],
   "source": [
    "bb = l.time.hour"
   ],
   "metadata": {
    "collapsed": false,
    "pycharm": {
     "name": "#%%\n"
    }
   }
  },
  {
   "cell_type": "code",
   "execution_count": 60,
   "metadata": {},
   "outputs": [],
   "source": [
    "bb = l.time.hour"
   ]
  },
  {
   "cell_type": "code",
   "execution_count": null,
   "metadata": {
    "pycharm": {
     "name": "#%%\n"
    },
    "scrolled": false
   },
   "outputs": [],
   "source": [
    "\n",
    "\n",
    "\n",
    "latitude = sample_user[\"latitude\"].iloc[0]\n",
    "longitude = sample_user[\"longitude\"].iloc[0]\n",
    "location = [latitude, longitude]\n",
    "\n",
    "map2 = folium.Map(location=location, tiles=\"cartodbpositron\",\n",
    "                 zoom_start=15)\n",
    "\n",
    "sample_user.apply(lambda row: folium.Circle(\n",
    "    location=[row[\"latitude\"], row[\"longitude\"]], popup=row[\"time\"],\n",
    "    color=row[\"color\"], fill=False,\n",
    "    radius=row[\"location_accuracy\"]).add_to(map2), axis=1)\n",
    "\n",
    "map2"
   ]
  },
  {
   "cell_type": "code",
   "execution_count": null,
   "metadata": {
    "pycharm": {
     "name": "#%%\n"
    }
   },
   "outputs": [],
   "source": [
    "\n",
    "\n",
    "sample_user_home = sample_user[(sample_user[\"time\"] < 7) | (sample_user[\"time\"] > 22)].copy()\n",
    "latitude = sample_user_home[\"latitude\"].iloc[0]\n",
    "longitude = sample_user_home[\"longitude\"].iloc[0]\n",
    "location = [latitude, longitude]\n",
    "\n",
    "map3 = folium.Map(location=location, tiles=\"cartodbpositron\",\n",
    "                 zoom_start=11)\n",
    "\n",
    "sample_user_home.apply(lambda row: folium.Circle(\n",
    "    location=[row[\"latitude\"], row[\"longitude\"]], popup=row[\"time\"],\n",
    "    color=row[\"color\"], fill=False,\n",
    "    radius=row[\"location_accuracy\"]).add_to(map3), axis=1)\n",
    "\n",
    "map3"
   ]
  },
  {
   "cell_type": "code",
   "execution_count": null,
   "metadata": {
    "pycharm": {
     "name": "#%%\n"
    }
   },
   "outputs": [],
   "source": [
    "sample_user_home"
   ]
  },
  {
   "cell_type": "code",
   "execution_count": null,
   "metadata": {
    "pycharm": {
     "name": "#%%\n"
    }
   },
   "outputs": [],
   "source": [
    "sample_user_acc = sample_user[(sample_user[\"location_accuracy\"] <=20)].copy()\n",
    "latitude = sample_user_acc[\"latitude\"].iloc[0]\n",
    "longitude = sample_user_acc[\"longitude\"].iloc[0]\n",
    "location = [latitude, longitude]\n",
    "\n",
    "map4 = folium.Map(location=location, tiles=\"cartodbpositron\",\n",
    "                 zoom_start=11)\n",
    "\n",
    "sample_user_acc.apply(lambda row: folium.Circle(\n",
    "    location=[row[\"latitude\"], row[\"longitude\"]], popup=row[\"time\"],\n",
    "    color=row[\"color\"], fill=False,\n",
    "    radius=row[\"location_accuracy\"]).add_to(map4), axis=1)\n",
    "\n",
    "map4"
   ]
  },
  {
   "cell_type": "code",
   "execution_count": null,
   "metadata": {},
   "outputs": [],
   "source": []
  }
 ],
 "metadata": {
  "kernelspec": {
   "display_name": "Python 3",
   "language": "python",
   "name": "python3"
  },
  "language_info": {
   "codemirror_mode": {
    "name": "ipython",
    "version": 3
   },
   "file_extension": ".py",
   "mimetype": "text/x-python",
   "name": "python",
   "nbconvert_exporter": "python",
   "pygments_lexer": "ipython3",
   "version": "3.9.4"
  }
 },
 "nbformat": 4,
 "nbformat_minor": 1
}